{
 "metadata": {
  "name": ""
 },
 "nbformat": 3,
 "nbformat_minor": 0,
 "worksheets": [
  {
   "cells": [
    {
     "cell_type": "markdown",
     "metadata": {},
     "source": [
      "# Lita Linked Data Python Notebook\n",
      "\n",
      "In this webinar we will be using the Python programming languages to manipulate MARC21 and MARCXML into BIBFRAME, Dublin Core, and Schema.org graphs made-up of RDF triples in order to expose this linked data in the form of RDF xml, RDF N-triples, HTML5 RDFa, HTML5 microdata, and JSON Linked Data"
     ]
    },
    {
     "cell_type": "code",
     "collapsed": false,
     "input": [
      "from IPython.display import Image\n",
      "lita = Image(filename=\"static/img/lita-logo.png\")\n",
      "lita"
     ],
     "language": "python",
     "metadata": {},
     "outputs": [
      {
       "metadata": {},
       "output_type": "pyout",
       "png": "[encoded data removed]",
       "prompt_number": 1,
       "text": [
        "<IPython.core.display.Image at 0x5e45b70>"
       ]
      }
     ],
     "prompt_number": 1
    },
    {
     "cell_type": "markdown",
     "metadata": {},
     "source": [
      "# Task #1: Reading MARC21 Files\n",
      "\n",
      "MARC21 is a binary format developed by the Library of Congress. Dealing with the raw MARC21 can be challenging because MARC21 combines both fixed-length and variable length fields. Fortunately a number of open-source libraries exist for manipulating MARC21 records that hides some of the complexity behind the format. First we will use Ed Summer's PyMARC module for coding experiment. \n",
      "\n",
      "For this session our initial data-set is made-up of random MARC21 records exported from Colorado College's ILS. "
     ]
    },
    {
     "cell_type": "code",
     "collapsed": false,
     "input": [
      "import pymarc\n",
      "marc_records = [] \n",
      "with open(\"static/marc/marc-sample.mrc\") as marc_file:\n",
      "    marc_reader = pymarc.MARCReader(marc_file)\n",
      "    for rec in marc_reader:\n",
      "        marc_records.append(rec)"
     ],
     "language": "python",
     "metadata": {},
     "outputs": [],
     "prompt_number": 2
    },
    {
     "cell_type": "markdown",
     "metadata": {},
     "source": [
      "### Badge Assessment"
     ]
    },
    {
     "cell_type": "markdown",
     "metadata": {},
     "source": [
      "*  How many MARC records are in the list **marc_records**?"
     ]
    },
    {
     "cell_type": "code",
     "collapsed": false,
     "input": [],
     "language": "python",
     "metadata": {},
     "outputs": []
    },
    {
     "cell_type": "markdown",
     "metadata": {},
     "source": [
      "*  How would you substitute your own MARC21 file for *marc-sample.mrc* using the above Python code?"
     ]
    },
    {
     "cell_type": "code",
     "collapsed": false,
     "input": [],
     "language": "python",
     "metadata": {},
     "outputs": []
    },
    {
     "cell_type": "markdown",
     "metadata": {},
     "source": [
      "*  Describe what happens when you execute the following code snippet: "
     ]
    },
    {
     "cell_type": "code",
     "collapsed": false,
     "input": [
      "print(marc_records[1905])"
     ],
     "language": "python",
     "metadata": {},
     "outputs": [
      {
       "output_type": "stream",
       "stream": "stdout",
       "text": [
        "=LDR  01843nam  2200397 a 4504\n",
        "=001  32460661\n",
        "=003  OCoLC\n",
        "=005  19950512094931.0\n",
        "=008  950512s1995\\\\\\\\ksuab\\\\\\\\b\\\\\\f000\\0\\eng\\d\n",
        "=035  \\\\$a.b12436422$btd$c-\n",
        "=035  \\\\$atmp95128051\n",
        "=040  \\\\$aGPO$cGPO$dDLC\n",
        "=043  \\\\$an-us-ks$an-us-nb\n",
        "=049  \\\\$aCOCU\n",
        "=074  \\\\$a0624-B\n",
        "=086  \\\\$aI 19.42/4:94-4187\n",
        "=086  0\\$aI 19.42/4:94-4187\n",
        "=100  1\\$aJordan, Paul Robert,$d1933-\n",
        "=245  10$aSurface-water-quality assessment of the lower Kansas River Basin, Kansas and Nebraska :$bsuspended-sediment conditions, May 1987 through April 1990, and trends, 1963 through April 1990 /$cby P.R. Jordan.\n",
        "=246  3\\$aSurface water quality assessment of the lower Kansas River Basin, Kansas and Nebraska.\n",
        "=246  30$aSuspended-sediment conditions, May 1987 through April 1990, and trends, 1963 through April 1990.\n",
        "=260  \\\\$aLawrence, Kan. :$bU.S. Geological Survey, National Water-Quality Assessment Program ;$aDenver, CO :$bEarth Science Information Center, Open-File Reports Section [distributor],$c1995.\n",
        "=300  \\\\$aiv, 36 p. :$bill., maps ;$c28 cm.\n",
        "=440  \\0$aWater-resources investigations report ;$v94-4187.\n",
        "=500  \\\\$aShipping list no.: 95-0164-P.\n",
        "=504  \\\\$aIncludes bibliographical references (p. 33-36)\n",
        "=650  \\0$aWater quality management$zKansas.\n",
        "=650  \\0$aWater quality management$zNebraska.\n",
        "=650  \\0$aSuspended sediments$xPhysiological effect$zKansas$zKansas River Watershed.\n",
        "=651  \\0$aKansas River Watershed (Kan.)$xEnvironmental conditions.\n",
        "=710  2\\$aNational Water-Quality Assessment Program (U.S.)\n",
        "=907  \\\\$a.b12436422\n",
        "=902  \\\\$a130106\n",
        "=999  \\\\$b1$c950703$dm$ea$f-$g0\n",
        "=994  \\\\$atd\n",
        "=945  \\\\$aI 19.42/4:94-4187$g1$i33027003091141$j0$ltd   $h0$o-$p$0.00$r-$s-$t4$u0$v0$w0$x0$y.i12982362$z950517\n",
        "\n"
       ]
      }
     ],
     "prompt_number": 3
    },
    {
     "cell_type": "markdown",
     "metadata": {},
     "source": [
      "[Write Answer here]"
     ]
    },
    {
     "cell_type": "markdown",
     "metadata": {},
     "source": [
      "# Task #2: Retrieving MARC21 Data\n",
      "\n",
      "In this task, we'll start off with displaying the title and author for the first 100 MARC Records using two **pymarc** record methods. "
     ]
    },
    {
     "cell_type": "code",
     "collapsed": false,
     "input": [
      "for i, rec in enumerate(marc_records[0:100]):\n",
      "    print(\"{0} {1} {2}\".format(i,\n",
      "                               rec.title(),\n",
      "                               rec.author()))\n"
     ],
     "language": "python",
     "metadata": {},
     "outputs": [
      {
       "output_type": "stream",
       "stream": "stdout",
       "text": [
        "0 Power, gender, values / None\n",
        "1 Men in arms;a history of warfare and its interrelationships with Western society Preston, Richard Arthur.\n",
        "2 Perspectives in ornithology :essays presented for the centennial of the American Ornithologists' Union / None\n",
        "3 The youth of Andre Gide. Delay, Jean, 1907-\n",
        "4 College :the undergraduate experience in America / Boyer, Ernest L.\n",
        "5 On the incomprehensible nature of God / John Chrysostom, Saint, d. 407.\n",
        "6 Commentary on the Metaphysics of Aristotle. Thomas, Aquinas, Saint, 1225?-1274.\n",
        "7 Energy sources :conservation and renewables (APS, Washington, DC, 1985 / None\n",
        "8 Walking on air :an informal history of inflight service of seven U.S. airlines / McLaughlin, Helen E.\n",
        "9 Distribution of racial and ethnic groups in Colorado public schools, 1970-71 / None\n",
        "10 Hockey: bantam to pro Kelley, Jack.\n",
        "11 Guidebook of Vermejo Park, northeastern New Mexico :Twenty- seventh Field Conference, September 30, October 1 and 2, 1976 / New Mexico Geological Society.\n",
        "12 Battered women, shattered lives / Hofeller, Kathleen H.\n",
        "13 Fertility of the sea. Symposium on Fertility of the Sea (1969 : S\ufffdao Paulo, Brazil)\n",
        "14 Elements of meteorology Miller, Albert, 1923-\n",
        "15 Ancient Australia;the story of its past geography and life Laseron, Charles.\n",
        "16 Calibration of hominoid evolution;recent advances in isotopic and other dating methods applicable to the origin of man: [proceedings of the symposium held at Burg Wartenstein, Austria, 3rd-12th July, 1971]; None\n",
        "17 Raphael / Jones, Roger, 1947-\n",
        "18 A Passage to India :essays in interpretation / None\n",
        "19 The Renewal of preaching:theory and practice, None\n",
        "20 Liturgy in transition. None\n",
        "21 Time and space relationships of the Taconic allochthon and autochthon. Zen, E-an, 1928-\n",
        "22 The doctrine of judicial review, its legal and historical basis, and other essays, Corwin, Edward Samuel, 1878-1963.\n",
        "23 The spotted hyena;a study of predation and social behavior. Kruuk, H. (Hans)\n",
        "24 The Roots of urban unrest / None\n",
        "25 Genetics, environment, and behavior;implications for educational policy. None\n",
        "26 The errors of evolution.An examination of the nebular theory, geological evolution, the origin of life, and Darwinism. Patterson, Robert, 1829-1885.\n",
        "27 Probing plant structure;a scanning electron microscope study of some anatomical features in plants and the relationship of these structures to physiological processes Troughton, John.\n",
        "28 Immunochemistry and the biosynthesis of antibodies. Haurowitz, Felix, 1896-1987.\n",
        "29 Biology of earthworms Edwards, C. A. (Clive Arthur), 1925-\n",
        "30 \"We the people\" and others :duality and America's treatment of its racial minorities / Ringer, Benjamin B. (Benjamin Bernard), 1920-\n",
        "31 Identifying and estimating the genetic impact of chemical mutagens / None\n",
        "32 The Nuclear power controversy. None\n",
        "33 The Confucian persuasion. Wright, Arthur F., 1913-1976.\n",
        "34 Shawnee! :The ceremonialism of a native Indian tribe and its cultural background / Howard, James H. (James Henri), 1925-1982.\n",
        "35 The earth in decay:a history of British geomorphology, 1578-1878 Herries Davies, G. L.\n",
        "36 Authors on film. Geduld, Harry M.\n",
        "37 Plant speciation. Grant, Verne.\n",
        "38 Contemporary approaches to moral education :an annotated bibliography and guide to research / Leming, James S., 1941-\n",
        "39 Alienation and absence in the novels of Marguerite Duras / Murphy, Carol J.\n",
        "40 International management and economic development: with particular reference to India and other developing countries Richman, Barry M.\n",
        "41 Will they ever finish Bruckner Boulevard? Huxtable, Ada Louise.\n",
        "42 Late modern: the visual arts since 1945. Lucie-Smith, Edward.\n",
        "43 Catholicism in English-speaking lands. Carthy, M. P. (Mary Peter)\n",
        "44 The origins of the Bible, Soares, Theodore Gerald, b. 1869.\n",
        "45 Memories of Lenin / Krupskaya, Nadezhda Konstantinovna, 1869-1939.\n",
        "46 The gift :imagination and the erotic life of property / Hyde, Lewis, 1945-\n",
        "47 The China reader, None\n",
        "48 French primitive photography;[exhibition, Nov. 17th through Dec. 28th, 1969] Alfred Stieglitz Center.\n",
        "49 Aftershock;the story of a psychotic episode. Wolfe, Ellen.\n",
        "50 Paintbox on the frontier:the life and times of George Caleb Bingham. Constant, Alberta Wilson.\n",
        "51 Elgar orchestral music. Kennedy, Michael, 1926-\n",
        "52 Judy / Frank, Gerold, 1907-1998.\n",
        "53 Passages about earth;an exploration of the new planetary culture. Thompson, William Irwin.\n",
        "54 Water resource planning in Colorado / Crawford, Ivan C.\n",
        "55 Syndicalism in France, Lorwin, Lewis Levitzki, 1883-1970.\n",
        "56 The Rocky Mountain bench;the territorial supreme courts of Colorado, Montana, and Wyoming, 1861-1890, Guice, John D. W.\n",
        "57 A quiet revolution, British sculpture since 1965 / None\n",
        "58 The second partition of Poland;a study in diplomatic history, Lord, Robert Howard, 1885-1954.\n",
        "59 The influence of the enlightenment on the French Revolution. Church, William Farr, 1912-\n",
        "60 The city as a work of art :London, Paris, Vienna / Olsen, Donald J.\n",
        "61 The letters of the Tsaritsa to the Tsar, 1914-1916. Alexandra, Empress, consort of Nicholas II, Emperor of Russia, 1872-1918.\n",
        "62 Jean-Jacques Rousseau;a critical study of his life and writings. Green, F. C. (Frederick Charles), 1891-1964.\n",
        "63 The Analects of Confucius; Confucius.\n",
        "64 The Jews: their history. Finkelstein, Louis, 1895-1991.\n",
        "65 Roman imperialism in the late republic, Badian, E.\n",
        "66 The saga of the buffalo. Martin, Cy.\n",
        "67 The Soviet Germans :past and present / Fleischhauer, Ingeborg.\n",
        "68 Das Schicksal der Deutschen in Rumanien. None\n",
        "69 Images of Victorian womanhood in English art / Casteras, Susan P.\n",
        "70 Numerology / Bell, Eric Temple, 1883-1960.\n",
        "71 The fateful years;memoirs of a French ambassador in Berlin, 1931-1938. Fran\ufffdcois-Poncet, Andr\ufffde, 1887-1978.\n",
        "72 Willa, the life of Willa Cather / Robinson, Phyllis C.\n",
        "73 Improving American innovation / Mehlhaff, Carol J.\n",
        "74 The city of God against the pagans. Augustine, Saint, Bishop of Hippo.\n",
        "75 Springs of scientific creativity :essays on founders of modern science / None\n",
        "76 From the other side of the river :a self-portrait of China today / Fan, Kuang Huan, 1932-\n",
        "77 Iran, past and present / Wilber, Donald Newton.\n",
        "78 Christopher Marlowe; Marlowe, Christopher, 1564-1593.\n",
        "79 America confronts a revolutionary world, 1776-1976 / Williams, William Appleman.\n",
        "80 From the Greeks to Darwin / Osborn, Henry Fairfield, 1857-1935.\n",
        "81 George Herbert / Stewart, Stanley, 1931-\n",
        "82 Women in LC's terms :a thesaurus of Library of Congress subject headings relating to women / Dickstein, Ruth.\n",
        "83 Spiritual narratives / None\n",
        "84 Harold Pinter / Almansi, Guido, 1931-\n",
        "85 White-jacket;or, The world in a man-of-war. Melville, Herman, 1819-1891.\n",
        "86 El viaje en el jardin / Fern\ufffdandez Santos, Jes\ufffdus.\n",
        "87 The wagonmasters;high plains freighting from the earliest days of the Santa Fe trail to 1880. Walker, Henry P. (Henry Pickering)\n",
        "88 Emma Goldman / Watson, Martha, 1941-\n",
        "89 Valley of the spirits;the Upper Skagit Indians of western Washington Collins, June M.\n",
        "90 Women and criminality :the woman as victim, offender, and practitioner / Flowers, R. Barri (Ronald Barri)\n",
        "91 Traditional medicine in modern China;science, nationalism, and the tensions of cultural change Croizier, Ralph C.\n",
        "92 State and community governments in the federal system / Press, Charles.\n",
        "93 The territorial growth of the United States  / National Geographic Society (U.S.). Cartographic Division.\n",
        "94 Tradition and revolt in Latin America, and other essays Humphreys, R. A. (Robert Arthur), 1907-1999.\n",
        "95 Historical essay on the colony of Surinam, 1788. None\n",
        "96 Spies of the Confederacy Bakeless, John, 1894-1978.\n",
        "97 Great Britain and the Confederate Navy, 1861-1865, Merli, Frank J., 1929-2000.\n",
        "98 3000 years of black poetry;an anthology, Lomax, Alan, 1915-2002.\n",
        "99 Counterpoint; debates about debate Kruger, Arthur N.\n"
       ]
      }
     ],
     "prompt_number": 4
    },
    {
     "cell_type": "code",
     "collapsed": false,
     "input": [
      "# Unicode values in these records\n",
      "print(marc_records[13].author())"
     ],
     "language": "python",
     "metadata": {},
     "outputs": [
      {
       "output_type": "stream",
       "stream": "stdout",
       "text": [
        "Symposium on Fertility of the Sea (1969 : S\ufffdao Paulo, Brazil)\n"
       ]
      }
     ],
     "prompt_number": 5
    },
    {
     "cell_type": "markdown",
     "metadata": {},
     "source": [
      "These MARC21 records are not encoded correctly for Unicode **S\u00e3o Paulo, Brazil** should be displayed as"
     ]
    },
    {
     "cell_type": "code",
     "collapsed": false,
     "input": [
      "print(u\"S\u00e3o Paulo, Brazil\")"
     ],
     "language": "python",
     "metadata": {},
     "outputs": [
      {
       "output_type": "stream",
       "stream": "stdout",
       "text": [
        "S\u00e3o Paulo, Brazil\n"
       ]
      }
     ],
     "prompt_number": 6
    },
    {
     "cell_type": "markdown",
     "metadata": {},
     "source": [
      "### Methods of the MARC Record class\n",
      "\n",
      "The `pymarc` Record class has a number of convenience methods that we will be using from now on. You can always see what methods are available for any Python class by running the following: "
     ]
    },
    {
     "cell_type": "code",
     "collapsed": false,
     "input": [
      "for row in dir(marc_records[8842]):\n",
      "    if row.startswith(\"_\"): # Filter out internal properties\n",
      "        continue\n",
      "    print(row)"
     ],
     "language": "python",
     "metadata": {},
     "outputs": [
      {
       "output_type": "stream",
       "stream": "stdout",
       "text": [
        "add_field\n",
        "add_grouped_field\n",
        "add_ordered_field\n",
        "addedentries\n",
        "as_dict\n",
        "as_json\n",
        "as_marc\n",
        "as_marc21\n",
        "author\n",
        "decode_marc\n",
        "fields\n",
        "force_utf8\n",
        "get_fields\n",
        "isbn\n",
        "leader\n",
        "location\n",
        "next\n",
        "notes\n",
        "physicaldescription\n",
        "pos\n",
        "publisher\n",
        "pubyear\n",
        "remove_field\n",
        "subjects\n",
        "title\n",
        "uniformtitle\n"
       ]
      }
     ],
     "prompt_number": 7
    },
    {
     "cell_type": "markdown",
     "metadata": {},
     "source": [
      "### Badge Assessment:\n",
      "\n",
      "*  What is the title for record 8 in marc_records? (remember python lists start with a 0 index)\n",
      "\n",
      "\n"
     ]
    },
    {
     "cell_type": "code",
     "collapsed": false,
     "input": [],
     "language": "python",
     "metadata": {},
     "outputs": []
    },
    {
     "cell_type": "markdown",
     "metadata": {},
     "source": [
      "*  What is the isbn for record 8?"
     ]
    },
    {
     "cell_type": "code",
     "collapsed": false,
     "input": [],
     "language": "python",
     "metadata": {},
     "outputs": []
    },
    {
     "cell_type": "markdown",
     "metadata": {},
     "source": [
      "### Adding a new function\n",
      "\n",
      "Now we will create a function for classifying MARC21 Records as Schema.org CreativeWork Classes. "
     ]
    },
    {
     "cell_type": "code",
     "collapsed": false,
     "input": [
      "def classify_marc21_schema(record):\n",
      "    \"Classifies a MARC21 record as specific Work class based on BIBFRAME website\"\n",
      "    leader = record.leader\n",
      "    field007 = record['007']\n",
      "    field336 = record['336']\n",
      "    work_class = None\n",
      "    if leader[6] == 'a':\n",
      "        if field007 is not None:\n",
      "            test_value = field007.data[0]\n",
      "            if test_value == 'a' or test_value == 'd':\n",
      "                work_class = 'Map' # http://schema.org/Map\n",
      "            elif test_value == 'h': # Microfilm\n",
      "                work_class = 'Photograph' # http://schema.org/Photograph\n",
      "            elif ['m', 'v'].count(test_value) > 0:\n",
      "                work_class = 'VideoObject' # http://schema.org/VideoObject\n",
      "        else:\n",
      "            # Book is the default for Language Material\n",
      "            work_class =  'Book'\n",
      "    elif leader[6] == 'e' or leader[6] == 'f':\n",
      "        # Map is the default\n",
      "        work_class = 'Map'\n",
      "        if field007 is not None:\n",
      "            if field007.data[0] == 'r':\n",
      "                work_class = 'Dataset'\n",
      "    elif leader[6] == 'g':\n",
      "        work_class = 'Photograph'\n",
      "    elif leader[6] == 'i':\n",
      "        work_class = 'AudioObject' # http://schema.org/AudioObject\n",
      "    elif leader[6] == 'j':\n",
      "        work_class = 'MusicRecording'\n",
      "    elif leader[6] == 'k':\n",
      "        work_class = 'Photograph' \n",
      "    elif leader[6] == 'm':\n",
      "        work_class = 'SoftwareApplication'\n",
      "    if work_class is None:\n",
      "        work_class = 'CreativeWork'\n",
      "    return work_class"
     ],
     "language": "python",
     "metadata": {},
     "outputs": [],
     "prompt_number": 9
    },
    {
     "cell_type": "markdown",
     "metadata": {},
     "source": [
      "Using the `classify_marc21_schema` function, we can now create some summary statistics about our MARC21 dataset by looping through our list of MARC21 records."
     ]
    },
    {
     "cell_type": "code",
     "collapsed": false,
     "input": [
      "class_counters = {}\n",
      "for i, record in enumerate(marc_records):\n",
      "    result = classify_marc21_schema(record)\n",
      "    if not result in class_counters:\n",
      "        class_counters[result] = 1\n",
      "    else:\n",
      "        class_counters[result] = class_counters[result] + 1\n",
      "print(class_counters)"
     ],
     "language": "python",
     "metadata": {},
     "outputs": [
      {
       "output_type": "stream",
       "stream": "stdout",
       "text": [
        "{'AudioObject': 1, 'Map': 158, 'Photograph': 387, 'VideoObject': 3, 'MusicRecording': 299, 'Book': 5319, 'SoftwareApplication': 126, 'CreativeWork': 3660}\n"
       ]
      }
     ],
     "prompt_number": 10
    },
    {
     "cell_type": "code",
     "collapsed": false,
     "input": [
      "import matplotlib.pyplot as plt\n",
      "%matplotlib inline\n",
      "schema_org_fig = plt.figure()\n",
      "axes = schema_org_fig.add_axes([0.1, 0.1, 0.8, 0.8])\n",
      "axes.pie(class_counters.values(), labels=class_counters.keys(), autopct='%.2f')\n",
      "axes.set_title('Number of Schema.org Classes in MARC21 Records');"
     ],
     "language": "python",
     "metadata": {},
     "outputs": [
      {
       "ename": "NameError",
       "evalue": "name 'class_counters' is not defined",
       "output_type": "pyerr",
       "traceback": [
        "\u001b[1;31m---------------------------------------------------------------------------\u001b[0m\n\u001b[1;31mNameError\u001b[0m                                 Traceback (most recent call last)",
        "\u001b[1;32m<ipython-input-1-08ef3c199825>\u001b[0m in \u001b[0;36m<module>\u001b[1;34m()\u001b[0m\n\u001b[0;32m      3\u001b[0m \u001b[0mschema_org_fig\u001b[0m \u001b[1;33m=\u001b[0m \u001b[0mplt\u001b[0m\u001b[1;33m.\u001b[0m\u001b[0mfigure\u001b[0m\u001b[1;33m(\u001b[0m\u001b[1;33m)\u001b[0m\u001b[1;33m\u001b[0m\u001b[0m\n\u001b[0;32m      4\u001b[0m \u001b[0maxes\u001b[0m \u001b[1;33m=\u001b[0m \u001b[0mschema_org_fig\u001b[0m\u001b[1;33m.\u001b[0m\u001b[0madd_axes\u001b[0m\u001b[1;33m(\u001b[0m\u001b[1;33m[\u001b[0m\u001b[1;36m0.1\u001b[0m\u001b[1;33m,\u001b[0m \u001b[1;36m0.1\u001b[0m\u001b[1;33m,\u001b[0m \u001b[1;36m0.8\u001b[0m\u001b[1;33m,\u001b[0m \u001b[1;36m0.8\u001b[0m\u001b[1;33m]\u001b[0m\u001b[1;33m)\u001b[0m\u001b[1;33m\u001b[0m\u001b[0m\n\u001b[1;32m----> 5\u001b[1;33m \u001b[0maxes\u001b[0m\u001b[1;33m.\u001b[0m\u001b[0mpie\u001b[0m\u001b[1;33m(\u001b[0m\u001b[0mclass_counters\u001b[0m\u001b[1;33m.\u001b[0m\u001b[0mvalues\u001b[0m\u001b[1;33m(\u001b[0m\u001b[1;33m)\u001b[0m\u001b[1;33m,\u001b[0m \u001b[0mlabels\u001b[0m\u001b[1;33m=\u001b[0m\u001b[0mclass_counters\u001b[0m\u001b[1;33m.\u001b[0m\u001b[0mkeys\u001b[0m\u001b[1;33m(\u001b[0m\u001b[1;33m)\u001b[0m\u001b[1;33m,\u001b[0m \u001b[0mautopct\u001b[0m\u001b[1;33m=\u001b[0m\u001b[1;34m'%.2f'\u001b[0m\u001b[1;33m)\u001b[0m\u001b[1;33m\u001b[0m\u001b[0m\n\u001b[0m\u001b[0;32m      6\u001b[0m \u001b[0maxes\u001b[0m\u001b[1;33m.\u001b[0m\u001b[0mset_title\u001b[0m\u001b[1;33m(\u001b[0m\u001b[1;34m'Number of Schema.org Classes in MARC21 Records'\u001b[0m\u001b[1;33m)\u001b[0m\u001b[1;33m;\u001b[0m\u001b[1;33m\u001b[0m\u001b[0m\n",
        "\u001b[1;31mNameError\u001b[0m: name 'class_counters' is not defined"
       ]
      },
      {
       "metadata": {},
       "output_type": "display_data",
       "png": "[encoded data removed]",
       "text": [
        "<matplotlib.figure.Figure at 0x854f128>"
       ]
      }
     ],
     "prompt_number": 1
    },
    {
     "cell_type": "markdown",
     "metadata": {},
     "source": [
      "### Badge Assessment:\n",
      "\n",
      "*  How would you loop through the `marc_records` list and get the titles for the three VideoObjects?"
     ]
    },
    {
     "cell_type": "code",
     "collapsed": false,
     "input": [],
     "language": "python",
     "metadata": {},
     "outputs": []
    },
    {
     "cell_type": "markdown",
     "metadata": {},
     "source": [
      "# Task #3: Parsing MARC XML\n",
      "\n",
      "In this task, we'll be using start with a XML file derived the same MARC21 records we used earlier. "
     ]
    },
    {
     "cell_type": "code",
     "collapsed": false,
     "input": [
      "from rdflib import Namespace\n",
      "from lxml import etree\n",
      "MARC_NS = Namespace('http://www.loc.gov/MARC21/slim')\n",
      "marc_xml = etree.parse('static/marc/marc-sample.xml')\n",
      "xml_marc_records = marc_xml.findall('/{{{0}}}record'.format(MARC_NS))"
     ],
     "language": "python",
     "metadata": {},
     "outputs": [],
     "prompt_number": 12
    },
    {
     "cell_type": "markdown",
     "metadata": {},
     "source": [
      "## Badge Assessment:\n",
      "\n",
      "*   Describe what happens when you execute the following code snippet: "
     ]
    },
    {
     "cell_type": "code",
     "collapsed": false,
     "input": [
      "print(etree.tostring(xml_marc_records[13], pretty_print=True))"
     ],
     "language": "python",
     "metadata": {},
     "outputs": [
      {
       "output_type": "stream",
       "stream": "stdout",
       "text": [
        "<marc:record xmlns:marc=\"http://www.loc.gov/MARC21/slim\" xmlns:xsi=\"http://www.w3.org/2001/XMLSchema-instance\"><marc:leader>01103cam a2200301   4500</marc:leader>\n",
        "<marc:controlfield tag=\"001\">lccn74132383</marc:controlfield>\n",
        "<marc:controlfield tag=\"008\">711116s1971    nyua     b    100 0 eng  </marc:controlfield><marc:datafield tag=\"010\" ind1=\" \" ind2=\" \"><marc:subfield code=\"a\">74132383</marc:subfield></marc:datafield><marc:datafield tag=\"020\" ind1=\" \" ind2=\" \"><marc:subfield code=\"a\">0677149603</marc:subfield></marc:datafield><marc:datafield tag=\"035\" ind1=\" \" ind2=\" \"><marc:subfield code=\"a\">.b10021978</marc:subfield><marc:subfield code=\"b\">tb</marc:subfield><marc:subfield code=\"c\">-</marc:subfield></marc:datafield><marc:datafield tag=\"035\" ind1=\" \" ind2=\" \"><marc:subfield code=\"a\">(CoCC)102640</marc:subfield></marc:datafield><marc:datafield tag=\"041\" ind1=\"0\" ind2=\" \"><marc:subfield code=\"a\">eng</marc:subfield><marc:subfield code=\"b\">spapor</marc:subfield></marc:datafield><marc:datafield tag=\"090\" ind1=\" \" ind2=\" \"><marc:subfield code=\"a\">GC2.S83 1969</marc:subfield></marc:datafield><marc:datafield tag=\"111\" ind1=\"2\" ind2=\" \"><marc:subfield code=\"a\">Symposium on Fertility of the Sea</marc:subfield><marc:subfield code=\"d\">(1969 :</marc:subfield><marc:subfield code=\"c\">Sa&#771;o Paulo, Brazil)</marc:subfield></marc:datafield><marc:datafield tag=\"245\" ind1=\"1\" ind2=\"0\"><marc:subfield code=\"a\">Fertility of the sea.</marc:subfield><marc:subfield code=\"c\">Edited by John D. Costlow, Jr.</marc:subfield></marc:datafield><marc:datafield tag=\"260\" ind1=\" \" ind2=\" \"><marc:subfield code=\"a\">New York,</marc:subfield><marc:subfield code=\"b\">Gordon and Breach</marc:subfield><marc:subfield code=\"c\">[1971]</marc:subfield></marc:datafield><marc:datafield tag=\"300\" ind1=\" \" ind2=\" \"><marc:subfield code=\"a\">2 v.</marc:subfield><marc:subfield code=\"b\">illus.</marc:subfield><marc:subfield code=\"c\">24 cm.</marc:subfield></marc:datafield><marc:datafield tag=\"500\" ind1=\" \" ind2=\" \"><marc:subfield code=\"a\">In English; summaries in English and Spanish or Portuguese.</marc:subfield></marc:datafield><marc:datafield tag=\"504\" ind1=\" \" ind2=\" \"><marc:subfield code=\"a\">Includes bibliographies.</marc:subfield></marc:datafield><marc:datafield tag=\"650\" ind1=\" \" ind2=\"0\"><marc:subfield code=\"a\">Oceanography</marc:subfield><marc:subfield code=\"v\">Congresses.</marc:subfield></marc:datafield><marc:datafield tag=\"650\" ind1=\" \" ind2=\"0\"><marc:subfield code=\"a\">Marine ecology</marc:subfield><marc:subfield code=\"v\">Congresses.</marc:subfield></marc:datafield><marc:datafield tag=\"700\" ind1=\"1\" ind2=\" \"><marc:subfield code=\"a\">Costlow, John D.,</marc:subfield><marc:subfield code=\"d\">1927-</marc:subfield></marc:datafield><marc:datafield tag=\"907\" ind1=\" \" ind2=\" \"><marc:subfield code=\"a\">.b10021978</marc:subfield></marc:datafield><marc:datafield tag=\"902\" ind1=\" \" ind2=\" \"><marc:subfield code=\"a\">130106</marc:subfield></marc:datafield><marc:datafield tag=\"999\" ind1=\" \" ind2=\" \"><marc:subfield code=\"b\">1</marc:subfield><marc:subfield code=\"c\">940803</marc:subfield><marc:subfield code=\"d\">m</marc:subfield><marc:subfield code=\"e\">a</marc:subfield><marc:subfield code=\"f\">-</marc:subfield><marc:subfield code=\"g\">0</marc:subfield></marc:datafield><marc:datafield tag=\"994\" ind1=\" \" ind2=\" \"><marc:subfield code=\"a\">tb</marc:subfield></marc:datafield><marc:datafield tag=\"945\" ind1=\" \" ind2=\" \"><marc:subfield code=\"a\">GC2.S83 1969</marc:subfield><marc:subfield code=\"c\">v. 2</marc:subfield><marc:subfield code=\"g\">1</marc:subfield><marc:subfield code=\"i\">33027000341267</marc:subfield><marc:subfield code=\"j\">0</marc:subfield><marc:subfield code=\"l\">tb   </marc:subfield><marc:subfield code=\"h\">0</marc:subfield><marc:subfield code=\"o\">-</marc:subfield><marc:subfield code=\"p\">$0.00</marc:subfield><marc:subfield code=\"r\">-</marc:subfield><marc:subfield code=\"s\">-</marc:subfield><marc:subfield code=\"t\">1</marc:subfield><marc:subfield code=\"u\">0</marc:subfield><marc:subfield code=\"v\">0</marc:subfield><marc:subfield code=\"w\">0</marc:subfield><marc:subfield code=\"x\">0</marc:subfield><marc:subfield code=\"y\">.i10026526</marc:subfield><marc:subfield code=\"z\">940804</marc:subfield></marc:datafield><marc:datafield tag=\"945\" ind1=\" \" ind2=\" \"><marc:subfield code=\"a\">GC2.S83 1969</marc:subfield><marc:subfield code=\"c\">v. 1</marc:subfield><marc:subfield code=\"g\">1</marc:subfield><marc:subfield code=\"i\">33027000341275</marc:subfield><marc:subfield code=\"j\">0</marc:subfield><marc:subfield code=\"l\">tb   </marc:subfield><marc:subfield code=\"h\">0</marc:subfield><marc:subfield code=\"o\">-</marc:subfield><marc:subfield code=\"p\">$0.00</marc:subfield><marc:subfield code=\"r\">-</marc:subfield><marc:subfield code=\"s\">-</marc:subfield><marc:subfield code=\"t\">1</marc:subfield><marc:subfield code=\"u\">0</marc:subfield><marc:subfield code=\"v\">0</marc:subfield><marc:subfield code=\"w\">0</marc:subfield><marc:subfield code=\"x\">0</marc:subfield><marc:subfield code=\"y\">.i10026538</marc:subfield><marc:subfield code=\"z\">940804</marc:subfield></marc:datafield></marc:record>\n",
        "\n",
        "\n"
       ]
      }
     ],
     "prompt_number": 13
    },
    {
     "cell_type": "markdown",
     "metadata": {},
     "source": [
      "[Answer here]"
     ]
    },
    {
     "cell_type": "markdown",
     "metadata": {},
     "source": [
      "*  How many &lt;marc:record&gt;  elements are in the xml_marc_records list?"
     ]
    },
    {
     "cell_type": "code",
     "collapsed": false,
     "input": [
      "len"
     ],
     "language": "python",
     "metadata": {},
     "outputs": []
    },
    {
     "cell_type": "markdown",
     "metadata": {},
     "source": [
      "*  Do a quick check to see if all of the MARC Records in our initial list of records were converted correctly to XML"
     ]
    },
    {
     "cell_type": "code",
     "collapsed": false,
     "input": [],
     "language": "python",
     "metadata": {},
     "outputs": []
    },
    {
     "cell_type": "markdown",
     "metadata": {},
     "source": [
      "## Task #4: Retrieving Data with XPath\n",
      "\n",
      "With MARC XML, we can use XML tools and technologies like XPath to filter and select elements."
     ]
    },
    {
     "cell_type": "code",
     "collapsed": false,
     "input": [
      "xpath_string = \"/{{{0}}}record/{{{0}}}datafield[@tag='245']/\".format(MARC_NS)\n",
      "title_elements = marc_xml.findall(xpath_string)\n",
      "for i, element in enumerate(title_elements[0:100]):\n",
      "    print(\"{0} subfield {1}: {2}\".format(i, element.attrib.get('code'), element.text))"
     ],
     "language": "python",
     "metadata": {},
     "outputs": [
      {
       "output_type": "stream",
       "stream": "stdout",
       "text": [
        "0 subfield a: Power, gender, values /\n",
        "1 subfield c: Judith Genova, editor.\n",
        "2 subfield a: Men in arms;\n",
        "3 subfield b: a history of warfare and its interrelationships with Western society\n",
        "4 subfield c: [by] Richard A. Preston, Sydney F. Wise and Herman O. Werner.\n",
        "5 subfield a: Perspectives in ornithology :\n",
        "6 subfield b: essays presented for the centennial of the American Ornithologists' Union /\n",
        "7 subfield c: edited by Alan H. Brush and George A. Clark, Jr. ; sponsored by the American Ornithologists' Union.\n",
        "8 subfield a: The youth of Andre Gide.\n",
        "9 subfield c: Abridged and translated by June Guicharnaud.\n",
        "10 subfield a: College :\n",
        "11 subfield b: the undergraduate experience in America /\n",
        "12 subfield c: Ernest L. Boyer.\n",
        "13 subfield a: On the incomprehensible nature of God /\n",
        "14 subfield c: St. John Chrysostom ; translated by Paul W. Harkins.\n",
        "15 subfield a: Commentary on the Metaphysics of Aristotle.\n",
        "16 subfield c: Translated by John P. Rowan.\n",
        "17 subfield a: Energy sources :\n",
        "18 subfield b: conservation and renewables (APS, Washington, DC, 1985 /\n",
        "19 subfield c: edited by David Hafemeister, Henry Kelly, Barbara Levi.\n",
        "20 subfield a: Walking on air :\n",
        "21 subfield b: an informal history of inflight service of seven U.S. airlines /\n",
        "22 subfield c: by Helen E. McLaughlin.\n",
        "23 subfield a: Distribution of racial and ethnic groups in Colorado public schools, 1970-71 /\n",
        "24 subfield c: Prepared by Earl W. Phillips for Youth-Community Relations Unit, Office of Continuing Education, Colorado Department of Education.\n",
        "25 subfield a: Hockey: bantam to pro\n",
        "26 subfield c: [by] Jack Kelley [and] Milt Schmidt, with Al Hirshberg.\n",
        "27 subfield a: Guidebook of Vermejo Park, northeastern New Mexico :\n",
        "28 subfield b: Twenty- seventh Field Conference, September 30, October 1 and 2, 1976 /\n",
        "29 subfield c: editors : Rodney C. Ewing, Barry S. Kues.\n",
        "30 subfield a: Battered women, shattered lives /\n",
        "31 subfield c: by Kathleen H. Hofeller.\n",
        "32 subfield a: Fertility of the sea.\n",
        "33 subfield c: Edited by John D. Costlow, Jr.\n",
        "34 subfield a: Elements of meteorology\n",
        "35 subfield c: [by] Albert Miller and Jack C. Thompson.\n",
        "36 subfield a: Ancient Australia;\n",
        "37 subfield b: the story of its past geography and life\n",
        "38 subfield c: [by] Charles Laseron.\n",
        "39 subfield a: Calibration of hominoid evolution;\n",
        "40 subfield b: recent advances in isotopic and other dating methods applicable to the origin of man: [proceedings of the symposium held at Burg Wartenstein, Austria, 3rd-12th July, 1971];\n",
        "41 subfield c: scientific editors: W. W. Bishop and J. A. Miller; assistant editor: Sonia Cole.\n",
        "42 subfield a: Raphael /\n",
        "43 subfield c: Roger Jones and Nicholas Penny.\n",
        "44 subfield a: A Passage to India :\n",
        "45 subfield b: essays in interpretation /\n",
        "46 subfield c: edited by John Beer.\n",
        "47 subfield a: The Renewal of preaching:\n",
        "48 subfield b: theory and practice,\n",
        "49 subfield c: edited by Karl Rahner.\n",
        "50 subfield a: Liturgy in transition.\n",
        "51 subfield c: Edited by Herman Schmidt.\n",
        "52 subfield a: Time and space relationships of the Taconic allochthon and autochthon.\n",
        "53 subfield a: The doctrine of judicial review, its legal and historical basis, and other essays,\n",
        "54 subfield c: by Edward S. Corwin .\n",
        "55 subfield a: The spotted hyena;\n",
        "56 subfield b: a study of predation and social behavior.\n",
        "57 subfield a: The Roots of urban unrest /\n",
        "58 subfield c: edited by John Benyon and John Solomos.\n",
        "59 subfield a: Genetics, environment, and behavior;\n",
        "60 subfield b: implications for educational policy.\n",
        "61 subfield c: Edited by Lee Ehrman, Gilbert S. Omenn [and] Ernst Caspari. Contributors: V. Elving Anderson [and others]\n",
        "62 subfield a: The errors of evolution.\n",
        "63 subfield b: An examination of the nebular theory, geological evolution, the origin of life, and Darwinism.\n",
        "64 subfield c: By Robert Patterson ... edited, with an introduction, by H. L. Hastings.\n",
        "65 subfield a: Probing plant structure;\n",
        "66 subfield b: a scanning electron microscope study of some anatomical features in plants and the relationship of these structures to physiological processes\n",
        "67 subfield c: [by] John Troughton and Lesley A. Donaldson.\n",
        "68 subfield a: Immunochemistry and the biosynthesis of antibodies.\n",
        "69 subfield a: Biology of earthworms\n",
        "70 subfield c: [by] C. A. Edwards [and] J. R. Lofty.\n",
        "71 subfield a: \"We the people\" and others :\n",
        "72 subfield b: duality and America's treatment of its racial minorities /\n",
        "73 subfield c: Benjamin B. Ringer.\n",
        "74 subfield a: Identifying and estimating the genetic impact of chemical mutagens /\n",
        "75 subfield c: Committee on Chemical Environmental Mutagens, Board on Toxicology and Environmental Health Hazards, Commission on Life Sciences, National Research Council.\n",
        "76 subfield a: The Nuclear power controversy.\n",
        "77 subfield a: The Confucian persuasion.\n",
        "78 subfield a: Shawnee! :\n",
        "79 subfield b: The ceremonialism of a native Indian tribe and its cultural background /\n",
        "80 subfield c: James H. Howard.\n",
        "81 subfield a: The earth in decay:\n",
        "82 subfield b: a history of British geomorphology, 1578-1878\n",
        "83 subfield c: [by] Gordon L. Davies.\n",
        "84 subfield a: Authors on film.\n",
        "85 subfield c: Edited by Harry M. Geduld.\n",
        "86 subfield a: Plant speciation.\n",
        "87 subfield a: Contemporary approaches to moral education :\n",
        "88 subfield b: an annotated bibliography and guide to research /\n",
        "89 subfield c: James S. Leming.\n",
        "90 subfield a: Alienation and absence in the novels of Marguerite Duras /\n",
        "91 subfield c: Carol J. Murphy.\n",
        "92 subfield a: International management and economic development: with particular reference to India and other developing countries\n",
        "93 subfield c: [by] Barry M. Richman [and] Melvyn Copen.\n",
        "94 subfield a: Will they ever finish Bruckner Boulevard?\n",
        "95 subfield c: Pref. by Daniel P. Moynihan.\n",
        "96 subfield a: Late modern: the visual arts since 1945.\n",
        "97 subfield a: Catholicism in English-speaking lands.\n",
        "98 subfield a: The origins of the Bible,\n",
        "99 subfield c: by Theodore Gerald Soares.\n"
       ]
      }
     ],
     "prompt_number": 14
    },
    {
     "cell_type": "markdown",
     "metadata": {},
     "source": [
      "The `title_elements` list includes all of the subfields from the **245** field."
     ]
    },
    {
     "cell_type": "code",
     "collapsed": false,
     "input": [
      "rec_245s = xml_marc_records[13].findall(\"{{{0}}}datafield[@tag='245']/\".format(MARC_NS))\n",
      "for element in rec_245s:\n",
      "    print(etree.tostring(element))"
     ],
     "language": "python",
     "metadata": {},
     "outputs": [
      {
       "output_type": "stream",
       "stream": "stdout",
       "text": [
        "<marc:subfield xmlns:marc=\"http://www.loc.gov/MARC21/slim\" xmlns:xsi=\"http://www.w3.org/2001/XMLSchema-instance\" code=\"a\">Fertility of the sea.</marc:subfield>\n",
        "<marc:subfield xmlns:marc=\"http://www.loc.gov/MARC21/slim\" xmlns:xsi=\"http://www.w3.org/2001/XMLSchema-instance\" code=\"c\">Edited by John D. Costlow, Jr.</marc:subfield>\n"
       ]
      }
     ],
     "prompt_number": 15
    },
    {
     "cell_type": "markdown",
     "metadata": {},
     "source": [
      "We are now going to create a function that takes either a MARC21 or MARCXML record and returns the Library of Congress or Local call-number for the record."
     ]
    },
    {
     "cell_type": "code",
     "collapsed": false,
     "input": [
      "def get_call_number(record):\n",
      "    \"\"\"Function retrives a LOC or Local call-number from a 090 MARC field from either\n",
      "    a MARC21 or MARC XML record\n",
      "    \n",
      "    :param record: MARC record\n",
      "    \"\"\"\n",
      "    if type(record) == pymarc.Record:\n",
      "        all_090s = record.get_fields('090')\n",
      "        return ''.join([''.join(x.get_subfields('a')) for x in all_090s])\n",
      "    else:\n",
      "        all_090s = record.findall(\"{{{0}}}datafield[@tag='090']/{{{0}}}subfield[@code='a']\".format(MARC_NS))\n",
      "        return ''.join([x.text for x in all_090s])"
     ],
     "language": "python",
     "metadata": {},
     "outputs": [],
     "prompt_number": 16
    },
    {
     "cell_type": "code",
     "collapsed": false,
     "input": [
      "print(get_call_number(marc_records[13]))\n",
      "print(get_call_number(xml_marc_records[78]))"
     ],
     "language": "python",
     "metadata": {},
     "outputs": [
      {
       "output_type": "stream",
       "stream": "stdout",
       "text": [
        "GC2.S83 1969\n",
        "PR2661.E5 1903\n"
       ]
      }
     ],
     "prompt_number": 17
    },
    {
     "cell_type": "heading",
     "level": 3,
     "metadata": {},
     "source": [
      "Badge Assessment:"
     ]
    },
    {
     "cell_type": "markdown",
     "metadata": {},
     "source": [
      "*   What happens when the function `get_call_number` is given a MARC record that does not have a MARC field of 090?"
     ]
    },
    {
     "cell_type": "markdown",
     "metadata": {},
     "source": [
      "[Write answer here]"
     ]
    },
    {
     "cell_type": "markdown",
     "metadata": {},
     "source": [
      "*  How could you improve the XPath \"/{{{0}}}record/{{{0}}}datafield[@tag='245']/\" to just select the **a** subfields of the 245 field? "
     ]
    },
    {
     "cell_type": "code",
     "collapsed": false,
     "input": [],
     "language": "python",
     "metadata": {},
     "outputs": []
    },
    {
     "cell_type": "markdown",
     "metadata": {},
     "source": [
      "[Write answer here]"
     ]
    },
    {
     "cell_type": "markdown",
     "metadata": {},
     "source": [
      "## Task #5: Creating JSON LinkedData from MARC \n",
      "\n",
      "In this task will use the schema.org vocabulary to create JSON linked data from our MARC records both in MARC21 and MARC XML formats. Below is an example of schema.org JSON-LD (short for JSON Linkded Data) for one of the resources used in this presentation, an article titled, *Linking Things on the Web: A Pragmatic Examination of Linked Data for Libraries, Archives and Museums* by Ed Summers and Dorothea Salo."
     ]
    },
    {
     "cell_type": "raw",
     "metadata": {},
     "source": [
      "{\n",
      "\n",
      "    \"@context\": {\n",
      "        \"@vocab\": \"http://schema.org/\",\n",
      "        \"bf\": \"http://bibframe.org/vocab\"\n",
      "    },\n",
      "    \"@id\": \"http://intro2libys.info/Article/linking-things-on-the-web\",\n",
      "    \"@type\": \"ScholarlyArticle\",\n",
      "    \"author\": [\n",
      "        {\n",
      "            \"@context\": {\n",
      "                \"@vocab\": \"http://schema.org/\",\n",
      "                \"bf\": \"http://bibframe.org/vocab/\"\n",
      "            },\n",
      "            \"@id\": \"http://intro2libsys.info/Person/summers-ed\",\n",
      "            \"@type\": \"Person\",\n",
      "            \"bf:adminInfo\": {\n",
      "                \"bf:creationDate\": \"2013-12-29T06:48:02.515163\",\n",
      "                \"bf:descriptionConventions\": \"Using schema.org for descriptive metadata\",\n",
      "                \"bf:descriptionLanguage\": \"English\"\n",
      "            },\n",
      "            \"familyName\": \"Summers\",\n",
      "            \"givenName\": \"Ed\",\n",
      "            \"name\": \"Ed Summers\",\n",
      "            \"url\": \"http://intro2libsys.info/Person/EdSummers\"\n",
      "        },\n",
      "        {\n",
      "            \"@context\": {\n",
      "                \"@vocab\": \"http://schema.org/\",\n",
      "                \"bf\": \"http://bibframe.org/vocab/\"\n",
      "            },\n",
      "            \"@id\": \"http://intro2libsys.info/Person/salo-dorothea\",\n",
      "            \"@type\": \"Person\",\n",
      "            \"bf:adminInfo\": {\n",
      "                \"bf:creationDate\": \"2013-12-29T06:50:22.868813\",\n",
      "                \"bf:descriptionConventions\": \"Using schema.org for descriptive metadata\",\n",
      "                \"bf:descriptionLanguage\": \"English\"\n",
      "            },\n",
      "            \"familyName\": \"Salo\",\n",
      "            \"givenName\": \"Dorothea\",\n",
      "            \"name\": \"Dorothea Salo\",\n",
      "            \"url\": \"http://intro2libsys.info/Person/DorotheaSalo\"\n",
      "        }\n",
      "    ],\n",
      "    \"bf:adminInfo\": {\n",
      "        \"bf:creationDate\": \"2013-12-12T23:22:13.566000\",\n",
      "        \"bf:descriptionConventions\": \"Using schema.org for descriptive metadata\",\n",
      "        \"bf:descriptionLanguage\": \"English\"\n",
      "    },\n",
      "    \"bookFormat\": \"EBook\",\n",
      "    \"description\": \"Short Ebook on Linked Data in the cultural heritage sector: libraries, archives and museums\",\n",
      "    \"headline\": \"Linking Things on the Web: A Pragmatic Examination of Linked Data for Libraries, Archives and Museums\",\n",
      "    \"name\": \"linking-things-on-the-web-a-pragmatic-examination-of-linked-data-for-libraries-archives-and-museums\",\n",
      "    \"url\": \"http://arxiv.org/abs/1302.4591\"\n",
      "\n",
      "}"
     ]
    },
    {
     "cell_type": "markdown",
     "metadata": {},
     "source": [
      "<script>\n",
      "var context = {\n",
      "   \"@context\": {\n",
      "        \"@vocab\": \"http://schema.org/\",\n",
      "        \"bf\": \"http://bibframe.org/vocab\"\n",
      "   }\n",
      " }\n",
      "</script>"
     ]
    },
    {
     "cell_type": "markdown",
     "metadata": {},
     "source": [
      "We first import the `json` Python module to work with JSON objects. The `json` module allows us to easily load JSON objects as native Python data structures like `dict` and `list`"
     ]
    },
    {
     "cell_type": "code",
     "collapsed": false,
     "input": [
      "import json"
     ],
     "language": "python",
     "metadata": {},
     "outputs": [],
     "prompt_number": 18
    },
    {
     "cell_type": "markdown",
     "metadata": {},
     "source": [
      "Next we create a Python `dict` for MARC record 4190 in our dataset. We will use the MARC21 records but we could have just as easily used the MARC XML records. The first line is setting a `@context` property for the JSON and making an assertation that the vocabulary is from **schema.org**. Record 4190 is a book of poems for young people, so we classify the new JSON-LD graph as a **schema.org** type of [Book](http://schema.org/Book)."
     ]
    },
    {
     "cell_type": "code",
     "collapsed": false,
     "input": [
      "print(marc_records[4189])\n",
      "record4190_json =  {\"@context\": {\"@vocab\": \"http://schema.org/\"},\n",
      "                    \"@type\": \"Book\"}"
     ],
     "language": "python",
     "metadata": {},
     "outputs": [
      {
       "output_type": "stream",
       "stream": "stdout",
       "text": [
        "=LDR  00958cam  2200301Ia 4500\n",
        "=001  52415485\n",
        "=003  OCoLC\n",
        "=005  20030717113143.0\n",
        "=008  030611s2003\\\\\\\\cau\\\\\\\\\\\\\\\\\\\\\\000\\0\\eng\\d\n",
        "=020  \\\\$a189322483X :\n",
        "=035  \\\\$a.b1585050x$btbp$cc\n",
        "=040  \\\\$aCKE$cCKE$dCOC\n",
        "=049  \\\\$aCOCA\n",
        "=090  \\\\$aPS3604.I54$bB4 2003\n",
        "=090  \\\\$aPS3604.I54$bB4 2003\n",
        "=100  1\\$aDilenschneider, Geoffrey.\n",
        "=245  10$aBetween two Junes is a forest :$ba journal of everything /$cGeoffrey Dilenschneider.\n",
        "=260  \\\\$aBeverly Hills, CA :$bNew Millennium Press,$cc2003.\n",
        "=300  \\\\$a285 p. ;$c24 cm.\n",
        "=500  \\\\$aPoems.\n",
        "=650  \\0$aYoung adult poetry, American.\n",
        "=650  \\0$aTeenagers$vPoetry.\n",
        "=650  \\0$aAmerican poetry$y21st century.\n",
        "=907  \\\\$a.b1585050x\n",
        "=902  \\\\$a130106\n",
        "=999  \\\\$b1$c030717$dm$ea$fc$g0\n",
        "=994  \\\\$atbp\n",
        "=945  \\\\$aPS3604.I54$bB4 2003$g1$i33027004621177$j0$ltbp  $h0$oc$p$0.00$q $r-$s-$t1$u1$v0$w0$x0$y.i15788337$z030717\n",
        "\n"
       ]
      }
     ],
     "prompt_number": 19
    },
    {
     "cell_type": "markdown",
     "metadata": {},
     "source": [
      "For the JSON-LD graph, will map the MARC title to the **schema.org** `name` property."
     ]
    },
    {
     "cell_type": "code",
     "collapsed": false,
     "input": [
      "record4190_json['name'] = marc_records[4189].title()\n",
      "print(record4190_json)"
     ],
     "language": "python",
     "metadata": {},
     "outputs": [
      {
       "output_type": "stream",
       "stream": "stdout",
       "text": [
        "{'@context': {'@vocab': 'http://schema.org/'}, '@type': 'Book', 'name': 'Between two Junes is a forest :a journal of everything /'}\n"
       ]
      }
     ],
     "prompt_number": 20
    },
    {
     "cell_type": "markdown",
     "metadata": {},
     "source": [
      "In the JSON-LD graph for *Between two Junes is a forest :a journal of everything*, we create a Python `dict` for the author, assigning a **schmea.org** type of [Person](http://schema.org/Person)."
     ]
    },
    {
     "cell_type": "code",
     "collapsed": false,
     "input": [
      "record4190_json['author'] = {\"@type\": \"Person\", \"name\": marc_records[4189].author()}\n",
      "print(record4190_json)"
     ],
     "language": "python",
     "metadata": {},
     "outputs": [
      {
       "output_type": "stream",
       "stream": "stdout",
       "text": [
        "{'@context': {'@vocab': 'http://schema.org/'}, 'author': {'@type': 'Person', 'name': 'Dilenschneider, Geoffrey.'}, '@type': 'Book', 'name': 'Between two Junes is a forest :a journal of everything /'}\n"
       ]
      }
     ],
     "prompt_number": 22
    },
    {
     "cell_type": "markdown",
     "metadata": {},
     "source": [
      "## Badge Assessment\n",
      "\n",
      "*   Add a new **schema.org** property of [copyrightYear](http://schema.org/copyrightYear) to `record4190`."
     ]
    },
    {
     "cell_type": "code",
     "collapsed": false,
     "input": [],
     "language": "python",
     "metadata": {},
     "outputs": []
    },
    {
     "cell_type": "markdown",
     "metadata": {},
     "source": [
      "*  Compare the outputs of the following code snippets:"
     ]
    },
    {
     "cell_type": "code",
     "collapsed": false,
     "input": [
      "record9_json = json.loads(marc_records[9].as_json())"
     ],
     "language": "python",
     "metadata": {},
     "outputs": []
    },
    {
     "cell_type": "code",
     "collapsed": false,
     "input": [
      "print(json.dumps(record9_json, indent=2, sort_keys=True))"
     ],
     "language": "python",
     "metadata": {},
     "outputs": []
    },
    {
     "cell_type": "code",
     "collapsed": false,
     "input": [
      "print(json.dumps(record4190_json, indent=2, sort_keys=True))"
     ],
     "language": "python",
     "metadata": {},
     "outputs": []
    },
    {
     "cell_type": "markdown",
     "metadata": {},
     "source": [
      "## Task #6: Create RDF Tuple\n",
      "\n"
     ]
    },
    {
     "cell_type": "code",
     "collapsed": false,
     "input": [
      "DCTERMS = Namespace(\"http://purl.org/dc/terms/\")\n",
      "BIBFRAME = Namespace(\"http://bibframe.org/vocab/\")\n",
      "SCHEMA_ORG = Namespace(\"http://schema.org/\")\n",
      "from rdflib import Graph, BNode, Literal\n",
      "bib_graph = Graph()\n",
      "entities = Namespace('http://intro2libsys.info/lita-webinar-2014/entities/')\n",
      "entities.one\n",
      "entity = entities.one"
     ],
     "language": "python",
     "metadata": {},
     "outputs": [],
     "prompt_number": 23
    },
    {
     "cell_type": "heading",
     "level": 3,
     "metadata": {},
     "source": [
      "Badge Assessment"
     ]
    },
    {
     "cell_type": "markdown",
     "metadata": {},
     "source": [
      "*  Create a second entity for the 3490 MARCXML document"
     ]
    },
    {
     "cell_type": "code",
     "collapsed": false,
     "input": [],
     "language": "python",
     "metadata": {},
     "outputs": []
    },
    {
     "cell_type": "heading",
     "level": 2,
     "metadata": {},
     "source": [
      "Task #7 -- Extract and Add DC Title and Creator Tuples"
     ]
    },
    {
     "cell_type": "markdown",
     "metadata": {},
     "source": [
      "First we will add **schema.org** properties to our our first entity in the `bib_graph`."
     ]
    },
    {
     "cell_type": "code",
     "collapsed": false,
     "input": [
      "from rdflib import URIRef\n",
      "bib_graph.add((entity,\n",
      "               SCHEMA_ORG.type,\n",
      "               URIRef(\"http://schema.org/Book\")))"
     ],
     "language": "python",
     "metadata": {},
     "outputs": [],
     "prompt_number": 25
    },
    {
     "cell_type": "markdown",
     "metadata": {},
     "source": [
      "Second we will add **schema.org** copyrightYear to the first entity"
     ]
    },
    {
     "cell_type": "code",
     "collapsed": false,
     "input": [
      "bib_graph.add((entity,\n",
      "               SCHEMA_ORG.copyrightYear,\n",
      "               Literal(marc_records[8]['260']['c'][1:])))"
     ],
     "language": "python",
     "metadata": {},
     "outputs": [],
     "prompt_number": 26
    },
    {
     "cell_type": "code",
     "collapsed": false,
     "input": [
      "bib_graph.add((entity, \n",
      "               DCTERMS.title, \n",
      "               Literal(marc_records[8].title())))\n",
      "bib_graph.add((entity,\n",
      "               DCTERMS.creator,\n",
      "               Literal(marc_records[8].author())))\n",
      "for subject,predicate,obj in bib_graph:\n",
      "    print(\"Subject: {0}\\nPredicate: {1}\\nObject: {2}\".format(subject,predicate,obj))\n",
      "    print(\"===\")\n",
      "\n",
      "if (entity, None, None) in bib_graph:\n",
      "    print(\"Graph contains triples about the entity\")"
     ],
     "language": "python",
     "metadata": {},
     "outputs": [
      {
       "output_type": "stream",
       "stream": "stdout",
       "text": [
        "Subject: http://intro2libsys.info/lita-webinar-2014/entities/one\n",
        "Predicate: http://schema.org/type\n",
        "Object: http://schema.org/Book\n",
        "===\n",
        "Subject: http://intro2libsys.info/lita-webinar-2014/entities/one\n",
        "Predicate: http://schema.org/copyrightYear\n",
        "Object: 1986.\n",
        "===\n",
        "Subject: http://intro2libsys.info/lita-webinar-2014/entities/one\n",
        "Predicate: http://purl.org/dc/terms/title\n",
        "Object: Walking on air :an informal history of inflight service of seven U.S. airlines /\n",
        "===\n",
        "Subject: http://intro2libsys.info/lita-webinar-2014/entities/one\n",
        "Predicate: http://purl.org/dc/terms/creator\n",
        "Object: McLaughlin, Helen E.\n",
        "===\n",
        "Graph contains triples about the entity\n"
       ]
      }
     ],
     "prompt_number": 27
    },
    {
     "cell_type": "code",
     "collapsed": false,
     "input": [
      "from rdflib.serializer import Serializer\n",
      "from rdflib import plugin\n",
      "bib_graph.namespace_manager.reset()\n",
      "bib_graph.namespace_manager.bind(\"dc\", \"http://purl.org/dc/terms/\")\n",
      "bib_graph.namespace_manager.bind(\"schema\", SCHEMA_ORG) \n",
      "print(bib_graph.serialize(format='pretty-xml', indent=4))"
     ],
     "language": "python",
     "metadata": {},
     "outputs": [],
     "prompt_number": 43
    },
    {
     "cell_type": "code",
     "collapsed": false,
     "input": [
      "# Print in RDF N-Triples syntax\n",
      "print(bib_graph.serialize(format='n3'))"
     ],
     "language": "python",
     "metadata": {},
     "outputs": [
      {
       "output_type": "stream",
       "stream": "stdout",
       "text": [
        "@prefix dc: <http://purl.org/dc/terms/> .\n",
        "@prefix rdf: <http://www.w3.org/1999/02/22-rdf-syntax-ns#> .\n",
        "@prefix rdfs: <http://www.w3.org/2000/01/rdf-schema#> .\n",
        "@prefix schema: <http://schema.org/> .\n",
        "@prefix xml: <http://www.w3.org/XML/1998/namespace> .\n",
        "@prefix xsd: <http://www.w3.org/2001/XMLSchema#> .\n",
        "\n",
        "<http://intro2libsys.info/lita-webinar-2014/entities/one> dc:creator \"McLaughlin, Helen E.\" ;\n",
        "    dc:title \"Walking on air :an informal history of inflight service of seven U.S. airlines /\" ;\n",
        "    schema:copyrightYear \"1986.\" ;\n",
        "    schema:type schema:Book .\n",
        "\n",
        "\n"
       ]
      }
     ],
     "prompt_number": 29
    },
    {
     "cell_type": "markdown",
     "metadata": {},
     "source": [
      "### Creating and asserting a linked URI for a 008 MARC language code\n",
      "\n"
     ]
    },
    {
     "cell_type": "code",
     "collapsed": false,
     "input": [
      "import urllib2\n",
      "from rdflib import URIRef\n",
      "\n",
      "def get_marc_lang_uri(marc_record):\n",
      "    \"\"\"Function returns a LOC or Local call-number from a 008 MARC field from either\n",
      "    a MARC21 or MARC XML record\n",
      "    \n",
      "    :param marc_record: MARC record\n",
      "    \"\"\"\n",
      "    loc_lang_base = 'http://id.loc.gov/vocabulary/languages'\n",
      "    if type(marc_record) == pymarc.Record:\n",
      "        lang_code = marc_record['008'].data[-5:-1]\n",
      "    else:\n",
      "        lang_code = marc_record.find(\"{{{0}}}controlfield[@tag='008']\".format(MARC_NS)).text[-5:-1]\n",
      "    loc_lang_uri = \"{0}/{1}\".format(loc_lang_base, lang_code).strip()\n",
      "    if urllib2.urlopen(loc_lang_uri).code != 200:\n",
      "        return\n",
      "    else:\n",
      "        return URIRef(loc_lang_uri)\n"
     ],
     "language": "python",
     "metadata": {},
     "outputs": [],
     "prompt_number": 30
    },
    {
     "cell_type": "heading",
     "level": 3,
     "metadata": {},
     "source": [
      "Badge Assessment"
     ]
    },
    {
     "cell_type": "code",
     "collapsed": false,
     "input": [
      "\n",
      "get_marc_lang_uri(marc_records[78])\n",
      "\n"
     ],
     "language": "python",
     "metadata": {},
     "outputs": [
      {
       "metadata": {},
       "output_type": "pyout",
       "prompt_number": 33,
       "text": [
        "rdflib.term.URIRef(u'http://id.loc.gov/vocabulary/languages/eng')"
       ]
      }
     ],
     "prompt_number": 33
    },
    {
     "cell_type": "markdown",
     "metadata": {},
     "source": [
      "*  How would you add a Dublin Core language tuple to the entity?"
     ]
    },
    {
     "cell_type": "code",
     "collapsed": false,
     "input": [],
     "language": "python",
     "metadata": {},
     "outputs": []
    },
    {
     "cell_type": "markdown",
     "metadata": {},
     "source": [
      "*  Using the second entity you created, add the title and the creator from the 3,490 MARCXML Document to the **bib_graph**"
     ]
    },
    {
     "cell_type": "code",
     "collapsed": false,
     "input": [],
     "language": "python",
     "metadata": {},
     "outputs": [],
     "prompt_number": 33
    },
    {
     "cell_type": "markdown",
     "metadata": {},
     "source": [
      "*  Add a Dublin Core Language triple to `entity2`"
     ]
    },
    {
     "cell_type": "code",
     "collapsed": false,
     "input": [],
     "language": "python",
     "metadata": {},
     "outputs": []
    },
    {
     "cell_type": "code",
     "collapsed": false,
     "input": [],
     "language": "python",
     "metadata": {},
     "outputs": []
    },
    {
     "cell_type": "code",
     "collapsed": false,
     "input": [],
     "language": "python",
     "metadata": {},
     "outputs": []
    },
    {
     "cell_type": "heading",
     "level": 2,
     "metadata": {},
     "source": [
      "Task #8: Create HTML Template using MARC RDFa"
     ]
    },
    {
     "cell_type": "code",
     "collapsed": false,
     "input": [
      "template = \"\"\"<div vocab=\"http://dublincore.org\" type=\"{{ dc_type}}\">\n",
      " <h2 property=\"title\">{{ dc_title }}</h2>\n",
      "by  <span property=\"creator\">{{ dc_creator }}</span>\n",
      "</div>\"\"\"\n",
      "from jinja2 import Template\n",
      "rdfa_template = Template(template)\n",
      "print(rdfa_template.render(dc_type='text',\n",
      "                           dc_creator=bib_graph.value(entity, DCTERMS.creator),\n",
      "                           dc_title=bib_graph.value(entity, DCTERMS.title)))"
     ],
     "language": "python",
     "metadata": {},
     "outputs": [
      {
       "output_type": "stream",
       "stream": "stdout",
       "text": [
        "<div vocab=\"http://dublincore.org\" type=\"text\">\n",
        " <h2 property=\"title\">Walking on air :an informal history of inflight service of seven U.S. airlines /</h2>\n",
        "by  <span property=\"creator\">McLaughlin, Helen E.</span>\n",
        "</div>\n"
       ]
      }
     ],
     "prompt_number": 34
    },
    {
     "cell_type": "markdown",
     "metadata": {},
     "source": [
      "Validating this MARC RDFa by copying the HTML and RdDFa at http://www.w3.org/2012/pyRdfa/Validator.html#distill_by_input"
     ]
    },
    {
     "cell_type": "markdown",
     "metadata": {},
     "source": [
      "## Badge Assessment"
     ]
    },
    {
     "cell_type": "markdown",
     "metadata": {},
     "source": [
      "*  Add the Dublin Core language triple to the RDFa template"
     ]
    },
    {
     "cell_type": "code",
     "collapsed": false,
     "input": [],
     "language": "python",
     "metadata": {},
     "outputs": []
    },
    {
     "cell_type": "markdown",
     "metadata": {},
     "source": [
      "## Python function for retrieving a language label based on the language URI"
     ]
    },
    {
     "cell_type": "code",
     "collapsed": false,
     "input": [
      "english_json = json.load(urllib2.urlopen('http://id.loc.gov/vocabulary/languages/eng.skos.json'))\n",
      "print(english_json[u'<http://id.loc.gov/vocabulary/languages/eng>'][ u'<http://www.w3.org/2004/02/skos/core#prefLabel>'])"
     ],
     "language": "python",
     "metadata": {},
     "outputs": [
      {
       "output_type": "stream",
       "stream": "stdout",
       "text": [
        "[{u'lang': u'en', u'type': u'literal', u'value': u'English'}]\n"
       ]
      }
     ],
     "prompt_number": 35
    },
    {
     "cell_type": "code",
     "collapsed": false,
     "input": [
      "def get_marc_language_label(loc_language_uri):\n",
      "    \"\"\"Function returns the preferred label based on the Library of Congress MARC Language code\n",
      "    \n",
      "    :param loc_language_uri: URI of Library of Congress Linked Data service\n",
      "    \"\"\"\n",
      "    loc_language_uri = loc_language_uri.strip()\n",
      "    prefLabel_uri = u'<http://www.w3.org/2004/02/skos/core#prefLabel>'\n",
      "    \n",
      "    loc_skos_uri = \"{0}.skos.json\".format(loc_language_uri)\n",
      "    loc_language_key = u\"<{0}>\".format(loc_language_uri)\n",
      "    lang_json = json.load(urllib2.urlopen(loc_skos_uri))\n",
      "    return lang_json.get(u\"<{0}>\".format(loc_language_uri)).get(prefLabel_uri)[0].get(\"value\", None)\n",
      "\n",
      "print(get_marc_language_label('http://id.loc.gov/vocabulary/languages/eng'))"
     ],
     "language": "python",
     "metadata": {},
     "outputs": [
      {
       "output_type": "stream",
       "stream": "stdout",
       "text": [
        "English\n"
       ]
      }
     ],
     "prompt_number": 36
    },
    {
     "cell_type": "markdown",
     "metadata": {},
     "source": [
      "*  Render and print the RDFa of the entity you created from the MARC XML using the rdfa.html template. "
     ]
    },
    {
     "cell_type": "code",
     "collapsed": false,
     "input": [],
     "language": "python",
     "metadata": {},
     "outputs": []
    },
    {
     "cell_type": "markdown",
     "metadata": {},
     "source": [
      "*  Validate the RDFa you just created at http://www.w3.org/2012/pyRdfa/Validator.html#distill_by_input"
     ]
    },
    {
     "cell_type": "markdown",
     "metadata": {},
     "source": [
      "# Task #9: Create HTML5 marked up with **schema.org** Microdata using Jinja"
     ]
    },
    {
     "cell_type": "code",
     "collapsed": false,
     "input": [
      "micro_template = \"\"\"<div itemscope itemtype=\"{{ itemType }}\">\n",
      " <h2 itemprop=\"name\">{{ itemName }}</h2>\n",
      "    by <span property=\"author\">{{ author }}</span> \n",
      "</div>\"\"\""
     ],
     "language": "python",
     "metadata": {},
     "outputs": [],
     "prompt_number": 38
    },
    {
     "cell_type": "code",
     "collapsed": false,
     "input": [
      "micro_data_template = Template(micro_template)\n",
      "print(micro_data_template.render(itemType= bib_graph.value(entity, SCHEMA_ORG.type),\n",
      "                                 itemName= bib_graph.value(entity, DCTERMS.title),\n",
      "                                 author= bib_graph.value(entity, DCTERMS.creator)))"
     ],
     "language": "python",
     "metadata": {},
     "outputs": [
      {
       "output_type": "stream",
       "stream": "stdout",
       "text": [
        "<div itemscope itemtype=\"http://schema.org/Book\">\n",
        " <h2 itemprop=\"name\">Walking on air :an informal history of inflight service of seven U.S. airlines /</h2>\n",
        "    by <span property=\"author\">McLaughlin, Helen E.</span> \n",
        "</div>\n"
       ]
      }
     ],
     "prompt_number": 39
    },
    {
     "cell_type": "markdown",
     "metadata": {},
     "source": [
      "Test how Google will extract the data using its [rich snippets](http://www.google.com/webmasters/tools/richsnippets) testing tools."
     ]
    },
    {
     "cell_type": "heading",
     "level": 3,
     "metadata": {},
     "source": [
      "Badge Assessment"
     ]
    },
    {
     "cell_type": "markdown",
     "metadata": {},
     "source": [
      "*  Add and bind a new &lt;span&gt; element with an itemprop using the **schema.org** [copyrightYear](http://schema.org/copyrightYear) "
     ]
    },
    {
     "cell_type": "code",
     "collapsed": false,
     "input": [],
     "language": "python",
     "metadata": {},
     "outputs": []
    },
    {
     "cell_type": "code",
     "collapsed": false,
     "input": [],
     "language": "python",
     "metadata": {},
     "outputs": []
    },
    {
     "cell_type": "markdown",
     "metadata": {},
     "source": [
      "*   Test the rich snippet you just created in [rich snippets](http://www.google.com/webmasters/tools/richsnippets) "
     ]
    },
    {
     "cell_type": "markdown",
     "metadata": {},
     "source": [
      "## Task #10: Putting the \"linked\" into Linked Data\n",
      "\n",
      "So far up to this point we've been manipulating MARC records into first creating linked data triples and then creating RDFa, RDF XML, and JSON-LD representations of those graphs. We have also started using Library of Congress Linked Data to associate the Dublin Core language with our entities. All these critical steps allow us to publishing MARC records as linked data. Next, we're going to switch-up our tasks and look into how we can now use other linked-data resources to enhance our existing bibliographic graphs we have created earlier in this session."
     ]
    },
    {
     "cell_type": "code",
     "collapsed": false,
     "input": [
      "print(marc_records[191].title())"
     ],
     "language": "python",
     "metadata": {},
     "outputs": [
      {
       "output_type": "stream",
       "stream": "stdout",
       "text": [
        "Moby-Dick, or, The whale /\n"
       ]
      }
     ],
     "prompt_number": 40
    },
    {
     "cell_type": "code",
     "collapsed": false,
     "input": [
      "moby_dict_dbpedia = 'http://dbpedia.org/data/Moby-Dick'\n",
      "moby_dict_url = \"{0}.json\".format(moby_dict_dbpedia)\n",
      "print(moby_dict_url)\n",
      "moby_dict_json = json.load(urllib2.urlopen(\"{0}.json\".format(moby_dict_dbpedia)))"
     ],
     "language": "python",
     "metadata": {},
     "outputs": [
      {
       "output_type": "stream",
       "stream": "stdout",
       "text": [
        "http://dbpedia.org/data/Moby-Dick.json\n"
       ]
      }
     ],
     "prompt_number": 41
    },
    {
     "cell_type": "code",
     "collapsed": false,
     "input": [
      "print(moby_dict_json[\"http://dbpedia.org/resource/Moby-Dick\"])"
     ],
     "language": "python",
     "metadata": {},
     "outputs": [],
     "prompt_number": 42
    },
    {
     "cell_type": "markdown",
     "metadata": {},
     "source": [
      "## Badge Assessment\n",
      "\n",
      "*  Compare the subjects from the `marc_records` record 192 and the subjects from dbpedia."
     ]
    },
    {
     "cell_type": "code",
     "collapsed": false,
     "input": [],
     "language": "python",
     "metadata": {},
     "outputs": []
    }
   ],
   "metadata": {}
  }
 ]
}