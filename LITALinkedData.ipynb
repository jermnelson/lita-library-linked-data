{
 "metadata": {
  "name": ""
 },
 "nbformat": 3,
 "nbformat_minor": 0,
 "worksheets": [
  {
   "cells": [
    {
     "cell_type": "heading",
     "level": 1,
     "metadata": {},
     "source": [
      "Lita Linked Data Python Notebook"
     ]
    },
    {
     "cell_type": "code",
     "collapsed": false,
     "input": [
      "from IPython.display import Image\n",
      "lita = Image(filename=\"static/img/lita-logo.png\")\n",
      "lita"
     ],
     "language": "python",
     "metadata": {},
     "outputs": [
      {
       "metadata": {},
       "output_type": "pyout",
       "png": "[encoded data removed]",
       "prompt_number": 2,
       "text": [
        "<IPython.core.display.Image at 0x5b07e48>"
       ]
      }
     ],
     "prompt_number": 2
    },
    {
     "cell_type": "heading",
     "level": 2,
     "metadata": {},
     "source": [
      "Task #1: Reading MARC21 Files"
     ]
    },
    {
     "cell_type": "code",
     "collapsed": false,
     "input": [
      "import pymarc\n",
      "marc_records = [] \n",
      "with open(\"marc-sample.mrc\") as marc_file:\n",
      "    marc_reader = pymarc.MARCReader(marc_file)\n",
      "    for rec in marc_reader:\n",
      "        marc_records.append(rec)"
     ],
     "language": "python",
     "metadata": {},
     "outputs": [],
     "prompt_number": 6
    },
    {
     "cell_type": "heading",
     "level": 3,
     "metadata": {},
     "source": [
      "Badge Assessment"
     ]
    },
    {
     "cell_type": "markdown",
     "metadata": {},
     "source": [
      "*  How many MARC records are in the list **marc_records**?"
     ]
    },
    {
     "cell_type": "markdown",
     "metadata": {},
     "source": [
      "*  Describe what happens when you execute the following code snippet: "
     ]
    },
    {
     "cell_type": "code",
     "collapsed": false,
     "input": [
      "print(marc_records[1])"
     ],
     "language": "python",
     "metadata": {},
     "outputs": [
      {
       "output_type": "stream",
       "stream": "stdout",
       "text": [
        "=LDR  00947nam  2200289   4500\n",
        "=001  392197\n",
        "=008  \\\\\\\\\\\\\\\\\\\\\\\\\\\\\\\\\\\\\\\\\\\\\\\\\\\\\\\\\\\\\\\\\\\\\\eng\\\\\n",
        "=010  \\\\$a62-13736/L\n",
        "=035  \\\\$a.b10005766$btb$c-\n",
        "=035  \\\\$a(CoCC)100653\n",
        "=040  \\\\$aDLC$cWSU$dm.c.$dOCL\n",
        "=049  \\\\$aCOCA\n",
        "=090  \\\\$aD25.P7 1962\n",
        "=100  1\\$aPreston, Richard Arthur.\n",
        "=245  10$aMen in arms;$ba history of warfare and its interrelationships with Western society$c[by] Richard A. Preston, Sydney F. Wise and Herman O. Werner.\n",
        "=250  \\\\$aRev. ed.\n",
        "=260  \\\\$aNew York,$bPraeger$c[1962]\n",
        "=300  \\\\$a406 p.$billus.$c21 cm.\n",
        "=490  1\\$aBooks that matter.\n",
        "=504  \\\\$aBibliography: p. 363-386.\n",
        "=650  \\0$aMilitary history.\n",
        "=830  \\0$aBooks that matter.\n",
        "=907  \\\\$a.b10005766\n",
        "=902  \\\\$a130106\n",
        "=999  \\\\$b2$c940803$dm$ea$f-$g0\n",
        "=994  \\\\$atb\n",
        "=945  \\\\$aD25.P7 1962$g1$i33027001289523$j0$ltb   $h0$o-$p$0.00$r-$s-$t1$u2$v0$w0$x0$y.i10006928$z940804\n",
        "\n"
       ]
      }
     ],
     "prompt_number": 7
    },
    {
     "cell_type": "heading",
     "level": 2,
     "metadata": {},
     "source": [
      "Task #2: Retrieve MARC21 Data"
     ]
    },
    {
     "cell_type": "code",
     "collapsed": false,
     "input": [
      "for i, rec in enumerate(marc_records):\n",
      "    print(\"{0} {1}\".format(i,\n",
      "                           rec.title()))\n"
     ],
     "language": "python",
     "metadata": {},
     "outputs": [
      {
       "output_type": "stream",
       "stream": "stdout",
       "text": [
        "0 The world of Currier & Ives /\n",
        "1 The face of battle /\n",
        "2 The soldier and the state :the theory and politics of civil- military relations /\n",
        "3 How Colorado compares :state and local taxes.\n",
        "4 Sports medicine.\n",
        "5 Code of federal regulations.\n",
        "6 Code of federal regulations.\n",
        "7 Code of federal regulations.\n",
        "8 Code of federal regulations.\n",
        "9 Code of federal regulations.\n",
        "10 Canada before Confederation :a study in historical geography /\n",
        "11 Of the laws of ecclesiastical polity,\n",
        "12 What is philosophy? /\n",
        "13 A treatise of human nature,\n",
        "14 Dialogues concerning natural religion;\n",
        "15 The philosophy of history /\n",
        "16 The phenomenon of man /\n",
        "17 On the commonwealth /\n",
        "18 Thus spoke Zarathustra;a book for everyone and no one.\n",
        "19 Ideas :general introduction to pure phenomenology /\n",
        "20 Deephaven /\n",
        "21 Between past and future :eight exercises in political thought /\n",
        "22 The origins of American politics.\n",
        "23 The other America;poverty in the United States.\n",
        "24 Conservative votes, liberal victories :why the right has failed /\n",
        "25 Escape from freedom.\n",
        "26 Leviathan.\n",
        "27 Thoughts on Machiavelli.\n",
        "28 Reflections on the Revolution in Franceand on the proceedings of certain societies in London relative to that event.\n",
        "29 An introduction to legal reasoning.\n",
        "30 The tales of Hoffman;\n",
        "31 Experience and education.\n",
        "32 Leviathan;or, The matter, forme and power of a commonwealth, ecclesiasticall and civil,\n",
        "33 Conservatism in America;the thankless persuasion.\n",
        "34 Natural right and history /\n",
        "35 A design for political science: scope, objectives, and methods.\n",
        "36 The Supreme Court and administrative agencies\n",
        "37 Pacem in terris.Peace on earth; encyclical letter of His Holiness Pope John XXIII.\n",
        "38 The histories.\n",
        "39 The new Communist manifesto,and related documents.\n",
        "40 A common faith.\n",
        "41 A preface to morals.\n",
        "42 An inquiry concerning the principles of morals.\n",
        "43 Sense and non-sense.\n",
        "44 Joyful wisdom.With an introd. by Kurt F. Reinhardt.\n",
        "45 Meditations [of] Marcus Aurelius.\n",
        "46 The first and second discourses.\n",
        "47 The Socratic enigma;a collection of testimonies through twenty-four centuries.\n",
        "48 Standards of American legislation.With a pref. by Francis A. Allen.\n",
        "49 Phenomenology,its genesis and prospect.\n",
        "50 Obligation;a social theory,\n",
        "51 Nihilism: a philosophical essay.\n",
        "52 The United States government manual.\n",
        "53 The politics of rights :lawyers, public policy, and political change /\n",
        "54 Structure and relationship in constitutional law\n",
        "55 The Supreme Court and American capitalism.\n",
        "56 Free speech and political protest.\n",
        "57 Constitutional law in the political process.\n",
        "58 The Supreme Court and political freedom.\n",
        "59 Language of politics;studies in quantitative semantics,\n",
        "60 Man and crisis.\n",
        "61 Political philosophy from Plato to Jeremy Bentham,\n",
        "62 Law and society,\n",
        "63 Essential works of Stoicism.\n",
        "64 Reflections on the Revolution in France.\n",
        "65 Masters of Russian Marxism.\n",
        "66 American political parties, their natural history.\n",
        "67 John Keats: the principle of beauty.\n",
        "68 The Federal Convention and the formation of the Union of the American States.\n",
        "69 Impeachment; a handbook\n",
        "70 Elections and political stability;an analytic study\n",
        "71 It is so ordered:the Supreme Court rules on school segregation,\n",
        "72 On liberty.\n",
        "73 Free speech and its relation to self-government.\n",
        "74 Constitutions and constitutionalism.\n",
        "75 United States code /\n",
        "76 Code of federal regulations.\n",
        "77 Individual income tax returns.\n",
        "78 U.S. imports historyhistorical summary ... : international harmonized system commodity classification (HTSUSA) by country, by customs district /\n",
        "79 Chernobylthe taste of Wormwood /\n",
        "80 Patterson's American education.\n",
        "81 Linux journal.\n",
        "82 Indonesian popular musickroncong, dangdut, and langgam jawa.\n",
        "83 Eos.\n",
        "84 In search of the Holy Grail\n",
        "85 Music as medicine :the history of music therapy since antiquity /\n",
        "86 Charlie Parker omnibook :for E flat instruments /\n",
        "87 Annual report /\n",
        "88 Studies in tuberculosis /\n",
        "89 Three duets, opus 37, for two cellos /\n",
        "90 Sonata no. 1, in B flat major, for two cellos, op. 43.\n",
        "91 Selected duets for flute /\n",
        "92 Selected duets,for cornet or trumpet.\n",
        "93 Selected duets for clarinet /\n",
        "94 Seventy-eight duets for flute and clarinet /\n",
        "95 Trio g-Moll (1892) f\ufffdur Violine, Violoncello und Klavier :(Trio \ufffdel\ufffdegiaque : Nr. 1) = Trio in G minor for violin, violoncello, and piano (1892) : (Trio \ufffdel\ufffdegiaque : no. 1) /\n",
        "96 OSHA CD-ROM\n",
        "97 The face of battle /\n",
        "98 Let's go.\n",
        "99 CPEC taxpayer report.\n",
        "100 Return to forever\n",
        "101 The five states of Colorado\n",
        "102 Rules of civil procedure for the United States district courts, with forms.\n",
        "103 Annual statistical supplement ... to the Social security bulletin.\n",
        "104 Romantic masterworks\n",
        "105 U.S. exports of merchandise\n",
        "106 Army history :the professional bulletin of Army history.\n",
        "107 Colorado hay directory.\n",
        "108 Septets opp. 26 & 28\n",
        "109 Arctic and alpine research\n",
        "110 Wildlife monographsa publication of the Wildlife Society.\n",
        "111 Transactions of the Kansas Academy of Science\n",
        "112 Transactions of the Kansas Academy of Science\n",
        "113 Simiolus\n",
        "114 Science news-letter\n",
        "115 Transactions of the ... annual meetings of the Kansas Academy of Science\n",
        "116 Proceedings of the Academy of Natural Sciences of Philadelphia\n",
        "117 Living\n",
        "118 Journal of vegetation science\n",
        "119 Journal of philosophical studies\n",
        "120 Journal of anthropological research\n",
        "121 Integrative and comparative biology\n",
        "122 The Huntington Library bulletin\n",
        "123 Ethnology\n",
        "124 Canadian public policyAnalyse de politiques.\n",
        "125 Arctic, antarctic, and alpine research\n",
        "126 AIBS bulletin\n",
        "127 Applied vegetation science\n",
        "128 In vitro cellular & developmental biology.\n",
        "129 Journal of coastal conservation\n",
        "130 Journal of coastal research\n",
        "131 Journal of the Arizona-Nevada Academy of Science\n",
        "132 Northeastern naturalist\n",
        "133 Southeastern naturalist\n",
        "134 The bryologist\n",
        "135 Mexican studiesEstudios mexicanos.\n",
        "136 Canadian journal of political scienceRevue canadienne de science politique.\n",
        "137 Arabica\n",
        "138 Chicago review\n",
        "139 Financial management\n",
        "140 Hermes\n",
        "141 Journal of Arabic literature\n",
        "142 Journal of business ethics\n",
        "143 Journal of folklore research\n",
        "144 Libraries & culture\n",
        "145 Oceania\n",
        "146 The English historical review\n",
        "147 The library quarterly\n",
        "148 The review of English studies\n",
        "149 World literature today\n",
        "150 Review of research in education\n",
        "151 The annals\n",
        "152 African journal of reproductive health\n",
        "153 Atlantis, revista de la Asociaci\ufffdon Espa\ufffdnola de Estudios Anglo-Norteamericanos\n",
        "154 Duke law journal\n",
        "155 Estudios Atacamenos\n",
        "156 American Indian quarterly\n",
        "157 American libraries\n",
        "158 American secondary education\n",
        "159 Change\n",
        "160 Cognition and instruction\n",
        "161 Columbia law review\n",
        "162 Crustaceana\n",
        "163 Current directions in psychological science\n",
        "164 Curriculum inquiry\n",
        "165 Design quarterly\n",
        "166 Educational technology research and developmentETR & D.\n",
        "167 Folklore\n",
        "168 Functional ecology\n",
        "169 History & memory\n",
        "170 Hypatiaa journal of feminist philosophy.\n",
        "171 International review of educationInternationale Zeitschrift f\ufffdur Erziehungswissenschaft = Revue internationale de p\ufffdedagogie.\n",
        "172 Iranian studiesbulletin of the Society for Iranian Cultural and Social Studies.\n",
        "173 Journal of African cultural studies\n",
        "174 Journal of consumer psychology\n",
        "175 Journal of ecology\n",
        "176 Journal of feminist studies in religion\n",
        "177 The journal of geology\n",
        "178 Journal of Nietzsche studies\n",
        "179 Journal of the Air & Waste Management Association\n",
        "180 Journal of the history of sexuality\n",
        "181 Magazine of history\n",
        "182 Narrative\n",
        "183 NWSA journalan official publication of the National Women's Studies Association.\n",
        "184 Perspectives on sexual and reproductive health\n",
        "185 Poetry\n",
        "186 Political behavior\n",
        "187 Political psychology\n",
        "188 Psychological science\n",
        "189 Research in higher education\n",
        "190 Social analysis\n",
        "191 Social history\n",
        "192 Sports medicine\n",
        "193 State politics & policy quarterly\n",
        "194 Supplementary volume\n",
        "195 African archaeological review\n",
        "196 The Georgia historical quarterly\n",
        "197 The Hispanic American historical reviewHAHR.\n",
        "198 The journal of aesthetics and art criticism\n",
        "199 The journal of American history\n",
        "200 The journal of sex research\n",
        "201 The Kenyon review\n",
        "202 Sociological analysis\n",
        "203 The Biblical archaeologist\n",
        "204 Academy of Management journal\n",
        "205 Brookings papers on economic activity\n",
        "206 Brookings-Wharton papers on urban affairs\n",
        "207 Economica\n",
        "208 Innovation policy and the economy\n",
        "209 Journal of farm economics\n",
        "210 Applied statisticsa journal of the Royal Statistical Society.\n",
        "211 MIS quarterlymanagement information systems.\n",
        "212 NBER macroeconomics annual\n",
        "213 Soviet and Eastern European foreign trade\n",
        "214 Tax policy and the economy\n",
        "215 The American economic review\n",
        "216 The American review of Soviet and Eastern European foreign trade\n",
        "217 The Journal of consumer research\n",
        "218 The Journal of risk and insurance\n",
        "219 The modern language journal\n",
        "220 Ecological monographs\n",
        "221 Perspectives on psychological science\n",
        "222 An\ufffdalise social\n",
        "223 Harvard review\n",
        "224 Language resources and evaluation\n",
        "225 Record of the Art Museum, Princeton University\n",
        "226 Science-fiction studies\n",
        "227 Children, youth and environments\n",
        "228 International journal of peace studies\n",
        "229 Population studies\n",
        "230 Sociological theory\n",
        "231 Zeitschrift f\ufffdur Ethnologie\n",
        "232 BMJBritish medical journal.\n",
        "233 Annals of mathematics\n",
        "234 International journal of ethics\n",
        "235 Journal of applied econometrics\n",
        "236 Population.\n",
        "237 Proceedings of the American Political Science Association\n",
        "238 African studies bulletin\n",
        "239 Albion\n",
        "240 American antiquity\n",
        "241 The American statistician\n",
        "242 Bulletin of the American Geographical Society of New York\n",
        "243 Hebraica\n",
        "244 History of education journal\n",
        "245 Journal of Palestine studies\n",
        "246 Journal of the American Geographical and Statistical Society\n",
        "247 Journal of the American Geographical Society of New York\n",
        "248 Notes and records of the Royal Society of London\n",
        "249 Phylon\n",
        "250 Phylon\n",
        "251 PSAproceedings of the biennial meeting of the Philosophy of Science Association.\n",
        "252 Science studies\n",
        "253 Science, technology, & human values\n",
        "254 The family life coordinator\n",
        "255 Transactions of the American Philological Association\n",
        "256 Transactions of the American Philological Association\n",
        "257 Two-year college mathematics journal\n",
        "258 APT bulletin\n",
        "259 Architectural history\n",
        "260 Asian musicjournal of the Society for Asian Music.\n",
        "261 Bulletin of the American Institute for Conservation of Historic and Artistic Works\n",
        "262 Language\n",
        "263 Mitteilungen der Internationalen Gesellschaft f\ufffdur MusikwissenschaftBulletin de la Soci\ufffdet\ufffde internationale de musicologie.\n",
        "264 Newsletter of the Association for Preservation Technology\n",
        "265 Pacific Coast philology\n",
        "266 Sammelb\ufffdande der Internationalen Musikgesellschaft\n",
        "267 Studia islamica\n",
        "268 The bulletin of the College Art Association of America\n",
        "269 The South Central bulletin\n",
        "270 Transactions of the Modern Language Association of America\n",
        "271 Art education\n",
        "272 Journal of African law\n",
        "273 Journal of educational statistics\n",
        "274 Law and literature\n",
        "275 Managerial and decision economicsMDE.\n",
        "276 The international and comparative law quarterly\n",
        "277 The journal of legal studies\n",
        "278 Universal human rights\n",
        "279 University of Pennsylvania law review and American law register\n",
        "280 Advances in applied probability\n",
        "281 Advances in sex researcha publication of the Society for the Scientific Study of Sex.\n",
        "282 African economic history review\n",
        "283 Agendaa journal about women and gender.\n",
        "284 The Art Institute of Chicago quarterly\n",
        "285 Bulletin\n",
        "286 Bulletin\n",
        "287 Bulletin annuel de l'Institut fran\ufffdcais d'histoire sociale\n",
        "288 Bulletin of the American School of Oriental Research in Jerusalem\n",
        "289 Bulletin of the Art Institute of Chicago\n",
        "290 Bulletin of the Art Institute of Chicago\n",
        "291 Calendar of the Art Institute of Chicago\n",
        "292 Illinois agricultural economics\n",
        "293 Indonesia\n",
        "294 Journal of computational and graphical statisticsa joint publication of American Statistical Association, Institute of Mathematical Statistics, Interface Foundation of North America.\n",
        "295 L'actualit\ufffde de l'histoire\n",
        "296 Museum studies\n",
        "297 Newsletter\n",
        "298 Record of the Museum of Historic Art, Princeton University\n",
        "299 Records of the Academy\n",
        "300 Revue belge de musicologieBelgisch tijdschrift voor muziekwetenschap.\n",
        "301 The Hastings Center studies\n",
        "302 The annual of the American School of Oriental Research in Jerusalem\n",
        "303 The Athenian Agora\n",
        "304 The journal of Egyptian archaeology\n",
        "305 Bulletin of the Pennsylvania Museum\n",
        "306 The Philadelphia Museum bulletin\n",
        "307 Vingti\ufffdeme si\ufffdecle\n",
        "308 Bears, their biology and managementpapers and proceedings of the International Conference on Bear Research and Management.\n",
        "309 Bulletin du Jardin botanique de l'Etat, Bruxelles\n",
        "310 Bulletin du Jardin botanique national de Belgique\n",
        "311 Bulletin of miscellaneous information\n",
        "312 Freshwater invertebrate biology\n",
        "313 The journal of the Southern Appalachian Botanical Club\n",
        "314 Journal of tropical ecology\n",
        "315 Mitteilungen aus dem botanischen Garten und Museum\n",
        "316 Notizblatt des K\ufffdonigl. botanischen Gartens und Museums zu Berlin\n",
        "317 Proceedings of the annual meeting\n",
        "318 European journal of epidemiology\n",
        "319 Proceedings of the Royal Society of London.\n",
        "320 The journal of hygiene\n",
        "321 Buffalo criminal law review\n",
        "322 Public health reports\n",
        "323 Profession\n",
        "324 Journal of the Southwest\n",
        "325 Studies in American Indian literatures\n",
        "326 The world today\n",
        "327 Merrill-Palmer quarterly\n",
        "328 Philosophy of music education review\n",
        "329 The moving imagethe journal of the Association of Moving Image Archivists.\n",
        "330 Studies in bibliography\n",
        "331 Victorian periodicals review\n",
        "332 Symplok\ufffde\n",
        "333 Journal of logic, language, and information\n",
        "334 Journal of the history of biology\n",
        "335 Forest & conservation history\n",
        "336 Journal of forest history\n",
        "337 The bulletin of the Museum of Modern Art\n",
        "338 Annual report\n",
        "339 Everyday art quarterlya guide to well designed products.\n",
        "340 Germanic Museum bulletin\n",
        "341 Scottish Archaeological Journal\n",
        "342 Proceedings\n",
        "343 The labor lawyer\n",
        "344 Michigan sociological review\n",
        "345 The J. Paul Getty Museum journal\n",
        "346 Amtliche Berichte aus den k\ufffdoniglichen Kunstsammlungen\n",
        "347 In vitro\n",
        "348 In vitro cellular & developmental biologyjournal of the Tissue Culture Association.\n",
        "349 Contemporary European history\n",
        "350 The Cambridge law journal\n",
        "351 Journal of the Royal Asiatic Society of Great Britain & Ireland\n",
        "352 African studies.\n",
        "353 The international law quarterly\n",
        "354 The journal of unified scienceErkenntnis.\n",
        "355 The journal of the English Folk Dance Society\n",
        "356 Journal of the English Folk Dance and Song Society\n",
        "357 Erkenntnis\n",
        "358 Annalen der Philosophie und philosophischen Kritik\n",
        "359 Syria\n",
        "360 Proceedings of the American Academy of Arts and Sciences\n",
        "361 Sankhy\ufffdathe Indian journal of statistics.\n",
        "362 Sankhy\ufffdathe Indian journal of statistics.\n",
        "363 Journal of marketing & public policy\n",
        "364 Reviews of infectious diseases\n",
        "365 Early American literature newsletter\n",
        "366 The Massachusetts historical review\n",
        "367 I Tatti studiesessays in the Renaissance.\n",
        "368 Journal of New Zealand literatureJNZL.\n",
        "369 Archives of Asian art\n",
        "370 Victorian periodicals newsletter\n",
        "371 Bulletin of the American Schools of Oriental Research.\n",
        "372 Annales de l'ins\ufffde\ufffde\n",
        "373 Journal of transport economics and policy\n",
        "374 Transactions of the American Entomological Society and proceedings of the Entomological Section of the Academy of Natural Sciences\n",
        "375 The journal of English and Germanic philology\n",
        "376 British journal of industrial medicine\n",
        "377 Ulbandus review\n",
        "378 Kronos\n",
        "379 Harvard book review\n",
        "380 Journal of the Arizona Academy of Science\n",
        "381 Bulletin of the Australian Society for the Study of Labour History\n",
        "382 The South Carolina historical and genealogical magazine\n",
        "383 Annales d'histoire sociale\n",
        "384 Minnesota history bulletin\n",
        "385 Books abroad\n",
        "386 The South Carolina historical magazine\n",
        "387 Annales d'histoire \ufffdeconomique et sociale\n",
        "388 Washington historymagazine of the Historical Society of Washington, D.C.\n",
        "389 California Historical Society quarterly\n",
        "390 Annales d'histoire sociale\n",
        "391 The Florida historical quarterly\n",
        "392 M\ufffdelanges d'histoire sociale\n",
        "393 Provincial medical & surgical journal\n",
        "394 Notre Dame English journal\n",
        "395 Annual report of the Dante Society\n",
        "396 Hoosier folklore bulletin\n",
        "397 Zeitschrift f\ufffdur allgemeine WissenschaftstheorieJournal for general philosophy of science.\n",
        "398 Hoosier folklore\n",
        "399 Jahrbuch der K\ufffdoniglich Preussischen Kunstsammlungen\n",
        "400 Journal, Southeast Asian history\n",
        "401 The journal of the Walters Art Museum\n",
        "402 Gnomonkritische Zeitschrift f\ufffdur die gesamte klassische Altertumswissenschaft.\n",
        "403 Beiheft ... der Historischen Zeitschrift\n",
        "404 Lawyer of the Americas\n",
        "405 Southeast Asian perspectives\n",
        "406 Provincial medical & surgical journal\n",
        "407 Provincial medical journal and retrospect of the medical sciences\n",
        "408 London journal of medicine\n",
        "409 Association medical journal\n",
        "410 Teaching what you don't know /\n",
        "411 NBER International Seminar on Macroeconomics\n",
        "412 Recherche et Applications en Marketing; RAM\n",
        "413 El Trimestre Economico\n",
        "414 Decisions Marketing\n",
        "415 Indian journal of industrial relations\n",
        "416 Economic freedom of the world ... annual report.\n",
        "417 The Society of Malawi journal\n",
        "418 [Constant use]  /\n",
        "419 Foro internacional\n",
        "420 Federal sentencing reporter\n",
        "421 Just plain data analysis :finding, presenting, and interpreting social science data /\n",
        "422 Geschichte und Gesellschaft\n",
        "423 The Scottish antiquary, or, Northern notes & queries\n",
        "424 Journal of instructional developmentJID /\n",
        "425 Musica disciplinaa yearbook of the history of music.\n",
        "426 The artistan illustrated monthly record of arts, crafts and industries.\n",
        "427 Audio visual communication review\n",
        "428 L'ann\ufffdee \ufffdepigraphiquerevue des publications \ufffdepigraphiques relatives a l'antiquit\ufffde romaine.\n",
        "429 Aula-historia social\n",
        "430 Res\n",
        "431 The lotus magazine\n",
        "432 New England review and Bread Loaf quarterly\n",
        "433 Northern notes & queries\n",
        "434 College music symposium\n",
        "435 Newsletter of the Victorian Studies Association of Western Canada\n",
        "436 The agricultural history review\n",
        "437 Estudios orientales\n",
        "438 Estudios sociol\ufffdogicos\n",
        "439 Journal of public affairs educationJ-PAE.\n",
        "440 The Kiva\n",
        "441 Race/ethnicitymultidisciplinary global contexts.\n",
        "442 The global South\n",
        "443 Weltwirtschaftliches Archiv\n",
        "444 International journal of arts management\n",
        "445 Journal of medieval religious cultures\n",
        "446 International Review of Modern Sociology\n",
        "447 International journal of feminist approaches to bioethics\n",
        "448 Buildings & landscapesjournal of the Vernacular Architecture Forum.\n",
        "449 The San Francisco Jung Institute Library journal\n",
        "450 Historical studies in the natural sciences\n",
        "451 Gastronomica\n",
        "452 Proceedings of the Statistical Society of London\n",
        "453 Supplementary paper\n",
        "454 Supplementary volume\n",
        "455 American advocate of peace\n",
        "456 Arts et traditions populaires\n",
        "457 KulturPoetik\n",
        "458 Quondam et futurusnewsletter for Arthurian studies.\n",
        "459 Zeitschrift f\ufffdur deutsches Alterthum und deutsche Litteratur\n",
        "460 Zeitschrift f\ufffdur neufranz\ufffdosische Sprache und Literatur mit besonderer Ber\ufffducksichtigung des Unterrichts im Franz\ufffdosischen auf den deutschen Schulen\n",
        "461 Archaeology in Oceania\n",
        "462 Archiv f\ufffdur Geschichte der Medizin\n",
        "463 Berkeley journal of sociology\n",
        "464 Czechoslovak sociological review\n",
        "465 Medizinhistorisches journal\n",
        "466 Netherlands journal of housing and environmental research\n",
        "467 QUANTUM information\n",
        "468 Quarterly journal of current acquisitions\n",
        "469 Scandinavian journal of work, environment & health\n",
        "470 Sudhoffs Archiv\n",
        "471 Mathematics teaching in the middle school\n",
        "472 History of the present\n",
        "473 Journal of animal ethics\n",
        "474 Alternativessocial transformation and humane governance.\n",
        "475 The annals of applied statistics\n",
        "476 Music and the moving image\n",
        "477 Fire!!!\n",
        "478 Journal of Human Capital\n",
        "479 Proceedings of the ... Bear Workshop\n",
        "480 Estuaries and Coasts\n",
        "481 Revista Geografica - Instituto Panamericano de Geografia e Historia\n",
        "482 Acta oeconomicaperiodical of the Hungarian Academy of Sciences.\n",
        "483 Anthropologischer Anzeiger\n",
        "484 The Bangladesh development studies\n",
        "485 Bulletin de la Soci\ufffdet\ufffde prehistorique fran\ufffdcaise.\n",
        "486 Bulletin de la Soci\ufffdet\ufffde pr\ufffdehistorique fran\ufffdcaise.\n",
        "487 Cahiers du monde hispanique et luso-br\ufffdesilien\n",
        "488 Erdkunde\n",
        "489 India International Centre quarterly\n",
        "490 Jahrbuch fur Sozialwissenschaft\n",
        "491 Journal of California and Great Basin anthropology\n",
        "492 The journal of California anthropology\n",
        "493 Journal of the Central Mississippi Valley American Studies Association\n",
        "494 MELA notes\n",
        "495 Midcontinental journal of archaeologyMCJA.\n",
        "496 Pakistan development review\n",
        "497 The Punjab University economist\n",
        "498 Revue Europ\ufffdeenne des Sciences Sociales\n",
        "499 Revue fran\ufffdcaise d'\ufffdetudes am\ufffdericaines\n",
        "500 The Nyasaland journal\n",
        "501 Urban anthropology and studies of cultural systems and world economic development\n",
        "502 Vierteljahrschrift Fur Sozial- Und Wirtschaftsgeschichte\n",
        "503 Archiv des Volkerrechts\n",
        "504 Archiv fur die civilistische Praxis\n",
        "505 Children's Environments\n",
        "506 Deutsche Rechts-Zeitschrift\n",
        "507 International Review of Sociology\n",
        "508 Merrill-Palmer Quarterly (1954-1958)\n",
        "509 Rabels Zeitschrift fur auslandisches und internationales Privatrecht / The Rabel Journal of Comparative and International Private Law\n",
        "510 Race, Poverty & the Environment\n",
        "511 S\ufffduddeutsche Juristen-Zeitung\n",
        "512 Studia Musicologica\n",
        "513 Les Etudes philosophiques\n",
        "514 Pasajes\n",
        "515 Revue d'histoire de la Deuxieme Guerre mondiale et des conflits contemporains\n",
        "516 Revue philosophique de la France et de l'e\ufffdtranger\n",
        "517 Rue Descartes\n",
        "518 Egyetemi Szemle\n",
        "519 Estudios Internacionales\n",
        "520 Glasgow Archaeological Journal\n",
        "521 Japan Review\n",
        "522 Society and Economy\n",
        "523 Tarsadalom es gazdasag Kozep- es Kelet-Europaban / Society and Economy in Central and Eastern Europe\n",
        "524 Transactions of the Gold Coast & Togoland Historical Society\n",
        "525 Transactions of the Historical Society of Ghana\n",
        "526 Journal of Strength and Conditioning Research\n",
        "527 Wiskonsin Banner\n",
        "528 Economic review (Kansas) \n",
        "529 Just plain data analysis :finding, presenting, and interpreting social science data /\n",
        "530 Current Pharmaceutical Design\n",
        "531 Protein & Peptide Letters\n",
        "532 Africo-American Presbyterian\n",
        "533 Afro-American advance\n",
        "534 Afro-American advocate\n",
        "535 Afro-American citizen\n",
        "536 Aliened American\n",
        "537 American\n",
        "538 American citizen\n",
        "539 American guide\n",
        "540 Arkansas freeman\n",
        "541 Atchison blade\n",
        "542 Atlanta age\n",
        "543 Augusta union\n",
        "544 Benevolent banner\n",
        "545 Black republican\n",
        "546 Black republican and office-holder's journal\n",
        "547 Boston advance\n",
        "548 Boston courant\n",
        "549 broad ax\n",
        "550 Charleston advocate\n",
        "551 Chicago world\n",
        "552 Cleveland gazette\n",
        "553 Colorado statesman\n",
        "554 Colored citizen\n",
        "555 Colored patriot\n",
        "556 Colored Tennessean\n",
        "557 Columbus chronicle\n",
        "558 Columbus standard\n",
        "559 CommonWealth\n",
        "560 Daily American citizen\n",
        "561 Emporia Citizen\n",
        "562 Fair Play\n",
        "563 Guide\n",
        "564 Herald of Kansas\n",
        "565 Huntsville gazette\n",
        "566 Iowa state bystander\n",
        "567 Mirror of the times\n",
        "568 Missionary record\n",
        "569 National Baptist world\n",
        "570 New Orleans Daily Creole\n",
        "571 Nicodemus cyclone\n",
        "572 Nicodemus enterprise\n",
        "573 Oakland sunshine\n",
        "574 Ohio standard and observer\n",
        "575 Oil City Afro-American\n",
        "576 Paul Quinn weekly\n",
        "577 Pine Bluff weekly herald\n",
        "578 Portland new age\n",
        "579 Richmond planet\n",
        "580 Rights of all\n",
        "581 Savannah tribune\n",
        "582 State ledger\n",
        "583 True reformer\n",
        "584 Anthropology, memoirs\n",
        "585 Aula\n",
        "586 Columbia: A journal of literature and art\n",
        "587 Revue arch\ufffdeologique \n",
        "588 Archiv f\ufffdur Keilschriftforschung\n",
        "589 Canadian social work review / Revue canadienne de service social [1983- ]\n",
        "590 Canadian journal of social work education / Revue canadienne d'\ufffdeducation en service social [1974-1982]\n",
        "591 Rivista internazionale di scienze sociali e discipline ausiliare\n",
        "592 Acta turistica\n",
        "593 Anthropology design series\n",
        "594 Giornale degli economisti e rivista di statistica\n",
        "595 Giornale degli economisti (Bologna, Italy)\n",
        "596 Guide (Field Museum of Natural History)\n",
        "597 Recent geographical literature, maps and photographs\n",
        "598 Supplement to the Geographical Journal: Recent geographical literature, maps, and photographs added to the Society's collections\n",
        "599 Pal\ufffdeorient\n",
        "600 Popular series. Anthropology\n",
        "601 Anthropology leaflet\n",
        "602 Leaflet\n",
        "603 Breach of trust :how Americans failed their soldiers and their country /\n",
        "604 Marginalizing access to the sustainable food system :an examination of Oakland's minority districts /\n",
        "605 Paul Robeson :a life of activism and art /\n",
        "606 A history of Christianity in Asia /\n",
        "607 ABC - 7 KMGH\n",
        "608 Broomfield Enterprise\n",
        "609 CBS - 4 KCNC\n",
        "610 Douglas County news-press (1992)\n",
        "611 Englewood herald (Littleton, Colo. : 1991)\n",
        "612 FOX - 31 KDVR\n",
        "613 Journal Advocate (Sterling, Colorado)\n",
        "614 NBC - 9 KUSA\n",
        "615 Northglenn-Thornton Sentinel\n",
        "616 Black asset poverty and the enduring racial divide /\n",
        "617 Getting the Holy Ghost :uban ethnography in a Brooklyn Pentecostal tongue-speaking church /\n",
        "618 Ernest L. Blumenschein :the life of an American artist /\n",
        "619 Race, class, power, and organizing in East Baltimore :rebuilding abandoned communities in America /\n",
        "620 Command and control :nuclear weapons, the Damascus Accident, and the illusion of safety /\n",
        "621 Complexity and the arrow of time /\n",
        "622 Reimagining global healthan introduction /\n"
       ]
      }
     ],
     "prompt_number": 5
    },
    {
     "cell_type": "markdown",
     "metadata": {},
     "source": [
      "### Badge Assessment:\n",
      "\n",
      "*  What is the title for record 8 in marc_records? (remember python lists start with a 0 index)\n",
      "\n",
      "\n"
     ]
    },
    {
     "cell_type": "code",
     "collapsed": false,
     "input": [
      "print(marc_records[7].title())\n",
      "\n",
      "\n",
      "\n",
      "\n"
     ],
     "language": "python",
     "metadata": {},
     "outputs": [
      {
       "output_type": "stream",
       "stream": "stdout",
       "text": [
        "Invisible astronomy\n"
       ]
      }
     ],
     "prompt_number": 16
    },
    {
     "cell_type": "markdown",
     "metadata": {},
     "source": [
      "*  What is the isbn for record 8?"
     ]
    },
    {
     "cell_type": "code",
     "collapsed": false,
     "input": [
      "print(marc_records[7].isbn())"
     ],
     "language": "python",
     "metadata": {},
     "outputs": [
      {
       "output_type": "stream",
       "stream": "stdout",
       "text": [
        "0413266303\n"
       ]
      }
     ],
     "prompt_number": 17
    },
    {
     "cell_type": "heading",
     "level": 2,
     "metadata": {},
     "source": [
      "Task #3: Parsing MARC XML"
     ]
    },
    {
     "cell_type": "code",
     "collapsed": false,
     "input": [
      "from rdflib import Namespace\n",
      "from lxml import etree\n",
      "MARC_NS = Namespace('http://www.loc.gov/MARC21/slim')\n",
      "marc_xml = etree.parse('E:\\\\training\\\\marc-sample.xml')\n",
      "marc_records = marc_xml.findall('/{{{0}}}record'.format(MARC_NS))\n"
     ],
     "language": "python",
     "metadata": {},
     "outputs": [],
     "prompt_number": 2
    },
    {
     "cell_type": "heading",
     "level": 3,
     "metadata": {},
     "source": [
      "Badge Assessment:"
     ]
    },
    {
     "cell_type": "markdown",
     "metadata": {},
     "source": [
      "*  How many &lt; marc:record &gt;  elements are in the marc_records list?"
     ]
    },
    {
     "cell_type": "heading",
     "level": 2,
     "metadata": {},
     "source": [
      "Task #4: Retrieving Data with XPath"
     ]
    },
    {
     "cell_type": "code",
     "collapsed": false,
     "input": [
      "xpath_string = \"/{{{0}}}record/{{{0}}}datafield[@tag='245']/\".format(MARC_NS)\n",
      "title_elements = marc_xml.findall(xpath_string)\n",
      "print(title_elements[0].text)"
     ],
     "language": "python",
     "metadata": {},
     "outputs": []
    },
    {
     "cell_type": "heading",
     "level": 3,
     "metadata": {},
     "source": [
      "Badge Assessment:"
     ]
    },
    {
     "cell_type": "markdown",
     "metadata": {},
     "source": [
      "*  How could you improve the XPath \"/{{{0}}}record/{{{0}}}datafield[@tag='245']/\" to just select the **a** subfields of the 245 field? "
     ]
    },
    {
     "cell_type": "heading",
     "level": 2,
     "metadata": {},
     "source": [
      "Task #5: Creating JSON LinkedData from MARC "
     ]
    },
    {
     "cell_type": "heading",
     "level": 2,
     "metadata": {},
     "source": [
      "Task #6: Create RDF Tuple"
     ]
    },
    {
     "cell_type": "code",
     "collapsed": false,
     "input": [
      "DCTERMS = Namespace(\"http://purl.org/dc/terms/\")\n",
      "BIBFRAME = Namespace(\"http://bibframe.org/vocab/\")\n",
      "SCHEMA_ORG = Namespace(\"http://schema.org/\")\n",
      "from rdflib import Graph, BNode, Literal\n",
      "bib_graph = Graph()\n",
      "entities = Namespace('http://intro2libsys.info/lita-webinar-2014/entities/')\n",
      "entities.one\n",
      "entity = entities.one"
     ],
     "language": "python",
     "metadata": {},
     "outputs": [
      {
       "ename": "NameError",
       "evalue": "name 'Namespace' is not defined",
       "output_type": "pyerr",
       "traceback": [
        "\u001b[0;31m---------------------------------------------------------------------------\u001b[0m\n\u001b[0;31mNameError\u001b[0m                                 Traceback (most recent call last)",
        "\u001b[0;32m<ipython-input-13-f5c2020b1738>\u001b[0m in \u001b[0;36m<module>\u001b[0;34m()\u001b[0m\n\u001b[0;32m----> 1\u001b[0;31m \u001b[0mDCTERMS\u001b[0m \u001b[0;34m=\u001b[0m \u001b[0mNamespace\u001b[0m\u001b[0;34m(\u001b[0m\u001b[0;34m\"http://purl.org/dc/terms/\"\u001b[0m\u001b[0;34m)\u001b[0m\u001b[0;34m\u001b[0m\u001b[0m\n\u001b[0m\u001b[1;32m      2\u001b[0m \u001b[0mBIBFRAME\u001b[0m \u001b[0;34m=\u001b[0m \u001b[0mNamespace\u001b[0m\u001b[0;34m(\u001b[0m\u001b[0;34m\"http://bibframe.org/vocab/\"\u001b[0m\u001b[0;34m)\u001b[0m\u001b[0;34m\u001b[0m\u001b[0m\n\u001b[1;32m      3\u001b[0m \u001b[0mSCHEMA_ORG\u001b[0m \u001b[0;34m=\u001b[0m \u001b[0mNamespace\u001b[0m\u001b[0;34m(\u001b[0m\u001b[0;34m\"http://schema.org/\"\u001b[0m\u001b[0;34m)\u001b[0m\u001b[0;34m\u001b[0m\u001b[0m\n\u001b[1;32m      4\u001b[0m \u001b[0;32mfrom\u001b[0m \u001b[0mrdflib\u001b[0m \u001b[0;32mimport\u001b[0m \u001b[0mGraph\u001b[0m\u001b[0;34m,\u001b[0m \u001b[0mBNode\u001b[0m\u001b[0;34m,\u001b[0m \u001b[0mLiteral\u001b[0m\u001b[0;34m\u001b[0m\u001b[0m\n\u001b[1;32m      5\u001b[0m \u001b[0mbib_graph\u001b[0m \u001b[0;34m=\u001b[0m \u001b[0mGraph\u001b[0m\u001b[0;34m(\u001b[0m\u001b[0;34m)\u001b[0m\u001b[0;34m\u001b[0m\u001b[0m\n",
        "\u001b[0;31mNameError\u001b[0m: name 'Namespace' is not defined"
       ]
      }
     ],
     "prompt_number": 13
    },
    {
     "cell_type": "heading",
     "level": 3,
     "metadata": {},
     "source": [
      "Badge Assessment"
     ]
    },
    {
     "cell_type": "markdown",
     "metadata": {},
     "source": [
      "*  Create a second entity using the third MARCXML document"
     ]
    },
    {
     "cell_type": "heading",
     "level": 2,
     "metadata": {},
     "source": [
      "Task #7 -- Extract and Add DC Title and Creator Tuples"
     ]
    },
    {
     "cell_type": "code",
     "collapsed": false,
     "input": [
      "bib_graph.add((entity, \n",
      "               DCTERMS.title, \n",
      "               Literal(marc_records[0].title())))\n",
      "bib_graph.add((entity,\n",
      "               DCTERMS.creator,\n",
      "               Literal(marc_records[0].author())))"
     ],
     "language": "python",
     "metadata": {},
     "outputs": [
      {
       "ename": "IndexError",
       "evalue": "list index out of range",
       "output_type": "pyerr",
       "traceback": [
        "\u001b[0;31m---------------------------------------------------------------------------\u001b[0m\n\u001b[0;31mIndexError\u001b[0m                                Traceback (most recent call last)",
        "\u001b[0;32m<ipython-input-7-220562d07a58>\u001b[0m in \u001b[0;36m<module>\u001b[0;34m()\u001b[0m\n\u001b[1;32m      1\u001b[0m bib_graph.add((entity, \n\u001b[1;32m      2\u001b[0m                \u001b[0mDCTERMS\u001b[0m\u001b[0;34m.\u001b[0m\u001b[0mtitle\u001b[0m\u001b[0;34m,\u001b[0m\u001b[0;34m\u001b[0m\u001b[0m\n\u001b[0;32m----> 3\u001b[0;31m                Literal(marc_records[0].title())))\n\u001b[0m\u001b[1;32m      4\u001b[0m bib_graph.add((entity,\n\u001b[1;32m      5\u001b[0m                \u001b[0mDCTERMS\u001b[0m\u001b[0;34m.\u001b[0m\u001b[0mcreator\u001b[0m\u001b[0;34m,\u001b[0m\u001b[0;34m\u001b[0m\u001b[0m\n",
        "\u001b[0;31mIndexError\u001b[0m: list index out of range"
       ]
      }
     ],
     "prompt_number": 7
    },
    {
     "cell_type": "heading",
     "level": 3,
     "metadata": {},
     "source": [
      "Badge Assessment"
     ]
    },
    {
     "cell_type": "markdown",
     "metadata": {},
     "source": [
      "*  How would you add a Dublin Core language tuple to the entity?"
     ]
    },
    {
     "cell_type": "markdown",
     "metadata": {},
     "source": [
      "*  Using the second entity you created, add the title and creator from the third MARCXML Document to the **bib_graph**"
     ]
    },
    {
     "cell_type": "heading",
     "level": 2,
     "metadata": {},
     "source": [
      "Task #8: Create HTML Template using MARC RDFa"
     ]
    },
    {
     "cell_type": "code",
     "collapsed": false,
     "input": [
      "template = \"\"\"<div vocab=\"http://dublincore.org\" type=\"{{ entity }}\">\n",
      " <h2 property=\"title\">{{ entity.title }}</h2>\n",
      "by {% for row in entity.creators %}\n",
      "  <span property=\"creator\">{{ creator.name }}</span>\n",
      "{% endfor %}\n",
      "</div>\"\"\"\n",
      "from jinja2 import Template\n",
      "rdfa_template = Template(template)\n",
      "print(rdfa_template.render(entity=entity))"
     ],
     "language": "python",
     "metadata": {},
     "outputs": [
      {
       "ename": "NameError",
       "evalue": "name 'entity' is not defined",
       "output_type": "pyerr",
       "traceback": [
        "\u001b[0;31m---------------------------------------------------------------------------\u001b[0m\n\u001b[0;31mNameError\u001b[0m                                 Traceback (most recent call last)",
        "\u001b[0;32m<ipython-input-12-b1f95f03245c>\u001b[0m in \u001b[0;36m<module>\u001b[0;34m()\u001b[0m\n\u001b[1;32m      7\u001b[0m \u001b[0;32mfrom\u001b[0m \u001b[0mjinja2\u001b[0m \u001b[0;32mimport\u001b[0m \u001b[0mTemplate\u001b[0m\u001b[0;34m\u001b[0m\u001b[0m\n\u001b[1;32m      8\u001b[0m \u001b[0mrdfa_template\u001b[0m \u001b[0;34m=\u001b[0m \u001b[0mTemplate\u001b[0m\u001b[0;34m(\u001b[0m\u001b[0mtemplate\u001b[0m\u001b[0;34m)\u001b[0m\u001b[0;34m\u001b[0m\u001b[0m\n\u001b[0;32m----> 9\u001b[0;31m \u001b[0;32mprint\u001b[0m\u001b[0;34m(\u001b[0m\u001b[0mrdfa_template\u001b[0m\u001b[0;34m.\u001b[0m\u001b[0mrender\u001b[0m\u001b[0;34m(\u001b[0m\u001b[0mentity\u001b[0m\u001b[0;34m=\u001b[0m\u001b[0mentity\u001b[0m\u001b[0;34m)\u001b[0m\u001b[0;34m)\u001b[0m\u001b[0;34m\u001b[0m\u001b[0m\n\u001b[0m",
        "\u001b[0;31mNameError\u001b[0m: name 'entity' is not defined"
       ]
      }
     ],
     "prompt_number": 12
    },
    {
     "cell_type": "heading",
     "level": 3,
     "metadata": {},
     "source": [
      "Badge Assessment"
     ]
    },
    {
     "cell_type": "markdown",
     "metadata": {},
     "source": [
      "*  Add the Dublin Core language triple to the RDFa template"
     ]
    },
    {
     "cell_type": "markdown",
     "metadata": {},
     "source": [
      "*  Render and print the RDFa of the entity you created from the MARC XML using the rdfa.html template. "
     ]
    },
    {
     "cell_type": "heading",
     "level": 2,
     "metadata": {},
     "source": [
      "Task #9: Create Microdata using Knockout.js"
     ]
    },
    {
     "cell_type": "raw",
     "metadata": {},
     "source": [
      "<div itemscope data-bind=\"attr: { itemtype: itemType }\">\n",
      " <h2 itemprop=\"name\" data-bind=\"text: itemName\"></h2>\n",
      "    by <span property=\"creator\"></span> \n",
      "</div> "
     ]
    },
    {
     "cell_type": "raw",
     "metadata": {},
     "source": [
      "<script>\n",
      "    var microDataViewModel = function(){\n",
      "        \n",
      "    }\n",
      "</script>"
     ]
    },
    {
     "cell_type": "heading",
     "level": 3,
     "metadata": {},
     "source": [
      "Badge Assessment"
     ]
    },
    {
     "cell_type": "markdown",
     "metadata": {},
     "source": [
      "*  Add and bind a new &lt;span&gt; element with an itemprop using the Dublin Core language triple for the entity"
     ]
    },
    {
     "cell_type": "heading",
     "level": 2,
     "metadata": {},
     "source": [
      "Task #10: Converting RDF into MARC "
     ]
    },
    {
     "cell_type": "code",
     "collapsed": false,
     "input": [
      "def convert_rdf2MARC(entity):\n",
      "    marc_record = pymarc.Record()\n",
      "    return marc_record"
     ],
     "language": "python",
     "metadata": {},
     "outputs": []
    },
    {
     "cell_type": "markdown",
     "metadata": {},
     "source": [
      "*  Is the **convert_rdf2MARC** a lossless rount-trip?"
     ]
    },
    {
     "cell_type": "code",
     "collapsed": false,
     "input": [],
     "language": "python",
     "metadata": {},
     "outputs": []
    }
   ],
   "metadata": {}
  }
 ]
}