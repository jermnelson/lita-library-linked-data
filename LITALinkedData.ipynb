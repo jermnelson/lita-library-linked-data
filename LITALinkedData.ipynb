{
 "metadata": {
  "name": ""
 },
 "nbformat": 3,
 "nbformat_minor": 0,
 "worksheets": [
  {
   "cells": [
    {
     "cell_type": "markdown",
     "metadata": {},
     "source": [
      "# Lita Linked Data Python Notebook\n",
      "\n",
      "In this webinar we will be using the Python and Javascript programming languages to manipulate MARC21 and MARCXML into BIBFRAME, Dublin Core, and Schema.org graphs made-up of RDF triples in order to expose this linked data in the form of RDF xml, RDF N-triples, HTML5 RDFa, HTML5 microdata, and JSON Linked Data"
     ]
    },
    {
     "cell_type": "code",
     "collapsed": false,
     "input": [
      "from IPython.display import Image\n",
      "lita = Image(filename=\"static/img/lita-logo.png\")\n",
      "lita"
     ],
     "language": "python",
     "metadata": {},
     "outputs": []
    },
    {
     "cell_type": "markdown",
     "metadata": {},
     "source": [
      "# Task #1: Reading MARC21 Files\n",
      "\n",
      "MARC21 is the ...\n",
      "Although campaigoned as a battle-cry. For this session our initial data-set is made-up of random MARC21 records exported from Colorado College's ILS. You can directly.."
     ]
    },
    {
     "cell_type": "code",
     "collapsed": false,
     "input": [
      "import pymarc\n",
      "marc_records = [] \n",
      "with open(\"static/marc/marc-sample.mrc\") as marc_file:\n",
      "    marc_reader = pymarc.MARCReader(marc_file)\n",
      "    for rec in marc_reader:\n",
      "        marc_records.append(rec)"
     ],
     "language": "python",
     "metadata": {},
     "outputs": []
    },
    {
     "cell_type": "markdown",
     "metadata": {},
     "source": [
      "### Badge Assessment\n",
      "Please "
     ]
    },
    {
     "cell_type": "markdown",
     "metadata": {},
     "source": [
      "*  How would you substitute your own MARC21 file for *marc-sample.mrc* using the above Python code?"
     ]
    },
    {
     "cell_type": "code",
     "collapsed": false,
     "input": [],
     "language": "python",
     "metadata": {},
     "outputs": []
    },
    {
     "cell_type": "markdown",
     "metadata": {},
     "source": [
      "*  How many MARC records are in the list **marc_records**?"
     ]
    },
    {
     "cell_type": "code",
     "collapsed": false,
     "input": [
      "len(marc_records)"
     ],
     "language": "python",
     "metadata": {},
     "outputs": []
    },
    {
     "cell_type": "markdown",
     "metadata": {},
     "source": [
      "*  Describe what happens when you execute the following code snippet: "
     ]
    },
    {
     "cell_type": "code",
     "collapsed": false,
     "input": [
      "print(marc_records[1])"
     ],
     "language": "python",
     "metadata": {},
     "outputs": []
    },
    {
     "cell_type": "markdown",
     "metadata": {},
     "source": [
      "## Task #2: Retrieve MARC21 Data\n",
      "\n",
      "In this task, we'll start off with displaying the title for each MARC Record "
     ]
    },
    {
     "cell_type": "code",
     "collapsed": false,
     "input": [
      "for i, rec in enumerate(marc_records[0:100]):\n",
      "    print(\"{0} {1} {2}\".format(i,\n",
      "                               rec.title(),\n",
      "                               rec.author()))\n"
     ],
     "language": "python",
     "metadata": {},
     "outputs": []
    },
    {
     "cell_type": "markdown",
     "metadata": {},
     "source": [
      "### Badge Assessment:\n",
      "\n",
      "*  What is the title for record 8 in marc_records? (remember python lists start with a 0 index)\n",
      "\n",
      "\n"
     ]
    },
    {
     "cell_type": "code",
     "collapsed": false,
     "input": [
      "print(marc_records[7].title())"
     ],
     "language": "python",
     "metadata": {},
     "outputs": []
    },
    {
     "cell_type": "markdown",
     "metadata": {},
     "source": [
      "*  What is the isbn for record 8?"
     ]
    },
    {
     "cell_type": "code",
     "collapsed": false,
     "input": [
      "print(marc_records[7].isbn())"
     ],
     "language": "python",
     "metadata": {},
     "outputs": []
    },
    {
     "cell_type": "markdown",
     "metadata": {},
     "source": [
      "### Adding a new function\n",
      "\n",
      "Now we will create a function for classifying MARC21 Records as Schema.org CreativeWork Classes. "
     ]
    },
    {
     "cell_type": "code",
     "collapsed": false,
     "input": [
      "def classify_marc21_schema(record):\n",
      "    \"Classifies a MARC21 recorad as specific Work class based on BIBFRAME website\"\n",
      "    leader = record.leader\n",
      "    field007 = record['007']\n",
      "    field336 = record['336']\n",
      "    work_class = None\n",
      "    if leader[6] == 'a':\n",
      "        if field007 is not None:\n",
      "            test_value = field007.data[0]\n",
      "            if test_value == 'a' or test_value == 'd':\n",
      "                work_class = 'Map' # http://schema.org/Map\n",
      "            elif test_value == 'h': # Microfilm\n",
      "                work_class = 'Photograph' # http://schema.org/Photograph\n",
      "            elif ['m', 'v'].count(test_value) > 0:\n",
      "                work_class = 'VideoObject' # http://schema.org/VideoObject\n",
      "        else:\n",
      "            # Book is the default for Language Material\n",
      "            work_class =  'Book'\n",
      "    elif leader[6] == 'e' or leader[6] == 'f':\n",
      "        # Map is the default\n",
      "        work_class = 'Map'\n",
      "        if field007 is not None:\n",
      "            if field007.data[0] == 'r':\n",
      "                work_class = 'Dataset'\n",
      "    elif leader[6] == 'g':\n",
      "        work_class = 'Photograph'\n",
      "    elif leader[6] == 'i':\n",
      "        work_class = 'AudioObject' # http://schema.org/AudioObject\n",
      "    elif leader[6] == 'j':\n",
      "        work_class = 'MusicRecording'\n",
      "    elif leader[6] == 'k':\n",
      "        work_class = 'Photograph' \n",
      "    elif leader[6] == 'm':\n",
      "        work_class = 'SoftwareApplication'\n",
      "    if work_class is None:\n",
      "        work_class = 'CreativeWork'\n",
      "    return work_class"
     ],
     "language": "python",
     "metadata": {},
     "outputs": []
    },
    {
     "cell_type": "markdown",
     "metadata": {},
     "source": [
      "Using the `classify_marc21_schema` function, we can now create some summary statistics about our MARC21 dataset by looping through our list of MARC21 records."
     ]
    },
    {
     "cell_type": "code",
     "collapsed": false,
     "input": [
      "class_counters = {}\n",
      "for i, record in enumerate(marc_records):\n",
      "    result = classify_marc21_schema(record)\n",
      "    if not result in class_counters:\n",
      "        class_counters[result] = 1\n",
      "    else:\n",
      "        class_counters[result] = class_counters[result] + 1\n",
      "print(class_counters)"
     ],
     "language": "python",
     "metadata": {},
     "outputs": []
    },
    {
     "cell_type": "code",
     "collapsed": false,
     "input": [
      "import matplotlib.pyplot as plt\n",
      "%matplotlib inline\n",
      "schema_org_fig = plt.figure()\n",
      "axes = schema_org_fig.add_axes([0.1, 0.1, 0.8, 0.8])\n",
      "#axes.plot([1,1,1,1,1,1,1,1], class_counters.values(), 'r')\n",
      "axes.pie(class_counters.values(), labels=class_counters.keys(), autopct='%.2f')\n",
      "axes.set_title('Number of Schema.org Classes in MARC21 Records');\n",
      "\n",
      "\n"
     ],
     "language": "python",
     "metadata": {},
     "outputs": []
    },
    {
     "cell_type": "markdown",
     "metadata": {},
     "source": [
      "### Badge Assessment:\n",
      "\n",
      "*  How would you loop through the `marc_records` list and get the titles for the three VideoObjects?"
     ]
    },
    {
     "cell_type": "heading",
     "level": 2,
     "metadata": {},
     "source": [
      "Task #3: Parsing MARC XML"
     ]
    },
    {
     "cell_type": "code",
     "collapsed": false,
     "input": [],
     "language": "python",
     "metadata": {},
     "outputs": []
    },
    {
     "cell_type": "code",
     "collapsed": false,
     "input": [
      "from rdflib import Namespace\n",
      "from lxml import etree\n",
      "MARC_NS = Namespace('http://www.loc.gov/MARC21/slim')\n",
      "marc_xml = etree.parse('static/marc/marc-sample.xml')\n",
      "xml_marc_records = marc_xml.findall('/{{{0}}}record'.format(MARC_NS))"
     ],
     "language": "python",
     "metadata": {},
     "outputs": []
    },
    {
     "cell_type": "heading",
     "level": 3,
     "metadata": {},
     "source": [
      "Badge Assessment:"
     ]
    },
    {
     "cell_type": "markdown",
     "metadata": {},
     "source": [
      "*   Describe what happens when you execute the following code snippet: "
     ]
    },
    {
     "cell_type": "code",
     "collapsed": false,
     "input": [
      "print(etree.tostring(xml_marc_records[0], pretty_print=True))"
     ],
     "language": "python",
     "metadata": {},
     "outputs": []
    },
    {
     "cell_type": "markdown",
     "metadata": {},
     "source": [
      "*  How many &lt;marc:record&gt;  elements are in the xml_marc_records list?"
     ]
    },
    {
     "cell_type": "code",
     "collapsed": false,
     "input": [
      "len(xml_marc_records)"
     ],
     "language": "python",
     "metadata": {},
     "outputs": []
    },
    {
     "cell_type": "heading",
     "level": 2,
     "metadata": {},
     "source": [
      "Task #4: Retrieving Data with XPath"
     ]
    },
    {
     "cell_type": "code",
     "collapsed": false,
     "input": [
      "xpath_string = \"/{{{0}}}record/{{{0}}}datafield[@tag='245']/\".format(MARC_NS)\n",
      "title_elements = marc_xml.findall(xpath_string)\n",
      "for element in title_elements[0:100]:\n",
      "    print(element.text)"
     ],
     "language": "python",
     "metadata": {},
     "outputs": []
    },
    {
     "cell_type": "markdown",
     "metadata": {},
     "source": [
      "The `title_elements` list includes all of the subfields from the **245** field."
     ]
    },
    {
     "cell_type": "code",
     "collapsed": false,
     "input": [
      "first_rec_245s = xml_marc_records[0].findall(\"{{{0}}}datafield[@tag='245']/\".format(MARC_NS))\n",
      "for element in first_rec_245s:\n",
      "    print(element.tag)"
     ],
     "language": "python",
     "metadata": {},
     "outputs": []
    },
    {
     "cell_type": "heading",
     "level": 3,
     "metadata": {},
     "source": [
      "Badge Assessment:"
     ]
    },
    {
     "cell_type": "markdown",
     "metadata": {},
     "source": [
      "*  How could you improve the XPath \"/{{{0}}}record/{{{0}}}datafield[@tag='245']/\" to just select the **a** subfields of the 245 field? "
     ]
    },
    {
     "cell_type": "heading",
     "level": 2,
     "metadata": {},
     "source": [
      "Task #5: Creating JSON LinkedData from MARC "
     ]
    },
    {
     "cell_type": "heading",
     "level": 2,
     "metadata": {},
     "source": [
      "Task #6: Create RDF Tuple"
     ]
    },
    {
     "cell_type": "code",
     "collapsed": false,
     "input": [
      "DCTERMS = Namespace(\"http://purl.org/dc/terms/\")\n",
      "BIBFRAME = Namespace(\"http://bibframe.org/vocab/\")\n",
      "SCHEMA_ORG = Namespace(\"http://schema.org/\")\n",
      "from rdflib import Graph, BNode, Literal\n",
      "bib_graph = Graph()\n",
      "entities = Namespace('http://intro2libsys.info/lita-webinar-2014/entities/')\n",
      "entities.one\n",
      "entity = entities.one"
     ],
     "language": "python",
     "metadata": {},
     "outputs": []
    },
    {
     "cell_type": "heading",
     "level": 3,
     "metadata": {},
     "source": [
      "Badge Assessment"
     ]
    },
    {
     "cell_type": "markdown",
     "metadata": {},
     "source": [
      "*  Create a second entity using the third MARCXML document"
     ]
    },
    {
     "cell_type": "heading",
     "level": 2,
     "metadata": {},
     "source": [
      "Task #7 -- Extract and Add DC Title and Creator Tuples"
     ]
    },
    {
     "cell_type": "code",
     "collapsed": false,
     "input": [
      "bib_graph.add((entity, \n",
      "               DCTERMS.title, \n",
      "               Literal(marc_records[0].title())))\n",
      "bib_graph.add((entity,\n",
      "               DCTERMS.creator,\n",
      "               Literal(marc_records[0].author())))\n",
      "print(bib_graph)"
     ],
     "language": "python",
     "metadata": {},
     "outputs": []
    },
    {
     "cell_type": "heading",
     "level": 3,
     "metadata": {},
     "source": [
      "Badge Assessment"
     ]
    },
    {
     "cell_type": "markdown",
     "metadata": {},
     "source": [
      "*  How would you add a Dublin Core language tuple to the entity?"
     ]
    },
    {
     "cell_type": "markdown",
     "metadata": {},
     "source": [
      "*  Using the second entity you created, add the title and creator from the third MARCXML Document to the **bib_graph**"
     ]
    },
    {
     "cell_type": "heading",
     "level": 2,
     "metadata": {},
     "source": [
      "Task #8: Create HTML Template using MARC RDFa"
     ]
    },
    {
     "cell_type": "code",
     "collapsed": false,
     "input": [
      "template = \"\"\"<div vocab=\"http://dublincore.org\" type=\"{{ entity['@type'] }}\">\n",
      " <h2 property=\"title\">{{ entity.title }}</h2>\n",
      "by {% for row in entity.creators %}\n",
      "  <span property=\"creator\">{{ creator.name }}</span>\n",
      "{% endfor %}\n",
      "</div>\"\"\"\n",
      "from jinja2 import Template\n",
      "rdfa_template = Template(template)\n",
      "print(rdfa_template.render(entity=entity))"
     ],
     "language": "python",
     "metadata": {},
     "outputs": []
    },
    {
     "cell_type": "heading",
     "level": 3,
     "metadata": {},
     "source": [
      "Badge Assessment"
     ]
    },
    {
     "cell_type": "markdown",
     "metadata": {},
     "source": [
      "*  Add the Dublin Core language triple to the RDFa template"
     ]
    },
    {
     "cell_type": "markdown",
     "metadata": {},
     "source": [
      "*  Render and print the RDFa of the entity you created from the MARC XML using the rdfa.html template. "
     ]
    },
    {
     "cell_type": "heading",
     "level": 2,
     "metadata": {},
     "source": [
      "Task #9: Create Microdata using Knockout.js"
     ]
    },
    {
     "cell_type": "raw",
     "metadata": {},
     "source": [
      "<div itemscope data-bind=\"attr: { itemtype: itemType }\">\n",
      " <h2 itemprop=\"name\" data-bind=\"text: itemName\"></h2>\n",
      "    by <span property=\"creator\"></span> \n",
      "</div> "
     ]
    },
    {
     "cell_type": "raw",
     "metadata": {},
     "source": [
      "<script>\n",
      "    var microDataViewModel = function(){\n",
      "        \n",
      "    }\n",
      "</script>"
     ]
    },
    {
     "cell_type": "heading",
     "level": 3,
     "metadata": {},
     "source": [
      "Badge Assessment"
     ]
    },
    {
     "cell_type": "markdown",
     "metadata": {},
     "source": [
      "*  Add and bind a new &lt;span&gt; element with an itemprop using the Dublin Core language triple for the entity"
     ]
    },
    {
     "cell_type": "heading",
     "level": 2,
     "metadata": {},
     "source": [
      "Task #10: Converting RDF into MARC "
     ]
    },
    {
     "cell_type": "code",
     "collapsed": false,
     "input": [
      "def convert_rdf2MARC(entity):\n",
      "    marc_record = pymarc.Record()\n",
      "    return marc_record"
     ],
     "language": "python",
     "metadata": {},
     "outputs": []
    },
    {
     "cell_type": "markdown",
     "metadata": {},
     "source": [
      "*  Is the **convert_rdf2MARC** a lossless rount-trip?"
     ]
    },
    {
     "cell_type": "code",
     "collapsed": false,
     "input": [],
     "language": "python",
     "metadata": {},
     "outputs": []
    }
   ],
   "metadata": {}
  }
 ]
}