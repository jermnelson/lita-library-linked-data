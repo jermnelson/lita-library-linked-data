{
 "metadata": {
  "name": ""
 },
 "nbformat": 3,
 "nbformat_minor": 0,
 "worksheets": [
  {
   "cells": [
    {
     "cell_type": "heading",
     "level": 1,
     "metadata": {},
     "source": [
      "Lita Linked Data Python Notebook"
     ]
    },
    {
     "cell_type": "code",
     "collapsed": false,
     "input": [
      "from IPython.display import Image\n",
      "lita = Image(filename=\"/Users/jeremynelson/2014/lita-library-linked-data/static/img/lita-logo.png\")\n",
      "lita"
     ],
     "language": "python",
     "metadata": {},
     "outputs": [
      {
       "metadata": {},
       "output_type": "pyout",
       "png": "[encoded data removed]",
       "prompt_number": 14,
       "text": [
        "<IPython.core.display.Image at 0x1022496d0>"
       ]
      }
     ],
     "prompt_number": 14
    },
    {
     "cell_type": "heading",
     "level": 2,
     "metadata": {},
     "source": [
      "Task #1: Reading MARC21 Files"
     ]
    },
    {
     "cell_type": "code",
     "collapsed": false,
     "input": [
      "import pymarc\n",
      "marc_records = [] \n",
      "with open(\"/Users/jeremynelson/tutt-11-17-11.mrc\") as marc_file:\n",
      "    marc_reader = pymarc.MARCReader(marc_file)\n",
      "    for i in range(0, 99):\n",
      "        marc_records.append(next(marc_reader))"
     ],
     "language": "python",
     "metadata": {},
     "outputs": [],
     "prompt_number": 1
    },
    {
     "cell_type": "heading",
     "level": 3,
     "metadata": {},
     "source": [
      "Badge Assessment"
     ]
    },
    {
     "cell_type": "markdown",
     "metadata": {},
     "source": [
      "*  How many MARC records are in the list **marc_records**?"
     ]
    },
    {
     "cell_type": "markdown",
     "metadata": {},
     "source": [
      "*  Describe what happens when you execute the following code snippet: "
     ]
    },
    {
     "cell_type": "code",
     "collapsed": false,
     "input": [
      "print(marc_records[1])"
     ],
     "language": "python",
     "metadata": {},
     "outputs": [
      {
       "output_type": "stream",
       "stream": "stdout",
       "text": [
        "=LDR  01220nam  22003618a 4500\n",
        "=001  13332422\n",
        "=005  19860415151602.0\n",
        "=008  860226s1986\\\\\\\\cou\\\\\\\\\\\\b\\\\\\\\001\\0\\eng\\\\\n",
        "=010  \\\\$a86004530\n",
        "=020  \\\\$a091789507X\n",
        "=035  \\\\$a.b10000033$bmulti$c-\n",
        "=035  \\\\$a.b10000033$bmulti$c-\n",
        "=035  \\\\$a(CoCC)100\n",
        "=040  \\\\$aDLC$cDLC$dCOC\n",
        "=043  \\\\$an-us-co$an-us-nm\n",
        "=049  \\\\$a[ColoRm]COCB\n",
        "=090  \\\\$aGV199.42.S26 R67 1986\n",
        "=100  1\\$aRosebrough, Robert F.\n",
        "=245  14$aThe San Juan Mountains :$ba climbing & hiking guide /$cRobert F. Rosebrough.\n",
        "=250  \\\\$a1st ed.\n",
        "=260  \\\\$aEvergreen, Colo. :$bCordillera Press,$cc1986.\n",
        "=263  \\\\$a8604.\n",
        "=300  \\\\$axii, 257 p. :$bill. ;$c21 cm.\n",
        "=500  \\\\$aIncludes index.\n",
        "=504  \\\\$aBibliography: p. 247-248.\n",
        "=650  \\0$aMountaineering$zSan Juan Mountains (Colo. and N.M.)$vGuidebooks.\n",
        "=650  \\0$aHiking$zSan Juan Mountains (Colo. and N.M.)$vGuidebooks.\n",
        "=651  \\0$aSan Juan Mountains (Colo. and N.M.)$vGuidebooks.\n",
        "=907  \\\\$a.b10000033\n",
        "=902  \\\\$a110114\n",
        "=999  \\\\$b2$c940803$dm$ea$f-$g4\n",
        "=994  \\\\$atsco\n",
        "=945  \\\\$aGV199.42.S26 R67 1986$g1$i33027000501035$j0$ltsco $h0$o-$p$0.00$r-$sh$t13$u0$v0$w0$x0$y.i10000033$z940804\n",
        "\n"
       ]
      }
     ],
     "prompt_number": 10
    },
    {
     "cell_type": "heading",
     "level": 2,
     "metadata": {},
     "source": [
      "Task #2: Retrieve MARC21 Data"
     ]
    },
    {
     "cell_type": "code",
     "collapsed": false,
     "input": [
      "for i, rec in enumerate(marc_records):\n",
      "    print(\"{0} {1}\".format(i,\n",
      "                           rec.title()))\n"
     ],
     "language": "python",
     "metadata": {},
     "outputs": [
      {
       "output_type": "stream",
       "stream": "stdout",
       "text": [
        "0 Report of the Woman's Council of Defense for Colorado :from November 30, 1917to November 30, 1918.\n",
        "1 The San Juan Mountains :a climbing & hiking guide /\n",
        "2 Nine women :short stories /\n",
        "3 Colorado school laws.\n",
        "4 Rings of operators.\n",
        "5 Fields and rings.\n",
        "6 The distribution of prime numbers: large sieves and zero-density theorems,\n",
        "7 Invisible astronomy\n",
        "8 Astronomical telescopes and observatories for amateurs,\n",
        "9 The telescope makers;from Galileo to the space age.\n",
        "10 Eyes on the universe :a history of the telescope /\n",
        "11 The story of Jodrell Bank\n",
        "12 Out of the zenith;Jodrell Bank, 1957-1970\n",
        "13 The structure of space:the growth of man's ideas on the nature of forces, fields, and waves.\n",
        "14 Amateur astronomy.\n",
        "15 Astronomy and the origin of the earth\n",
        "16 Galileo studies: personality, tradition, and revolution.\n",
        "17 Statistical methods for research workers.\n",
        "18 Fourier analysis in probability theory.\n",
        "19 Radiation :one story of the M.I.T. Radiation Laboratory /\n",
        "20 American science in the age of Jackson\n",
        "21 Computational handbook of statistics\n",
        "22 Introduction to partial differential equations and boundary value problems.\n",
        "23 The cosmic connection;an extraterrestrial perspective.\n",
        "24 The Women's project :seven new plays by women /\n",
        "25 Beyond the Milky Way;galaxies, quasars, and the new cosmology,\n",
        "26 Suns, myths, and men.\n",
        "27 Man and his universe.\n",
        "28 Frontiers of astrophysics /\n",
        "29 Whitney's star finder;a field guide to the heavens\n",
        "30 Principles of cosmology and gravitation /\n",
        "31 Spectroscopic astrophysics;an assessment of the contributions of Otto Struve.\n",
        "32 The origin of the chemical elements\n",
        "33 Astrophysics\n",
        "34 La noche abierta /\n",
        "35 Astrophysical formulae :a compendium for the physicist and astrophysicist /\n",
        "36 Cosmology\n",
        "37 Introduction to radio astronomy /\n",
        "38 The evolution of radio astronomy,\n",
        "39 Radio astronomy for the amateur /\n",
        "40 Egypt: paintings from tombs and temples.\n",
        "41 Peaceful conquest :the industrialization of Europe, 1760-1970 /\n",
        "42 Slickrock;the canyon country of southeast Utah.\n",
        "43 Why Johnny can't read--and what you can do about it.\n",
        "44 Soviet communism and the socialist vision.\n",
        "45 Soviet policy and the Chinese Communists, 1931-1946.\n",
        "46 The Iron Century: social change in Europe, 1550-1660\n",
        "47 Physiological systems in semiarid environments.\n",
        "48 Brassai.\n",
        "49 The writings of Christopher Gadsden, 1746-1805.\n",
        "50 The young Stalin;the early years of an elusive revolutionary.\n",
        "51 Trade policy in the 1980s /\n",
        "52 Joseph von Eichendorff.\n",
        "53 Yalta.\n",
        "54 Pagan Scandinavia\n",
        "55 Prehistoric religion;a study in prehistoric archaeology.\n",
        "56 The Christian philosophy of Saint Augustine.\n",
        "57 The dark world of witches.\n",
        "58 The Pinkerton story,\n",
        "59 Eavesdropping on trial\n",
        "60 The exchange rate system /\n",
        "61 Foolish figleaves?Pornography in and out of court\n",
        "62 Conglomerate enterprise and public policy\n",
        "63 The corporate oligarch.\n",
        "64 The robber barons revisited.\n",
        "65 The corporation in a democratic society /\n",
        "66 The intruders;the invasion of privacy by government and industry,\n",
        "67 African nationalism in the twentieth century\n",
        "68 Emergent Africa.\n",
        "69 The African predicament;a study in the pathology of modernisation.\n",
        "70 The Hoosier school-master :a novel /\n",
        "71 Studs Lonigan;a trilogy containing Young Lonigan, The young manhood of Studs Lonigan, Judgment day.\n",
        "72 SMSG;the making of a curriculum.\n",
        "73 Students, scholars, and parents;an exploration of the ideas behind the new math and other curriculum reform.\n",
        "74 Descriptive and comparative linguistics;a critical introduction,\n",
        "75 Go down, Moses.\n",
        "76 Police relations in small Colorado communities :a report /\n",
        "77 Direct use of the sun's energy.\n",
        "78 Solar energy for man\n",
        "79 Rise up to life;a biography of Howard Walter Florey who gave penicillin to the world.\n",
        "80 The biology of hydraand of some other coelenterates, 1961.\n",
        "81 The genus Pinus\n",
        "82 A history of biology to about the year 1900;a general introduction to the study of living things.\n",
        "83 Hart Crane:an annotated critical bibliography.\n",
        "84 Sons of the machine :case studies of social change in the workplace /\n",
        "85 Reflections of reality in Japanese art /\n",
        "86 Big woods.\n",
        "87 Censorship: government and obscenity.\n",
        "88 The drama of power;studies in Shakespeare's history plays\n",
        "89 Elizabethan poetry,a study in conventions, meaning, and expression.\n",
        "90 Critics on Melville.\n",
        "91 A reader's guide to Herman Melville.\n",
        "92 The power of blackness: Hawthorne, Poe, Melville.\n",
        "93 Dos Passos' path to U.S.A.;a political biography, 1912-1936.\n",
        "94 Dos Passos:a collection of critical essays.\n",
        "95 The best times;an informal memoir.\n",
        "96 Interpreting Indonesian politics :thirteen contributions to the debate /\n",
        "97 Censorship of the movies;the social and political control of a mass medium\n",
        "98 The photographer's eye.\n"
       ]
      }
     ],
     "prompt_number": 19
    },
    {
     "cell_type": "markdown",
     "metadata": {},
     "source": [
      "### Badge Assessment:\n",
      "\n",
      "*  What is the title for record 8 in marc_records? (remember python lists start with a 0 index)\n",
      "\n",
      "\n"
     ]
    },
    {
     "cell_type": "code",
     "collapsed": false,
     "input": [
      "print(marc_records[7].title())\n",
      "\n",
      "\n",
      "\n",
      "\n"
     ],
     "language": "python",
     "metadata": {},
     "outputs": [
      {
       "output_type": "stream",
       "stream": "stdout",
       "text": [
        "Invisible astronomy\n"
       ]
      }
     ],
     "prompt_number": 16
    },
    {
     "cell_type": "markdown",
     "metadata": {},
     "source": [
      "*  What is the isbn for record 8?"
     ]
    },
    {
     "cell_type": "code",
     "collapsed": false,
     "input": [
      "print(marc_records[7].isbn())"
     ],
     "language": "python",
     "metadata": {},
     "outputs": [
      {
       "output_type": "stream",
       "stream": "stdout",
       "text": [
        "0413266303\n"
       ]
      }
     ],
     "prompt_number": 17
    },
    {
     "cell_type": "heading",
     "level": 2,
     "metadata": {},
     "source": [
      "Task #3: Parsing MARC XML"
     ]
    },
    {
     "cell_type": "code",
     "collapsed": false,
     "input": [
      "from rdflib import Namespace\n",
      "from lxml import etree\n",
      "MARC_NS = Namespace('http://www.loc.gov/MARC21/slim')\n",
      "marc_xml = etree.parse('E:\\\\training\\\\marc-sample.xml')\n",
      "marc_records = marc_xml.findall('/{{{0}}}record'.format(MARC_NS))\n"
     ],
     "language": "python",
     "metadata": {},
     "outputs": [],
     "prompt_number": 2
    },
    {
     "cell_type": "heading",
     "level": 3,
     "metadata": {},
     "source": [
      "Badge Assessment:"
     ]
    },
    {
     "cell_type": "markdown",
     "metadata": {},
     "source": [
      "*  How many &lt; marc:record &gt;  elements are in the marc_records list?"
     ]
    },
    {
     "cell_type": "heading",
     "level": 2,
     "metadata": {},
     "source": [
      "Task #4: Retrieving Data with XPath"
     ]
    },
    {
     "cell_type": "code",
     "collapsed": false,
     "input": [
      "xpath_string = \"/{{{0}}}record/{{{0}}}datafield[@tag='245']/\".format(MARC_NS)\n",
      "title_elements = marc_xml.findall(xpath_string)\n",
      "print(title_elements[0].text)"
     ],
     "language": "python",
     "metadata": {},
     "outputs": []
    },
    {
     "cell_type": "heading",
     "level": 3,
     "metadata": {},
     "source": [
      "Badge Assessment:"
     ]
    },
    {
     "cell_type": "markdown",
     "metadata": {},
     "source": [
      "*  How could you improve the XPath \"/{{{0}}}record/{{{0}}}datafield[@tag='245']/\" to just select the **a** subfields of the 245 field? "
     ]
    },
    {
     "cell_type": "heading",
     "level": 2,
     "metadata": {},
     "source": [
      "Task #5: Creating JSON LinkedData from MARC "
     ]
    },
    {
     "cell_type": "heading",
     "level": 2,
     "metadata": {},
     "source": [
      "Task #6: Create RDF Tuple"
     ]
    },
    {
     "cell_type": "code",
     "collapsed": false,
     "input": [
      "DCTERMS = Namespace(\"http://purl.org/dc/terms/\")\n",
      "BIBFRAME = Namespace(\"http://bibframe.org/vocab/\")\n",
      "SCHEMA_ORG = Namespace(\"http://schema.org/\")\n",
      "from rdflib import Graph, BNode, Literal\n",
      "bib_graph = Graph()\n",
      "entities = Namespace('http://intro2libsys.info/lita-webinar-2014/entities/')\n",
      "entities.one\n",
      "entity = entities.one"
     ],
     "language": "python",
     "metadata": {},
     "outputs": [
      {
       "ename": "NameError",
       "evalue": "name 'Namespace' is not defined",
       "output_type": "pyerr",
       "traceback": [
        "\u001b[0;31m---------------------------------------------------------------------------\u001b[0m\n\u001b[0;31mNameError\u001b[0m                                 Traceback (most recent call last)",
        "\u001b[0;32m<ipython-input-13-f5c2020b1738>\u001b[0m in \u001b[0;36m<module>\u001b[0;34m()\u001b[0m\n\u001b[0;32m----> 1\u001b[0;31m \u001b[0mDCTERMS\u001b[0m \u001b[0;34m=\u001b[0m \u001b[0mNamespace\u001b[0m\u001b[0;34m(\u001b[0m\u001b[0;34m\"http://purl.org/dc/terms/\"\u001b[0m\u001b[0;34m)\u001b[0m\u001b[0;34m\u001b[0m\u001b[0m\n\u001b[0m\u001b[1;32m      2\u001b[0m \u001b[0mBIBFRAME\u001b[0m \u001b[0;34m=\u001b[0m \u001b[0mNamespace\u001b[0m\u001b[0;34m(\u001b[0m\u001b[0;34m\"http://bibframe.org/vocab/\"\u001b[0m\u001b[0;34m)\u001b[0m\u001b[0;34m\u001b[0m\u001b[0m\n\u001b[1;32m      3\u001b[0m \u001b[0mSCHEMA_ORG\u001b[0m \u001b[0;34m=\u001b[0m \u001b[0mNamespace\u001b[0m\u001b[0;34m(\u001b[0m\u001b[0;34m\"http://schema.org/\"\u001b[0m\u001b[0;34m)\u001b[0m\u001b[0;34m\u001b[0m\u001b[0m\n\u001b[1;32m      4\u001b[0m \u001b[0;32mfrom\u001b[0m \u001b[0mrdflib\u001b[0m \u001b[0;32mimport\u001b[0m \u001b[0mGraph\u001b[0m\u001b[0;34m,\u001b[0m \u001b[0mBNode\u001b[0m\u001b[0;34m,\u001b[0m \u001b[0mLiteral\u001b[0m\u001b[0;34m\u001b[0m\u001b[0m\n\u001b[1;32m      5\u001b[0m \u001b[0mbib_graph\u001b[0m \u001b[0;34m=\u001b[0m \u001b[0mGraph\u001b[0m\u001b[0;34m(\u001b[0m\u001b[0;34m)\u001b[0m\u001b[0;34m\u001b[0m\u001b[0m\n",
        "\u001b[0;31mNameError\u001b[0m: name 'Namespace' is not defined"
       ]
      }
     ],
     "prompt_number": 13
    },
    {
     "cell_type": "heading",
     "level": 3,
     "metadata": {},
     "source": [
      "Badge Assessment"
     ]
    },
    {
     "cell_type": "markdown",
     "metadata": {},
     "source": [
      "*  Create a second entity using the third MARCXML document"
     ]
    },
    {
     "cell_type": "heading",
     "level": 2,
     "metadata": {},
     "source": [
      "Task #7 -- Extract and Add DC Title and Creator Tuples"
     ]
    },
    {
     "cell_type": "code",
     "collapsed": false,
     "input": [
      "bib_graph.add((entity, \n",
      "               DCTERMS.title, \n",
      "               Literal(marc_records[0].title())))\n",
      "bib_graph.add((entity,\n",
      "               DCTERMS.creator,\n",
      "               Literal(marc_records[0].author())))"
     ],
     "language": "python",
     "metadata": {},
     "outputs": [
      {
       "ename": "IndexError",
       "evalue": "list index out of range",
       "output_type": "pyerr",
       "traceback": [
        "\u001b[0;31m---------------------------------------------------------------------------\u001b[0m\n\u001b[0;31mIndexError\u001b[0m                                Traceback (most recent call last)",
        "\u001b[0;32m<ipython-input-7-220562d07a58>\u001b[0m in \u001b[0;36m<module>\u001b[0;34m()\u001b[0m\n\u001b[1;32m      1\u001b[0m bib_graph.add((entity, \n\u001b[1;32m      2\u001b[0m                \u001b[0mDCTERMS\u001b[0m\u001b[0;34m.\u001b[0m\u001b[0mtitle\u001b[0m\u001b[0;34m,\u001b[0m\u001b[0;34m\u001b[0m\u001b[0m\n\u001b[0;32m----> 3\u001b[0;31m                Literal(marc_records[0].title())))\n\u001b[0m\u001b[1;32m      4\u001b[0m bib_graph.add((entity,\n\u001b[1;32m      5\u001b[0m                \u001b[0mDCTERMS\u001b[0m\u001b[0;34m.\u001b[0m\u001b[0mcreator\u001b[0m\u001b[0;34m,\u001b[0m\u001b[0;34m\u001b[0m\u001b[0m\n",
        "\u001b[0;31mIndexError\u001b[0m: list index out of range"
       ]
      }
     ],
     "prompt_number": 7
    },
    {
     "cell_type": "heading",
     "level": 3,
     "metadata": {},
     "source": [
      "Badge Assessment"
     ]
    },
    {
     "cell_type": "markdown",
     "metadata": {},
     "source": [
      "*  How would you add a Dublin Core language tuple to the entity?"
     ]
    },
    {
     "cell_type": "markdown",
     "metadata": {},
     "source": [
      "*  Using the second entity you created, add the title and creator from the third MARCXML Document to the **bib_graph**"
     ]
    },
    {
     "cell_type": "heading",
     "level": 2,
     "metadata": {},
     "source": [
      "Task #8: Create HTML Template using MARC RDFa"
     ]
    },
    {
     "cell_type": "code",
     "collapsed": false,
     "input": [
      "template = \"\"\"<div vocab=\"http://dublincore.org\" type=\"{{ entity }}\">\n",
      " <h2 property=\"title\">{{ entity.title }}</h2>\n",
      "by {% for row in entity.creators %}\n",
      "  <span property=\"creator\">{{ creator.name }}</span>\n",
      "{% endfor %}\n",
      "</div>\"\"\"\n",
      "from jinja2 import Template\n",
      "rdfa_template = Template(template)\n",
      "print(rdfa_template.render(entity=entity))"
     ],
     "language": "python",
     "metadata": {},
     "outputs": [
      {
       "ename": "NameError",
       "evalue": "name 'entity' is not defined",
       "output_type": "pyerr",
       "traceback": [
        "\u001b[0;31m---------------------------------------------------------------------------\u001b[0m\n\u001b[0;31mNameError\u001b[0m                                 Traceback (most recent call last)",
        "\u001b[0;32m<ipython-input-12-b1f95f03245c>\u001b[0m in \u001b[0;36m<module>\u001b[0;34m()\u001b[0m\n\u001b[1;32m      7\u001b[0m \u001b[0;32mfrom\u001b[0m \u001b[0mjinja2\u001b[0m \u001b[0;32mimport\u001b[0m \u001b[0mTemplate\u001b[0m\u001b[0;34m\u001b[0m\u001b[0m\n\u001b[1;32m      8\u001b[0m \u001b[0mrdfa_template\u001b[0m \u001b[0;34m=\u001b[0m \u001b[0mTemplate\u001b[0m\u001b[0;34m(\u001b[0m\u001b[0mtemplate\u001b[0m\u001b[0;34m)\u001b[0m\u001b[0;34m\u001b[0m\u001b[0m\n\u001b[0;32m----> 9\u001b[0;31m \u001b[0;32mprint\u001b[0m\u001b[0;34m(\u001b[0m\u001b[0mrdfa_template\u001b[0m\u001b[0;34m.\u001b[0m\u001b[0mrender\u001b[0m\u001b[0;34m(\u001b[0m\u001b[0mentity\u001b[0m\u001b[0;34m=\u001b[0m\u001b[0mentity\u001b[0m\u001b[0;34m)\u001b[0m\u001b[0;34m)\u001b[0m\u001b[0;34m\u001b[0m\u001b[0m\n\u001b[0m",
        "\u001b[0;31mNameError\u001b[0m: name 'entity' is not defined"
       ]
      }
     ],
     "prompt_number": 12
    },
    {
     "cell_type": "heading",
     "level": 3,
     "metadata": {},
     "source": [
      "Badge Assessment"
     ]
    },
    {
     "cell_type": "markdown",
     "metadata": {},
     "source": [
      "*  Add the Dublin Core language triple to the RDFa template"
     ]
    },
    {
     "cell_type": "markdown",
     "metadata": {},
     "source": [
      "*  Render and print the RDFa of the entity you created from the MARC XML using the rdfa.html template. "
     ]
    },
    {
     "cell_type": "heading",
     "level": 2,
     "metadata": {},
     "source": [
      "Task #9: Create Microdata using Knockout.js"
     ]
    },
    {
     "cell_type": "raw",
     "metadata": {},
     "source": [
      "<div itemscope data-bind=\"attr: { itemtype: itemType }\">\n",
      " <h2 itemprop=\"name\" data-bind=\"text: itemName\"></h2>\n",
      "    by <span property=\"creator\"></span> \n",
      "</div> "
     ]
    },
    {
     "cell_type": "raw",
     "metadata": {},
     "source": [
      "<script>\n",
      "    var microDataViewModel = function(){\n",
      "        \n",
      "    }\n",
      "</script>"
     ]
    },
    {
     "cell_type": "heading",
     "level": 3,
     "metadata": {},
     "source": [
      "Badge Assessment"
     ]
    },
    {
     "cell_type": "markdown",
     "metadata": {},
     "source": [
      "*  Add and bind a new &lt;span&gt; element with an itemprop using the Dublin Core language triple for the entity"
     ]
    },
    {
     "cell_type": "heading",
     "level": 2,
     "metadata": {},
     "source": [
      "Task #10: Converting RDF into MARC "
     ]
    },
    {
     "cell_type": "code",
     "collapsed": false,
     "input": [
      "def convert_rdf2MARC(entity):\n",
      "    marc_record = pymarc.Record()\n",
      "    return marc_record"
     ],
     "language": "python",
     "metadata": {},
     "outputs": []
    },
    {
     "cell_type": "markdown",
     "metadata": {},
     "source": [
      "*  Is the **convert_rdf2MARC** a lossless rount-trip?"
     ]
    },
    {
     "cell_type": "code",
     "collapsed": false,
     "input": [],
     "language": "python",
     "metadata": {},
     "outputs": []
    }
   ],
   "metadata": {}
  }
 ]
}