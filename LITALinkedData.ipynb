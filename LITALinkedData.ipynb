{
 "metadata": {
  "name": ""
 },
 "nbformat": 3,
 "nbformat_minor": 0,
 "worksheets": [
  {
   "cells": [
    {
     "cell_type": "markdown",
     "metadata": {},
     "source": [
      "# Lita Linked Data Python Notebook\n",
      "\n",
      "In this webinar we will be using the Python and Javascript programming languages to manipulate MARC21 and MARCXML into BIBFRAME, Dublin Core, and Schema.org graphs made-up of RDF triples in order to expose this linked data in the form of RDF xml, RDF N-triples, HTML5 RDFa, HTML5 microdata, and JSON Linked Data"
     ]
    },
    {
     "cell_type": "code",
     "collapsed": false,
     "input": [
      "from IPython.display import Image\n",
      "lita = Image(filename=\"static/img/lita-logo.png\")\n",
      "lita"
     ],
     "language": "python",
     "metadata": {},
     "outputs": []
    },
    {
     "cell_type": "markdown",
     "metadata": {},
     "source": [
      "# Task #1: Reading MARC21 Files\n",
      "\n",
      "MARC21 is a binary format developed by the Library of Congress. Dealing with the raw MARC21 can be challenging because MARC21 combines both fixed-length and variable length fields. Fortunately a number of open-source libraries exist for manipulating MARC21 records that hides some of the complexity behind the format. First we will use Ed Summer's PyMARC module for coding experiment. \n",
      "\n",
      "For this session our initial data-set is made-up of random MARC21 records exported from Colorado College's ILS. "
     ]
    },
    {
     "cell_type": "code",
     "collapsed": false,
     "input": [
      "import pymarc\n",
      "marc_records = [] \n",
      "with open(\"static/marc/marc-sample.mrc\") as marc_file:\n",
      "    marc_reader = pymarc.MARCReader(marc_file)\n",
      "    for rec in marc_reader:\n",
      "        marc_records.append(rec)"
     ],
     "language": "python",
     "metadata": {},
     "outputs": []
    },
    {
     "cell_type": "markdown",
     "metadata": {},
     "source": [
      "### Badge Assessment"
     ]
    },
    {
     "cell_type": "markdown",
     "metadata": {},
     "source": [
      "*  How many MARC records are in the list **marc_records**?"
     ]
    },
    {
     "cell_type": "code",
     "collapsed": false,
     "input": [],
     "language": "python",
     "metadata": {},
     "outputs": []
    },
    {
     "cell_type": "markdown",
     "metadata": {},
     "source": [
      "*  How would you substitute your own MARC21 file for *marc-sample.mrc* using the above Python code?"
     ]
    },
    {
     "cell_type": "code",
     "collapsed": false,
     "input": [],
     "language": "python",
     "metadata": {},
     "outputs": []
    },
    {
     "cell_type": "markdown",
     "metadata": {},
     "source": [
      "*  Describe what happens when you execute the following code snippet: "
     ]
    },
    {
     "cell_type": "code",
     "collapsed": false,
     "input": [
      "print(marc_records[1905])"
     ],
     "language": "python",
     "metadata": {},
     "outputs": []
    },
    {
     "cell_type": "markdown",
     "metadata": {},
     "source": [
      "[Write Answer here]"
     ]
    },
    {
     "cell_type": "markdown",
     "metadata": {},
     "source": [
      "# Task #2: Retrieving MARC21 Data\n",
      "\n",
      "In this task, we'll start off with displaying the title and author for the first 100 MARC Records using two **pymarc** record methods. "
     ]
    },
    {
     "cell_type": "code",
     "collapsed": false,
     "input": [
      "for i, rec in enumerate(marc_records[0:250]):\n",
      "    print(\"{0} {1} {2}\".format(i,\n",
      "                               rec.title(),\n",
      "                               rec.author()))\n"
     ],
     "language": "python",
     "metadata": {},
     "outputs": []
    },
    {
     "cell_type": "code",
     "collapsed": false,
     "input": [
      "# Unicode values in these records\n",
      "print(marc_records[13].author())"
     ],
     "language": "python",
     "metadata": {},
     "outputs": []
    },
    {
     "cell_type": "markdown",
     "metadata": {},
     "source": [
      "These MARC21 records are not encoded correctly for Unicode **S\u00e3o Paulo, Brazil** should be displayed as"
     ]
    },
    {
     "cell_type": "code",
     "collapsed": false,
     "input": [
      "print(u\"S\u00e3o Paulo, Brazil\")"
     ],
     "language": "python",
     "metadata": {},
     "outputs": []
    },
    {
     "cell_type": "markdown",
     "metadata": {},
     "source": [
      "### Methods of the MARC Record class\n",
      "\n",
      "The `pymarc` Record class has a number of convenience methods that we will be using from now on. You can always see what methods are available for any Python class by running the following: "
     ]
    },
    {
     "cell_type": "code",
     "collapsed": false,
     "input": [
      "for row in dir(marc_records[8842]):\n",
      "    if row.startswith(\"_\"): # Filter out internal properties\n",
      "        continue\n",
      "    print(row)"
     ],
     "language": "python",
     "metadata": {},
     "outputs": []
    },
    {
     "cell_type": "markdown",
     "metadata": {},
     "source": [
      "### Badge Assessment:\n",
      "\n",
      "*  What is the title for record 8 in marc_records? (remember python lists start with a 0 index)\n",
      "\n",
      "\n"
     ]
    },
    {
     "cell_type": "code",
     "collapsed": false,
     "input": [],
     "language": "python",
     "metadata": {},
     "outputs": []
    },
    {
     "cell_type": "markdown",
     "metadata": {},
     "source": [
      "*  What is the isbn for record 8?"
     ]
    },
    {
     "cell_type": "code",
     "collapsed": false,
     "input": [],
     "language": "python",
     "metadata": {},
     "outputs": []
    },
    {
     "cell_type": "markdown",
     "metadata": {},
     "source": [
      "### Adding a new function\n",
      "\n",
      "Now we will create a function for classifying MARC21 Records as Schema.org CreativeWork Classes. "
     ]
    },
    {
     "cell_type": "code",
     "collapsed": false,
     "input": [
      "def classify_marc21_schema(record):\n",
      "    \"Classifies a MARC21 recorad as specific Work class based on BIBFRAME website\"\n",
      "    leader = record.leader\n",
      "    field007 = record['007']\n",
      "    field336 = record['336']\n",
      "    work_class = None\n",
      "    if leader[6] == 'a':\n",
      "        if field007 is not None:\n",
      "            test_value = field007.data[0]\n",
      "            if test_value == 'a' or test_value == 'd':\n",
      "                work_class = 'Map' # http://schema.org/Map\n",
      "            elif test_value == 'h': # Microfilm\n",
      "                work_class = 'Photograph' # http://schema.org/Photograph\n",
      "            elif ['m', 'v'].count(test_value) > 0:\n",
      "                work_class = 'VideoObject' # http://schema.org/VideoObject\n",
      "        else:\n",
      "            # Book is the default for Language Material\n",
      "            work_class =  'Book'\n",
      "    elif leader[6] == 'e' or leader[6] == 'f':\n",
      "        # Map is the default\n",
      "        work_class = 'Map'\n",
      "        if field007 is not None:\n",
      "            if field007.data[0] == 'r':\n",
      "                work_class = 'Dataset'\n",
      "    elif leader[6] == 'g':\n",
      "        work_class = 'Photograph'\n",
      "    elif leader[6] == 'i':\n",
      "        work_class = 'AudioObject' # http://schema.org/AudioObject\n",
      "    elif leader[6] == 'j':\n",
      "        work_class = 'MusicRecording'\n",
      "    elif leader[6] == 'k':\n",
      "        work_class = 'Photograph' \n",
      "    elif leader[6] == 'm':\n",
      "        work_class = 'SoftwareApplication'\n",
      "    if work_class is None:\n",
      "        work_class = 'CreativeWork'\n",
      "    return work_class"
     ],
     "language": "python",
     "metadata": {},
     "outputs": []
    },
    {
     "cell_type": "markdown",
     "metadata": {},
     "source": [
      "Using the `classify_marc21_schema` function, we can now create some summary statistics about our MARC21 dataset by looping through our list of MARC21 records."
     ]
    },
    {
     "cell_type": "code",
     "collapsed": false,
     "input": [
      "class_counters = {}\n",
      "for i, record in enumerate(marc_records):\n",
      "    result = classify_marc21_schema(record)\n",
      "    if not result in class_counters:\n",
      "        class_counters[result] = 1\n",
      "    else:\n",
      "        class_counters[result] = class_counters[result] + 1\n",
      "print(class_counters)"
     ],
     "language": "python",
     "metadata": {},
     "outputs": []
    },
    {
     "cell_type": "code",
     "collapsed": false,
     "input": [
      "import matplotlib.pyplot as plt\n",
      "%matplotlib inline\n",
      "schema_org_fig = plt.figure()\n",
      "axes = schema_org_fig.add_axes([0.1, 0.1, 0.8, 0.8])\n",
      "axes.pie(class_counters.values(), labels=class_counters.keys(), autopct='%.2f')\n",
      "axes.set_title('Number of Schema.org Classes in MARC21 Records');"
     ],
     "language": "python",
     "metadata": {},
     "outputs": []
    },
    {
     "cell_type": "markdown",
     "metadata": {},
     "source": [
      "### Badge Assessment:\n",
      "\n",
      "*  How would you loop through the `marc_records` list and get the titles for the three VideoObjects?"
     ]
    },
    {
     "cell_type": "code",
     "collapsed": false,
     "input": [],
     "language": "python",
     "metadata": {},
     "outputs": []
    },
    {
     "cell_type": "markdown",
     "metadata": {},
     "source": [
      "# Task #3: Parsing MARC XML\n",
      "\n",
      "In this task, we'll be using start with a XML file derived the same MARC21 records we used earlier. "
     ]
    },
    {
     "cell_type": "code",
     "collapsed": false,
     "input": [
      "from rdflib import Namespace\n",
      "from lxml import etree\n",
      "MARC_NS = Namespace('http://www.loc.gov/MARC21/slim')\n",
      "marc_xml = etree.parse('static/marc/marc-sample.xml')\n",
      "xml_marc_records = marc_xml.findall('/{{{0}}}record'.format(MARC_NS))"
     ],
     "language": "python",
     "metadata": {},
     "outputs": []
    },
    {
     "cell_type": "markdown",
     "metadata": {},
     "source": [
      "## Badge Assessment:\n",
      "\n",
      "*   Describe what happens when you execute the following code snippet: "
     ]
    },
    {
     "cell_type": "code",
     "collapsed": false,
     "input": [
      "print(etree.tostring(xml_marc_records[13], pretty_print=True))"
     ],
     "language": "python",
     "metadata": {},
     "outputs": []
    },
    {
     "cell_type": "markdown",
     "metadata": {},
     "source": [
      "[Answer here]"
     ]
    },
    {
     "cell_type": "markdown",
     "metadata": {},
     "source": [
      "*  How many &lt;marc:record&gt;  elements are in the xml_marc_records list?"
     ]
    },
    {
     "cell_type": "code",
     "collapsed": false,
     "input": [],
     "language": "python",
     "metadata": {},
     "outputs": []
    },
    {
     "cell_type": "markdown",
     "metadata": {},
     "source": [
      "*  Do a quick check to see if all of the MARC Records in our initial list of records were converted correctly to XML"
     ]
    },
    {
     "cell_type": "code",
     "collapsed": false,
     "input": [],
     "language": "python",
     "metadata": {},
     "outputs": []
    },
    {
     "cell_type": "markdown",
     "metadata": {},
     "source": [
      "## Task #4: Retrieving Data with XPath\n",
      "\n",
      "With MARC XML, we can use XML tools and technologies like XPath to filter and select elements."
     ]
    },
    {
     "cell_type": "code",
     "collapsed": false,
     "input": [
      "xpath_string = \"/{{{0}}}record/{{{0}}}datafield[@tag='245']/\".format(MARC_NS)\n",
      "title_elements = marc_xml.findall(xpath_string)\n",
      "for i, element in enumerate(title_elements[0:100]):\n",
      "    print(\"{0} subfield {1}: {2}\".format(i, element.attrib.get('code'), element.text))"
     ],
     "language": "python",
     "metadata": {},
     "outputs": []
    },
    {
     "cell_type": "markdown",
     "metadata": {},
     "source": [
      "The `title_elements` list includes all of the subfields from the **245** field."
     ]
    },
    {
     "cell_type": "code",
     "collapsed": false,
     "input": [
      "rec_245s = xml_marc_records[13].findall(\"{{{0}}}datafield[@tag='245']/\".format(MARC_NS))\n",
      "for element in rec_245s:\n",
      "    print(etree.tostring(element))"
     ],
     "language": "python",
     "metadata": {},
     "outputs": []
    },
    {
     "cell_type": "markdown",
     "metadata": {},
     "source": [
      "We are now going to create a function that takes either a MARC21 or MARCXML record and returns the Library of Congress or Local call-number for the record."
     ]
    },
    {
     "cell_type": "code",
     "collapsed": false,
     "input": [
      "def get_call_number(record):\n",
      "    \"\"\"Function retrives a LOC or Local call-number from a 090 MARC field from either\n",
      "    a MARC21 or MARC XML record\n",
      "    \n",
      "    :param record: MARC record\n",
      "    \"\"\"\n",
      "    if type(record) == pymarc.Record:\n",
      "        all_090s = record.get_fields('090')\n",
      "        return ''.join([''.join(x.get_subfields('a')) for x in all_090s])\n",
      "    else:\n",
      "        all_090s = record.findall(\"{{{0}}}datafield[@tag='090']/{{{0}}}subfield[@code='a']\".format(MARC_NS))\n",
      "        return ''.join([x.text for x in all_090s])"
     ],
     "language": "python",
     "metadata": {},
     "outputs": []
    },
    {
     "cell_type": "code",
     "collapsed": false,
     "input": [
      "print(get_call_number(marc_records[13]))\n",
      "print(get_call_number(xml_marc_records[78]))"
     ],
     "language": "python",
     "metadata": {},
     "outputs": []
    },
    {
     "cell_type": "heading",
     "level": 3,
     "metadata": {},
     "source": [
      "Badge Assessment:"
     ]
    },
    {
     "cell_type": "markdown",
     "metadata": {},
     "source": [
      "*   What happens when the function `get_call_number` is given a MARC record that does not have a MARC field of 090?"
     ]
    },
    {
     "cell_type": "markdown",
     "metadata": {},
     "source": [
      "[Write answer here]"
     ]
    },
    {
     "cell_type": "markdown",
     "metadata": {},
     "source": [
      "*  How could you improve the XPath \"/{{{0}}}record/{{{0}}}datafield[@tag='245']/\" to just select the **a** subfields of the 245 field? "
     ]
    },
    {
     "cell_type": "code",
     "collapsed": false,
     "input": [],
     "language": "python",
     "metadata": {},
     "outputs": []
    },
    {
     "cell_type": "markdown",
     "metadata": {},
     "source": [
      "[Write answer here]"
     ]
    },
    {
     "cell_type": "markdown",
     "metadata": {},
     "source": [
      "## Task #5: Creating JSON LinkedData from MARC \n",
      "\n",
      "In this task will use the schema.org vocabulary to create JSON linked data from our MARC records both in MARC21 and MARC XML formats. Below is an example of schema.org JSON-LD (short for JSON Linkded Data) for one of the resources used in this presentation, an article titled, *Linking Things on the Web: A Pragmatic Examination of Linked Data for Libraries, Archives and Museums* by Ed Summers and Dorothea Salo."
     ]
    },
    {
     "cell_type": "raw",
     "metadata": {},
     "source": [
      "{\n",
      "\n",
      "    \"@context\": {\n",
      "        \"@vocab\": \"http://schema.org/\",\n",
      "        \"bf\": \"http://bibframe.org/vocab\"\n",
      "    },\n",
      "    \"@id\": \"http://intro2libys.info/Article/linking-things-on-the-web\",\n",
      "    \"@type\": \"ScholarlyArticle\",\n",
      "    \"author\": [\n",
      "        {\n",
      "            \"@context\": {\n",
      "                \"@vocab\": \"http://schema.org/\",\n",
      "                \"bf\": \"http://bibframe.org/vocab/\"\n",
      "            },\n",
      "            \"@id\": \"http://intro2libsys.info/Person/summers-ed\",\n",
      "            \"@type\": \"Person\",\n",
      "            \"bf:adminInfo\": {\n",
      "                \"bf:creationDate\": \"2013-12-29T06:48:02.515163\",\n",
      "                \"bf:descriptionConventions\": \"Using schema.org for descriptive metadata\",\n",
      "                \"bf:descriptionLanguage\": \"English\"\n",
      "            },\n",
      "            \"familyName\": \"Summers\",\n",
      "            \"givenName\": \"Ed\",\n",
      "            \"name\": \"Ed Summers\",\n",
      "            \"url\": \"http://intro2libsys.info/Person/EdSummers\"\n",
      "        },\n",
      "        {\n",
      "            \"@context\": {\n",
      "                \"@vocab\": \"http://schema.org/\",\n",
      "                \"bf\": \"http://bibframe.org/vocab/\"\n",
      "            },\n",
      "            \"@id\": \"http://intro2libsys.info/Person/salo-dorothea\",\n",
      "            \"@type\": \"Person\",\n",
      "            \"bf:adminInfo\": {\n",
      "                \"bf:creationDate\": \"2013-12-29T06:50:22.868813\",\n",
      "                \"bf:descriptionConventions\": \"Using schema.org for descriptive metadata\",\n",
      "                \"bf:descriptionLanguage\": \"English\"\n",
      "            },\n",
      "            \"familyName\": \"Salo\",\n",
      "            \"givenName\": \"Dorothea\",\n",
      "            \"name\": \"Dorothea Salo\",\n",
      "            \"url\": \"http://intro2libsys.info/Person/DorotheaSalo\"\n",
      "        }\n",
      "    ],\n",
      "    \"bf:adminInfo\": {\n",
      "        \"bf:creationDate\": \"2013-12-12T23:22:13.566000\",\n",
      "        \"bf:descriptionConventions\": \"Using schema.org for descriptive metadata\",\n",
      "        \"bf:descriptionLanguage\": \"English\"\n",
      "    },\n",
      "    \"bookFormat\": \"EBook\",\n",
      "    \"description\": \"Short Ebook on Linked Data in the cultural heritage sector: libraries, archives and museums\",\n",
      "    \"headline\": \"Linking Things on the Web: A Pragmatic Examination of Linked Data for Libraries, Archives and Museums\",\n",
      "    \"name\": \"linking-things-on-the-web-a-pragmatic-examination-of-linked-data-for-libraries-archives-and-museums\",\n",
      "    \"url\": \"http://arxiv.org/abs/1302.4591\"\n",
      "\n",
      "}"
     ]
    },
    {
     "cell_type": "markdown",
     "metadata": {},
     "source": [
      "<script>\n",
      "var context = {\n",
      "   \"@context\": {\n",
      "        \"@vocab\": \"http://schema.org/\",\n",
      "        \"bf\": \"http://bibframe.org/vocab\"\n",
      "   }\n",
      " }\n",
      "</script>"
     ]
    },
    {
     "cell_type": "markdown",
     "metadata": {},
     "source": [
      "We first import the `json` Python module to work with JSON objects. The `json` module allows us to easily load JSON objects as native Python data structures like `dict` and `list`"
     ]
    },
    {
     "cell_type": "code",
     "collapsed": false,
     "input": [
      "import json"
     ],
     "language": "python",
     "metadata": {},
     "outputs": []
    },
    {
     "cell_type": "markdown",
     "metadata": {},
     "source": [
      "Next we create a Python `dict` for MARC record 4190 in our dataset. We will use the MARC21 records but we could have just as easily used the MARC XML records. The first line is setting a `@context` property for the JSON and making an assertation that the vocabulary is from **schema.org**. Record 4190 is a book of poems for young people, so we classify the new JSON-LD graph as a **schema.org** type of [Book](http://schema.org/Book)."
     ]
    },
    {
     "cell_type": "code",
     "collapsed": false,
     "input": [
      "record4190_json =  {\"@context\": {\"@vocab\": \"http://schema.org/\"},\n",
      "                    \"@type\": \"Book\"}"
     ],
     "language": "python",
     "metadata": {},
     "outputs": []
    },
    {
     "cell_type": "markdown",
     "metadata": {},
     "source": [
      "For the JSON-LD graph, will map the MARC title to the **schema.org** `name` property."
     ]
    },
    {
     "cell_type": "code",
     "collapsed": false,
     "input": [
      "record4190_json['name'] = marc_records[4189].title()\n",
      "print(record4190_json)"
     ],
     "language": "python",
     "metadata": {},
     "outputs": []
    },
    {
     "cell_type": "markdown",
     "metadata": {},
     "source": [
      "In the JSON-LD graph for *Between two Junes is a forest :a journal of everything*, we create a Python `dict` for the author, assigning a **schmea.org** type of [Person](http://schema.org/Person)."
     ]
    },
    {
     "cell_type": "code",
     "collapsed": false,
     "input": [
      "record4190_json['author'] = {\"@type\": \"Person\", \"name\": marc_records[4189].author()}"
     ],
     "language": "python",
     "metadata": {},
     "outputs": []
    },
    {
     "cell_type": "markdown",
     "metadata": {},
     "source": [
      "## Badge Assessment\n",
      "\n",
      "*   Add a new **schema.org** property of [copyrightYear](http://schema.org/copyrightYear) to `record4190`."
     ]
    },
    {
     "cell_type": "code",
     "collapsed": false,
     "input": [],
     "language": "python",
     "metadata": {},
     "outputs": []
    },
    {
     "cell_type": "markdown",
     "metadata": {},
     "source": [
      "*  Compare the outputs of the following code snippets:"
     ]
    },
    {
     "cell_type": "code",
     "collapsed": false,
     "input": [
      "record9_json = json.loads(marc_records[9].as_json())"
     ],
     "language": "python",
     "metadata": {},
     "outputs": []
    },
    {
     "cell_type": "code",
     "collapsed": false,
     "input": [
      "print(json.dumps(record9_json, indent=2, sort_keys=True))"
     ],
     "language": "python",
     "metadata": {},
     "outputs": []
    },
    {
     "cell_type": "code",
     "collapsed": false,
     "input": [
      "print(json.dumps(record4190_json, indent=2, sort_keys=True))"
     ],
     "language": "python",
     "metadata": {},
     "outputs": []
    },
    {
     "cell_type": "markdown",
     "metadata": {},
     "source": [
      "## Task #6: Create RDF Tuple\n",
      "\n"
     ]
    },
    {
     "cell_type": "code",
     "collapsed": false,
     "input": [
      "DCTERMS = Namespace(\"http://purl.org/dc/terms/\")\n",
      "BIBFRAME = Namespace(\"http://bibframe.org/vocab/\")\n",
      "SCHEMA_ORG = Namespace(\"http://schema.org/\")\n",
      "from rdflib import Graph, BNode, Literal\n",
      "bib_graph = Graph()\n",
      "entities = Namespace('http://intro2libsys.info/lita-webinar-2014/entities/')\n",
      "entities.one\n",
      "entity = entities.one"
     ],
     "language": "python",
     "metadata": {},
     "outputs": []
    },
    {
     "cell_type": "heading",
     "level": 3,
     "metadata": {},
     "source": [
      "Badge Assessment"
     ]
    },
    {
     "cell_type": "markdown",
     "metadata": {},
     "source": [
      "*  Create a second entity for the 3490 MARCXML document"
     ]
    },
    {
     "cell_type": "code",
     "collapsed": false,
     "input": [],
     "language": "python",
     "metadata": {},
     "outputs": []
    },
    {
     "cell_type": "heading",
     "level": 2,
     "metadata": {},
     "source": [
      "Task #7 -- Extract and Add DC Title and Creator Tuples"
     ]
    },
    {
     "cell_type": "markdown",
     "metadata": {},
     "source": [
      "First we will add **schema.org** properties to our our first entity in the `bib_graph`."
     ]
    },
    {
     "cell_type": "code",
     "collapsed": false,
     "input": [
      "bib_graph.add((entity,\n",
      "               SCHEMA_ORG.type,\n",
      "               URIRef(\"http://schema.org/Book\")))"
     ],
     "language": "python",
     "metadata": {},
     "outputs": []
    },
    {
     "cell_type": "markdown",
     "metadata": {},
     "source": [
      "Second we will add **schema.org** copyrightYear to the first entity"
     ]
    },
    {
     "cell_type": "code",
     "collapsed": false,
     "input": [
      "bib_graph.add((entity,\n",
      "               SCHEMA_ORG.copyrightYear,\n",
      "               Literal(marc_records[8]['260']['c'][1:])))"
     ],
     "language": "python",
     "metadata": {},
     "outputs": []
    },
    {
     "cell_type": "code",
     "collapsed": false,
     "input": [
      "bib_graph.add((entity, \n",
      "               DCTERMS.title, \n",
      "               Literal(marc_records[8].title())))\n",
      "bib_graph.add((entity,\n",
      "               DCTERMS.creator,\n",
      "               Literal(marc_records[8].author())))\n",
      "for subject,predicate,obj in bib_graph:\n",
      "    print(\"Subject: {0}\\nPredicate: {1}\\nObject: {2}\".format(subject,predicate,obj))\n",
      "    print(\"===\")\n",
      "\n",
      "if (entity, None, None) in bib_graph:\n",
      "    print(\"Graph contains triples about the entity\")"
     ],
     "language": "python",
     "metadata": {},
     "outputs": []
    },
    {
     "cell_type": "code",
     "collapsed": false,
     "input": [
      "from rdflib.serializer import Serializer\n",
      "from rdflib import plugin\n",
      "bib_graph.namespace_manager.reset()\n",
      "bib_graph.namespace_manager.bind(\"dc\", \"http://purl.org/dc/terms/\")\n",
      "bib_graph.namespace_manager.bind(\"schema\", SCHEMA_ORG) \n",
      "print(bib_graph.serialize(format='pretty-xml', indent=4))"
     ],
     "language": "python",
     "metadata": {},
     "outputs": []
    },
    {
     "cell_type": "code",
     "collapsed": false,
     "input": [
      "# Print in RDF N-Triples syntax\n",
      "print(bib_graph.serialize(format='n3'))"
     ],
     "language": "python",
     "metadata": {},
     "outputs": []
    },
    {
     "cell_type": "markdown",
     "metadata": {},
     "source": [
      "### Creating and asserting a linked URI for a 008 MARC language code\n",
      "\n"
     ]
    },
    {
     "cell_type": "code",
     "collapsed": false,
     "input": [
      "import urllib2\n",
      "from rdflib import URIRef\n",
      "\n",
      "def get_marc_lang_uri(marc_record):\n",
      "    \"\"\"Function returns a LOC or Local call-number from a 008 MARC field from either\n",
      "    a MARC21 or MARC XML record\n",
      "    \n",
      "    :param marc_record: MARC record\n",
      "    \"\"\"\n",
      "    loc_lang_base = 'http://id.loc.gov/vocabulary/languages'\n",
      "    if type(marc_record) == pymarc.Record:\n",
      "        lang_code = marc_record['008'].data[-5:-1]\n",
      "    else:\n",
      "        lang_code = marc_record.find(\"{{{0}}}controlfield[@tag='008']\".format(MARC_NS)).text[-5:-1]\n",
      "    loc_lang_uri = \"{0}/{1}\".format(loc_lang_base, lang_code).strip()\n",
      "    if urllib2.urlopen(loc_lang_uri).code != 200:\n",
      "        return\n",
      "    else:\n",
      "        return URIRef(loc_lang_uri)\n"
     ],
     "language": "python",
     "metadata": {},
     "outputs": []
    },
    {
     "cell_type": "heading",
     "level": 3,
     "metadata": {},
     "source": [
      "Badge Assessment"
     ]
    },
    {
     "cell_type": "code",
     "collapsed": false,
     "input": [
      "get_marc_lang_uri(marc_records[78])\n"
     ],
     "language": "python",
     "metadata": {},
     "outputs": []
    },
    {
     "cell_type": "markdown",
     "metadata": {},
     "source": [
      "*  How would you add a Dublin Core language tuple to the entity?"
     ]
    },
    {
     "cell_type": "code",
     "collapsed": false,
     "input": [],
     "language": "python",
     "metadata": {},
     "outputs": []
    },
    {
     "cell_type": "markdown",
     "metadata": {},
     "source": [
      "*  Using the second entity you created, add the title and the creator from the 3,490 MARCXML Document to the **bib_graph**"
     ]
    },
    {
     "cell_type": "code",
     "collapsed": false,
     "input": [
      "marc_record = xml_marc_records[3489]\n",
      "author_element = marc_record.find(\"{{{0}}}datafield[@tag='100']/\".format(MARC_NS))\n",
      "print(author_element.text)\n",
      "title_element = marc_record.find(\"{{{0}}}datafield[@tag='245']/\".format(MARC_NS))\n",
      "\n",
      "bib_graph.add((entity2,\n",
      "               DCTERMS.creator,\n",
      "               Literal(author_element.text)))\n",
      "bib_graph.add((entity2,\n",
      "               DCTERMS.title,\n",
      "               Literal(title_element.text)))"
     ],
     "language": "python",
     "metadata": {},
     "outputs": []
    },
    {
     "cell_type": "markdown",
     "metadata": {},
     "source": [
      "*  Add a Dublin Core Language triple to `entity2`"
     ]
    },
    {
     "cell_type": "code",
     "collapsed": false,
     "input": [
      "#print(etree.tostring(marc_record))\n",
      "lang_code = marc_record.find(\"{{{0}}}controlfield[@tag='008']\".format(MARC_NS))"
     ],
     "language": "python",
     "metadata": {},
     "outputs": []
    },
    {
     "cell_type": "code",
     "collapsed": false,
     "input": [
      "bib_graph.add((entity2,\n",
      "               DCTERMS.language,\n",
      "               get_marc_lang_uri(marc_record)))"
     ],
     "language": "python",
     "metadata": {},
     "outputs": []
    },
    {
     "cell_type": "code",
     "collapsed": false,
     "input": [
      "print(bib_graph.serialize(format='pretty-xml', indent=4))"
     ],
     "language": "python",
     "metadata": {},
     "outputs": []
    },
    {
     "cell_type": "heading",
     "level": 2,
     "metadata": {},
     "source": [
      "Task #8: Create HTML Template using MARC RDFa"
     ]
    },
    {
     "cell_type": "code",
     "collapsed": false,
     "input": [
      "template = \"\"\"<div vocab=\"http://dublincore.org\" type=\"{{ dc_type}}\">\n",
      " <h2 property=\"title\">{{ dc_title }}</h2>\n",
      "by  <span property=\"creator\">{{ dc_creator }}</span>\n",
      "</div>\"\"\"\n",
      "from jinja2 import Template\n",
      "rdfa_template = Template(template)\n",
      "print(rdfa_template.render(dc_type='text',\n",
      "                           dc_creator=bib_graph.value(entity, DCTERMS.creator),\n",
      "                           dc_title=bib_graph.value(entity, DCTERMS.title)))"
     ],
     "language": "python",
     "metadata": {},
     "outputs": []
    },
    {
     "cell_type": "markdown",
     "metadata": {},
     "source": [
      "Validating this MARC RDFa by copying the HTML and RdDFa at http://www.w3.org/2012/pyRdfa/Validator.html#distill_by_input"
     ]
    },
    {
     "cell_type": "markdown",
     "metadata": {},
     "source": [
      "## Badge Assessment"
     ]
    },
    {
     "cell_type": "markdown",
     "metadata": {},
     "source": [
      "*  Add the Dublin Core language triple to the RDFa template"
     ]
    },
    {
     "cell_type": "code",
     "collapsed": false,
     "input": [],
     "language": "python",
     "metadata": {},
     "outputs": []
    },
    {
     "cell_type": "markdown",
     "metadata": {},
     "source": [
      "## Python function for retrieving a language label based on the language URI"
     ]
    },
    {
     "cell_type": "code",
     "collapsed": false,
     "input": [
      "english_json = json.load(urllib2.urlopen('http://id.loc.gov/vocabulary/languages/eng.skos.json'))\n",
      "print(english_json[u'<http://id.loc.gov/vocabulary/languages/eng>'][ u'<http://www.w3.org/2004/02/skos/core#prefLabel>'])"
     ],
     "language": "python",
     "metadata": {},
     "outputs": []
    },
    {
     "cell_type": "code",
     "collapsed": false,
     "input": [
      "def get_marc_language_label(loc_language_uri):\n",
      "    \"\"\"Function returns the preferred label based on the Library of Congress MARC Language code\n",
      "    \n",
      "    :param loc_language_uri: URI of Library of Congress Linked Data service\n",
      "    \"\"\"\n",
      "    loc_language_uri = loc_language_uri.strip()\n",
      "    prefLabel_uri = u'<http://www.w3.org/2004/02/skos/core#prefLabel>'\n",
      "    \n",
      "    loc_skos_uri = \"{0}.skos.json\".format(loc_language_uri)\n",
      "    loc_language_key = u\"<{0}>\".format(loc_language_uri)\n",
      "    lang_json = json.load(urllib2.urlopen(loc_skos_uri))\n",
      "    return lang_json.get(u\"<{0}>\".format(loc_language_uri)).get(prefLabel_uri)[0].get(\"value\", None)\n",
      "\n",
      "print(get_marc_language_label('http://id.loc.gov/vocabulary/languages/eng'))"
     ],
     "language": "python",
     "metadata": {},
     "outputs": []
    },
    {
     "cell_type": "markdown",
     "metadata": {},
     "source": [
      "*  Render and print the RDFa of the entity you created from the MARC XML using the rdfa.html template. "
     ]
    },
    {
     "cell_type": "code",
     "collapsed": false,
     "input": [
      "rdfa_template = Template(template)\n",
      "print(rdfa_template.render(dc_type='text',\n",
      "                           dc_creator=bib_graph.value(entity2, DCTERMS.creator),\n",
      "                           dc_language=get_marc_language_label(bib_graph.value(entity2, DCTERMS.language)),\n",
      "                           dc_title=bib_graph.value(entity2, DCTERMS.title)))"
     ],
     "language": "python",
     "metadata": {},
     "outputs": []
    },
    {
     "cell_type": "markdown",
     "metadata": {},
     "source": [
      "*  Validate the RDFa you just created at http://www.w3.org/2012/pyRdfa/Validator.html#distill_by_input"
     ]
    },
    {
     "cell_type": "markdown",
     "metadata": {},
     "source": [
      "# Task #9: Create HTML5 marked up with **schema.org** Microdata using Jinja"
     ]
    },
    {
     "cell_type": "code",
     "collapsed": false,
     "input": [
      "micro_template = \"\"\"<div itemscope itemtype=\"{{ itemType }}\">\n",
      " <h2 itemprop=\"name\">{{ itemName }}</h2>\n",
      "    by <span property=\"author\">{{ author }}</span> \n",
      "</div>\"\"\""
     ],
     "language": "python",
     "metadata": {},
     "outputs": []
    },
    {
     "cell_type": "code",
     "collapsed": false,
     "input": [
      "micro_data_template = Template(micro_template)\n",
      "print(micro_data_template.render(itemType= bib_graph.value(entity, SCHEMA_ORG.type),\n",
      "                                 itemName= bib_graph.value(entity, DCTERMS.title),\n",
      "                                 author= bib_graph.value(entity, DCTERMS.creator)))"
     ],
     "language": "python",
     "metadata": {},
     "outputs": []
    },
    {
     "cell_type": "markdown",
     "metadata": {},
     "source": [
      "Test how Google will extract the data using its [rich snippets](http://www.google.com/webmasters/tools/richsnippets) testing tools."
     ]
    },
    {
     "cell_type": "heading",
     "level": 3,
     "metadata": {},
     "source": [
      "Badge Assessment"
     ]
    },
    {
     "cell_type": "markdown",
     "metadata": {},
     "source": [
      "*  Add and bind a new &lt;span&gt; element with an itemprop using the **schema.org** [copyrightYear](http://schema.org/copyrightYear) "
     ]
    },
    {
     "cell_type": "code",
     "collapsed": false,
     "input": [],
     "language": "python",
     "metadata": {},
     "outputs": []
    },
    {
     "cell_type": "code",
     "collapsed": false,
     "input": [],
     "language": "python",
     "metadata": {},
     "outputs": []
    },
    {
     "cell_type": "markdown",
     "metadata": {},
     "source": [
      "*   Test the rich snippet you just created in [rich snippets](http://www.google.com/webmasters/tools/richsnippets) "
     ]
    },
    {
     "cell_type": "markdown",
     "metadata": {},
     "source": [
      "## Task #10: Putting the \"linked\" into Linked Data\n",
      "\n",
      "So far up to this point we've been manipulating MARC records into first creating linked data triples and then creating RDFa, RDF XML, and JSON-LD representations of those graphs. We have also started using Library of Congress Linked Data to associate the Dublin Core language with our entities. All these critical steps allow us to publishing MARC records as linked data. Next, we're going to switch-up our tasks and look into how we can now use other linked-data resources to enhance our existing bibliographic graphs we have created earlier in this session."
     ]
    },
    {
     "cell_type": "code",
     "collapsed": false,
     "input": [
      "print(marc_records[191].title())\n",
      "moby_dict_dbpedia = 'http://dbpedia.org/data/Moby-Dick'\n",
      "moby_dict_url = \"{0}.json\".format(moby_dict_dbpedia)\n",
      "print(moby_dict_url)\n",
      "moby_dict_json = json.load(urllib2.urlopen(\"{0}.json\".format(moby_dict_dbpedia)))"
     ],
     "language": "python",
     "metadata": {},
     "outputs": []
    },
    {
     "cell_type": "code",
     "collapsed": false,
     "input": [
      "print(moby_dict_json[\"http://dbpedia.org/resource/Moby-Dick\"][u'])"
     ],
     "language": "python",
     "metadata": {},
     "outputs": []
    },
    {
     "cell_type": "markdown",
     "metadata": {},
     "source": [
      "## Badge Assessment\n",
      "\n",
      "*  Compare the subjects from the `marc_records` record 192 and the subjects from dbpedia."
     ]
    },
    {
     "cell_type": "code",
     "collapsed": false,
     "input": [],
     "language": "python",
     "metadata": {},
     "outputs": []
    }
   ],
   "metadata": {}
  }
 ]
}